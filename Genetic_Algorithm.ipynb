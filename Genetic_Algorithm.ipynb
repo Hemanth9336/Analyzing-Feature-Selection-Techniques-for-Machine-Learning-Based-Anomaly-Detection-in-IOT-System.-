{
  "cells": [
    {
      "cell_type": "markdown",
      "metadata": {
        "id": "view-in-github",
        "colab_type": "text"
      },
      "source": [
        "<a href=\"https://colab.research.google.com/github/Hemanth9336/Analyzing-Feature-Selection-Techniques-for-Machine-Learning-Based-Anomaly-Detection-in-IOT-System.-/blob/main/Genetic_Algorithm.ipynb\" target=\"_parent\"><img src=\"https://colab.research.google.com/assets/colab-badge.svg\" alt=\"Open In Colab\"/></a>"
      ]
    },
    {
      "cell_type": "code",
      "execution_count": null,
      "metadata": {
        "colab": {
          "base_uri": "https://localhost:8080/"
        },
        "id": "JYzJTXAK629m",
        "outputId": "fd668a7a-d341-4ce6-d336-c3043a347186"
      },
      "outputs": [
        {
          "output_type": "stream",
          "name": "stdout",
          "text": [
            "Requirement already satisfied: scikit-learn in /usr/local/lib/python3.7/dist-packages (1.0.2)\n",
            "Requirement already satisfied: threadpoolctl>=2.0.0 in /usr/local/lib/python3.7/dist-packages (from scikit-learn) (3.1.0)\n",
            "Requirement already satisfied: numpy>=1.14.6 in /usr/local/lib/python3.7/dist-packages (from scikit-learn) (1.21.5)\n",
            "Requirement already satisfied: scipy>=1.1.0 in /usr/local/lib/python3.7/dist-packages (from scikit-learn) (1.4.1)\n",
            "Requirement already satisfied: joblib>=0.11 in /usr/local/lib/python3.7/dist-packages (from scikit-learn) (1.1.0)\n"
          ]
        }
      ],
      "source": [
        "pip install scikit-learn"
      ]
    },
    {
      "cell_type": "code",
      "execution_count": null,
      "metadata": {
        "colab": {
          "base_uri": "https://localhost:8080/"
        },
        "id": "WZ22OLzo63qN",
        "outputId": "8f697843-b07e-423c-afd2-331d251d0460"
      },
      "outputs": [
        {
          "output_type": "stream",
          "name": "stdout",
          "text": [
            "Collecting sklearn-genetic\n",
            "  Downloading sklearn_genetic-0.5.1-py3-none-any.whl (11 kB)\n",
            "Requirement already satisfied: multiprocess in /usr/local/lib/python3.7/dist-packages (from sklearn-genetic) (0.70.12.2)\n",
            "Collecting deap>=1.0.2\n",
            "  Downloading deap-1.3.1-cp37-cp37m-manylinux_2_5_x86_64.manylinux1_x86_64.manylinux_2_12_x86_64.manylinux2010_x86_64.whl (160 kB)\n",
            "\u001b[K     |████████████████████████████████| 160 kB 9.7 MB/s \n",
            "\u001b[?25hRequirement already satisfied: numpy in /usr/local/lib/python3.7/dist-packages (from sklearn-genetic) (1.21.5)\n",
            "Requirement already satisfied: scikit-learn>=0.23 in /usr/local/lib/python3.7/dist-packages (from sklearn-genetic) (1.0.2)\n",
            "Requirement already satisfied: threadpoolctl>=2.0.0 in /usr/local/lib/python3.7/dist-packages (from scikit-learn>=0.23->sklearn-genetic) (3.1.0)\n",
            "Requirement already satisfied: scipy>=1.1.0 in /usr/local/lib/python3.7/dist-packages (from scikit-learn>=0.23->sklearn-genetic) (1.4.1)\n",
            "Requirement already satisfied: joblib>=0.11 in /usr/local/lib/python3.7/dist-packages (from scikit-learn>=0.23->sklearn-genetic) (1.1.0)\n",
            "Requirement already satisfied: dill>=0.3.4 in /usr/local/lib/python3.7/dist-packages (from multiprocess->sklearn-genetic) (0.3.4)\n",
            "Installing collected packages: deap, sklearn-genetic\n",
            "Successfully installed deap-1.3.1 sklearn-genetic-0.5.1\n"
          ]
        }
      ],
      "source": [
        "pip install sklearn-genetic"
      ]
    },
    {
      "cell_type": "code",
      "execution_count": null,
      "metadata": {
        "colab": {
          "base_uri": "https://localhost:8080/"
        },
        "id": "xbb2nlgVFlbN",
        "outputId": "8e2bb7e1-236d-4159-b0ef-70e0ec80ed2c"
      },
      "outputs": [
        {
          "output_type": "stream",
          "name": "stdout",
          "text": [
            "Collecting sklearn-genetic-opt\n",
            "  Downloading sklearn_genetic_opt-0.8.1-py3-none-any.whl (30 kB)\n",
            "Requirement already satisfied: deap>=1.3.1 in /usr/local/lib/python3.7/dist-packages (from sklearn-genetic-opt) (1.3.1)\n",
            "Requirement already satisfied: scikit-learn>=0.21.3 in /usr/local/lib/python3.7/dist-packages (from sklearn-genetic-opt) (1.0.2)\n",
            "Requirement already satisfied: numpy>=1.14.5 in /usr/local/lib/python3.7/dist-packages (from sklearn-genetic-opt) (1.21.5)\n",
            "Requirement already satisfied: tqdm>=4.61.1 in /usr/local/lib/python3.7/dist-packages (from sklearn-genetic-opt) (4.63.0)\n",
            "Requirement already satisfied: joblib>=0.11 in /usr/local/lib/python3.7/dist-packages (from scikit-learn>=0.21.3->sklearn-genetic-opt) (1.1.0)\n",
            "Requirement already satisfied: threadpoolctl>=2.0.0 in /usr/local/lib/python3.7/dist-packages (from scikit-learn>=0.21.3->sklearn-genetic-opt) (3.1.0)\n",
            "Requirement already satisfied: scipy>=1.1.0 in /usr/local/lib/python3.7/dist-packages (from scikit-learn>=0.21.3->sklearn-genetic-opt) (1.4.1)\n",
            "Installing collected packages: sklearn-genetic-opt\n",
            "Successfully installed sklearn-genetic-opt-0.8.1\n"
          ]
        }
      ],
      "source": [
        "pip install sklearn-genetic-opt"
      ]
    },
    {
      "cell_type": "code",
      "execution_count": null,
      "metadata": {
        "id": "7Ry1ySYok4Vq"
      },
      "outputs": [],
      "source": [
        "#Import libraries\n",
        "import numpy as np\n",
        "import pandas as pd\n",
        "import random\n",
        "import matplotlib.pyplot\n",
        "%matplotlib inline\n",
        "import warnings\n",
        "warnings.filterwarnings(\"ignore\")"
      ]
    },
    {
      "cell_type": "code",
      "execution_count": null,
      "metadata": {
        "id": "WI1C2HVPk87Q"
      },
      "outputs": [],
      "source": [
        "from sklearn.model_selection import train_test_split\n",
        "from sklearn.linear_model import LogisticRegression\n",
        "from sklearn.tree import DecisionTreeClassifier\n",
        "from sklearn.metrics import accuracy_score\n",
        "from sklearn import metrics"
      ]
    },
    {
      "cell_type": "code",
      "execution_count": null,
      "metadata": {
        "id": "FYQjChRelIpl"
      },
      "outputs": [],
      "source": [
        "#Load the data\n",
        "df1 = pd.read_csv('/content/Tuesday-WorkingHours.pcap_ISCX.csv')\n",
        "df2 = pd.read_csv('/content/Wednesday-workingHours.pcap_ISCX.csv')\n",
        "df3 = pd.read_csv('/content/Thursday-WorkingHours-Morning-WebAttacks.pcap_ISCX.csv')"
      ]
    },
    {
      "cell_type": "code",
      "execution_count": null,
      "metadata": {
        "id": "X1BXIfpiAx89"
      },
      "outputs": [],
      "source": [
        "#Combining of three Dataframes into one Dataframe \n",
        "frames = [df1,df2,df3]\n",
        "df = pd.concat(frames)"
      ]
    },
    {
      "cell_type": "code",
      "execution_count": null,
      "metadata": {
        "colab": {
          "base_uri": "https://localhost:8080/"
        },
        "id": "UUMR0m-xlpEA",
        "outputId": "7fe5e8da-aa13-4eb8-c479-4d4f2eae69d6"
      },
      "outputs": [
        {
          "output_type": "stream",
          "name": "stdout",
          "text": [
            "<class 'pandas.core.frame.DataFrame'>\n",
            "Int64Index: 80256 entries, 0 to 30927\n",
            "Data columns (total 79 columns):\n",
            " #   Column                        Non-Null Count  Dtype  \n",
            "---  ------                        --------------  -----  \n",
            " 0    Destination Port             80256 non-null  int64  \n",
            " 1    Flow Duration                80256 non-null  int64  \n",
            " 2    Total Fwd Packets            80256 non-null  int64  \n",
            " 3    Total Backward Packets       80256 non-null  int64  \n",
            " 4   Total Length of Fwd Packets   80256 non-null  int64  \n",
            " 5    Total Length of Bwd Packets  80256 non-null  int64  \n",
            " 6    Fwd Packet Length Max        80256 non-null  int64  \n",
            " 7    Fwd Packet Length Min        80256 non-null  int64  \n",
            " 8    Fwd Packet Length Mean       80256 non-null  float64\n",
            " 9    Fwd Packet Length Std        80256 non-null  float64\n",
            " 10  Bwd Packet Length Max         80256 non-null  int64  \n",
            " 11   Bwd Packet Length Min        80256 non-null  int64  \n",
            " 12   Bwd Packet Length Mean       80256 non-null  float64\n",
            " 13   Bwd Packet Length Std        80256 non-null  float64\n",
            " 14  Flow Bytes/s                  80233 non-null  float64\n",
            " 15   Flow Packets/s               80256 non-null  float64\n",
            " 16   Flow IAT Mean                80256 non-null  float64\n",
            " 17   Flow IAT Std                 80255 non-null  float64\n",
            " 18   Flow IAT Max                 80255 non-null  float64\n",
            " 19   Flow IAT Min                 80255 non-null  float64\n",
            " 20  Fwd IAT Total                 80255 non-null  float64\n",
            " 21   Fwd IAT Mean                 80255 non-null  float64\n",
            " 22   Fwd IAT Std                  80254 non-null  float64\n",
            " 23   Fwd IAT Max                  80254 non-null  float64\n",
            " 24   Fwd IAT Min                  80254 non-null  float64\n",
            " 25  Bwd IAT Total                 80254 non-null  float64\n",
            " 26   Bwd IAT Mean                 80254 non-null  float64\n",
            " 27   Bwd IAT Std                  80254 non-null  float64\n",
            " 28   Bwd IAT Max                  80254 non-null  float64\n",
            " 29   Bwd IAT Min                  80254 non-null  float64\n",
            " 30  Fwd PSH Flags                 80254 non-null  float64\n",
            " 31   Bwd PSH Flags                80254 non-null  float64\n",
            " 32   Fwd URG Flags                80254 non-null  float64\n",
            " 33   Bwd URG Flags                80254 non-null  float64\n",
            " 34   Fwd Header Length            80254 non-null  float64\n",
            " 35   Bwd Header Length            80254 non-null  float64\n",
            " 36  Fwd Packets/s                 80254 non-null  float64\n",
            " 37   Bwd Packets/s                80254 non-null  float64\n",
            " 38   Min Packet Length            80254 non-null  float64\n",
            " 39   Max Packet Length            80254 non-null  float64\n",
            " 40   Packet Length Mean           80254 non-null  float64\n",
            " 41   Packet Length Std            80254 non-null  float64\n",
            " 42   Packet Length Variance       80254 non-null  float64\n",
            " 43  FIN Flag Count                80254 non-null  float64\n",
            " 44   SYN Flag Count               80254 non-null  float64\n",
            " 45   RST Flag Count               80254 non-null  float64\n",
            " 46   PSH Flag Count               80254 non-null  float64\n",
            " 47   ACK Flag Count               80254 non-null  float64\n",
            " 48   URG Flag Count               80254 non-null  float64\n",
            " 49   CWE Flag Count               80254 non-null  float64\n",
            " 50   ECE Flag Count               80254 non-null  float64\n",
            " 51   Down/Up Ratio                80254 non-null  float64\n",
            " 52   Average Packet Size          80254 non-null  float64\n",
            " 53   Avg Fwd Segment Size         80254 non-null  float64\n",
            " 54   Avg Bwd Segment Size         80254 non-null  float64\n",
            " 55   Fwd Header Length.1          80254 non-null  float64\n",
            " 56  Fwd Avg Bytes/Bulk            80254 non-null  float64\n",
            " 57   Fwd Avg Packets/Bulk         80254 non-null  float64\n",
            " 58   Fwd Avg Bulk Rate            80253 non-null  float64\n",
            " 59   Bwd Avg Bytes/Bulk           80253 non-null  float64\n",
            " 60   Bwd Avg Packets/Bulk         80253 non-null  float64\n",
            " 61  Bwd Avg Bulk Rate             80253 non-null  float64\n",
            " 62  Subflow Fwd Packets           80253 non-null  float64\n",
            " 63   Subflow Fwd Bytes            80253 non-null  float64\n",
            " 64   Subflow Bwd Packets          80253 non-null  float64\n",
            " 65   Subflow Bwd Bytes            80253 non-null  float64\n",
            " 66  Init_Win_bytes_forward        80253 non-null  float64\n",
            " 67   Init_Win_bytes_backward      80253 non-null  float64\n",
            " 68   act_data_pkt_fwd             80253 non-null  float64\n",
            " 69   min_seg_size_forward         80253 non-null  float64\n",
            " 70  Active Mean                   80253 non-null  float64\n",
            " 71   Active Std                   80253 non-null  float64\n",
            " 72   Active Max                   80253 non-null  float64\n",
            " 73   Active Min                   80253 non-null  float64\n",
            " 74  Idle Mean                     80253 non-null  float64\n",
            " 75   Idle Std                     80253 non-null  float64\n",
            " 76   Idle Max                     80253 non-null  float64\n",
            " 77   Idle Min                     80253 non-null  float64\n",
            " 78   Label                        80253 non-null  object \n",
            "dtypes: float64(68), int64(10), object(1)\n",
            "memory usage: 49.0+ MB\n"
          ]
        }
      ],
      "source": [
        "#It gives an overview about a Dataframe columns\n",
        "df.info()"
      ]
    },
    {
      "cell_type": "code",
      "execution_count": null,
      "metadata": {
        "colab": {
          "base_uri": "https://localhost:8080/",
          "height": 351
        },
        "id": "002KZlk9uJfp",
        "outputId": "aacd6dd3-f074-4c55-d91f-f39b2550d504"
      },
      "outputs": [
        {
          "output_type": "execute_result",
          "data": {
            "text/plain": [
              "    Destination Port   Flow Duration   Total Fwd Packets  \\\n",
              "0                 88             640                   7   \n",
              "1                 88             900                   9   \n",
              "2                 88            1205                   7   \n",
              "3                 88             511                   7   \n",
              "4                 88             773                   9   \n",
              "\n",
              "    Total Backward Packets  Total Length of Fwd Packets  \\\n",
              "0                        4                          440   \n",
              "1                        4                          600   \n",
              "2                        4                         2776   \n",
              "3                        4                          452   \n",
              "4                        4                          612   \n",
              "\n",
              "    Total Length of Bwd Packets   Fwd Packet Length Max  \\\n",
              "0                           358                     220   \n",
              "1                          2944                     300   \n",
              "2                          2830                    1388   \n",
              "3                           370                     226   \n",
              "4                          2944                     306   \n",
              "\n",
              "    Fwd Packet Length Min   Fwd Packet Length Mean   Fwd Packet Length Std  \\\n",
              "0                       0                62.857143              107.349008   \n",
              "1                       0                66.666667              132.287566   \n",
              "2                       0               396.571429              677.274651   \n",
              "3                       0                64.571429              110.276708   \n",
              "4                       0                68.000000              134.933317   \n",
              "\n",
              "   ...   min_seg_size_forward  Active Mean   Active Std   Active Max  \\\n",
              "0  ...                   20.0          0.0          0.0          0.0   \n",
              "1  ...                   20.0          0.0          0.0          0.0   \n",
              "2  ...                   20.0          0.0          0.0          0.0   \n",
              "3  ...                   20.0          0.0          0.0          0.0   \n",
              "4  ...                   20.0          0.0          0.0          0.0   \n",
              "\n",
              "    Active Min  Idle Mean   Idle Std   Idle Max   Idle Min   Label  \n",
              "0          0.0        0.0        0.0        0.0        0.0  BENIGN  \n",
              "1          0.0        0.0        0.0        0.0        0.0  BENIGN  \n",
              "2          0.0        0.0        0.0        0.0        0.0  BENIGN  \n",
              "3          0.0        0.0        0.0        0.0        0.0  BENIGN  \n",
              "4          0.0        0.0        0.0        0.0        0.0  BENIGN  \n",
              "\n",
              "[5 rows x 79 columns]"
            ],
            "text/html": [
              "\n",
              "  <div id=\"df-1d3969f4-9672-4030-b7e8-5ee8e3b5b02c\">\n",
              "    <div class=\"colab-df-container\">\n",
              "      <div>\n",
              "<style scoped>\n",
              "    .dataframe tbody tr th:only-of-type {\n",
              "        vertical-align: middle;\n",
              "    }\n",
              "\n",
              "    .dataframe tbody tr th {\n",
              "        vertical-align: top;\n",
              "    }\n",
              "\n",
              "    .dataframe thead th {\n",
              "        text-align: right;\n",
              "    }\n",
              "</style>\n",
              "<table border=\"1\" class=\"dataframe\">\n",
              "  <thead>\n",
              "    <tr style=\"text-align: right;\">\n",
              "      <th></th>\n",
              "      <th>Destination Port</th>\n",
              "      <th>Flow Duration</th>\n",
              "      <th>Total Fwd Packets</th>\n",
              "      <th>Total Backward Packets</th>\n",
              "      <th>Total Length of Fwd Packets</th>\n",
              "      <th>Total Length of Bwd Packets</th>\n",
              "      <th>Fwd Packet Length Max</th>\n",
              "      <th>Fwd Packet Length Min</th>\n",
              "      <th>Fwd Packet Length Mean</th>\n",
              "      <th>Fwd Packet Length Std</th>\n",
              "      <th>...</th>\n",
              "      <th>min_seg_size_forward</th>\n",
              "      <th>Active Mean</th>\n",
              "      <th>Active Std</th>\n",
              "      <th>Active Max</th>\n",
              "      <th>Active Min</th>\n",
              "      <th>Idle Mean</th>\n",
              "      <th>Idle Std</th>\n",
              "      <th>Idle Max</th>\n",
              "      <th>Idle Min</th>\n",
              "      <th>Label</th>\n",
              "    </tr>\n",
              "  </thead>\n",
              "  <tbody>\n",
              "    <tr>\n",
              "      <th>0</th>\n",
              "      <td>88</td>\n",
              "      <td>640</td>\n",
              "      <td>7</td>\n",
              "      <td>4</td>\n",
              "      <td>440</td>\n",
              "      <td>358</td>\n",
              "      <td>220</td>\n",
              "      <td>0</td>\n",
              "      <td>62.857143</td>\n",
              "      <td>107.349008</td>\n",
              "      <td>...</td>\n",
              "      <td>20.0</td>\n",
              "      <td>0.0</td>\n",
              "      <td>0.0</td>\n",
              "      <td>0.0</td>\n",
              "      <td>0.0</td>\n",
              "      <td>0.0</td>\n",
              "      <td>0.0</td>\n",
              "      <td>0.0</td>\n",
              "      <td>0.0</td>\n",
              "      <td>BENIGN</td>\n",
              "    </tr>\n",
              "    <tr>\n",
              "      <th>1</th>\n",
              "      <td>88</td>\n",
              "      <td>900</td>\n",
              "      <td>9</td>\n",
              "      <td>4</td>\n",
              "      <td>600</td>\n",
              "      <td>2944</td>\n",
              "      <td>300</td>\n",
              "      <td>0</td>\n",
              "      <td>66.666667</td>\n",
              "      <td>132.287566</td>\n",
              "      <td>...</td>\n",
              "      <td>20.0</td>\n",
              "      <td>0.0</td>\n",
              "      <td>0.0</td>\n",
              "      <td>0.0</td>\n",
              "      <td>0.0</td>\n",
              "      <td>0.0</td>\n",
              "      <td>0.0</td>\n",
              "      <td>0.0</td>\n",
              "      <td>0.0</td>\n",
              "      <td>BENIGN</td>\n",
              "    </tr>\n",
              "    <tr>\n",
              "      <th>2</th>\n",
              "      <td>88</td>\n",
              "      <td>1205</td>\n",
              "      <td>7</td>\n",
              "      <td>4</td>\n",
              "      <td>2776</td>\n",
              "      <td>2830</td>\n",
              "      <td>1388</td>\n",
              "      <td>0</td>\n",
              "      <td>396.571429</td>\n",
              "      <td>677.274651</td>\n",
              "      <td>...</td>\n",
              "      <td>20.0</td>\n",
              "      <td>0.0</td>\n",
              "      <td>0.0</td>\n",
              "      <td>0.0</td>\n",
              "      <td>0.0</td>\n",
              "      <td>0.0</td>\n",
              "      <td>0.0</td>\n",
              "      <td>0.0</td>\n",
              "      <td>0.0</td>\n",
              "      <td>BENIGN</td>\n",
              "    </tr>\n",
              "    <tr>\n",
              "      <th>3</th>\n",
              "      <td>88</td>\n",
              "      <td>511</td>\n",
              "      <td>7</td>\n",
              "      <td>4</td>\n",
              "      <td>452</td>\n",
              "      <td>370</td>\n",
              "      <td>226</td>\n",
              "      <td>0</td>\n",
              "      <td>64.571429</td>\n",
              "      <td>110.276708</td>\n",
              "      <td>...</td>\n",
              "      <td>20.0</td>\n",
              "      <td>0.0</td>\n",
              "      <td>0.0</td>\n",
              "      <td>0.0</td>\n",
              "      <td>0.0</td>\n",
              "      <td>0.0</td>\n",
              "      <td>0.0</td>\n",
              "      <td>0.0</td>\n",
              "      <td>0.0</td>\n",
              "      <td>BENIGN</td>\n",
              "    </tr>\n",
              "    <tr>\n",
              "      <th>4</th>\n",
              "      <td>88</td>\n",
              "      <td>773</td>\n",
              "      <td>9</td>\n",
              "      <td>4</td>\n",
              "      <td>612</td>\n",
              "      <td>2944</td>\n",
              "      <td>306</td>\n",
              "      <td>0</td>\n",
              "      <td>68.000000</td>\n",
              "      <td>134.933317</td>\n",
              "      <td>...</td>\n",
              "      <td>20.0</td>\n",
              "      <td>0.0</td>\n",
              "      <td>0.0</td>\n",
              "      <td>0.0</td>\n",
              "      <td>0.0</td>\n",
              "      <td>0.0</td>\n",
              "      <td>0.0</td>\n",
              "      <td>0.0</td>\n",
              "      <td>0.0</td>\n",
              "      <td>BENIGN</td>\n",
              "    </tr>\n",
              "  </tbody>\n",
              "</table>\n",
              "<p>5 rows × 79 columns</p>\n",
              "</div>\n",
              "      <button class=\"colab-df-convert\" onclick=\"convertToInteractive('df-1d3969f4-9672-4030-b7e8-5ee8e3b5b02c')\"\n",
              "              title=\"Convert this dataframe to an interactive table.\"\n",
              "              style=\"display:none;\">\n",
              "        \n",
              "  <svg xmlns=\"http://www.w3.org/2000/svg\" height=\"24px\"viewBox=\"0 0 24 24\"\n",
              "       width=\"24px\">\n",
              "    <path d=\"M0 0h24v24H0V0z\" fill=\"none\"/>\n",
              "    <path d=\"M18.56 5.44l.94 2.06.94-2.06 2.06-.94-2.06-.94-.94-2.06-.94 2.06-2.06.94zm-11 1L8.5 8.5l.94-2.06 2.06-.94-2.06-.94L8.5 2.5l-.94 2.06-2.06.94zm10 10l.94 2.06.94-2.06 2.06-.94-2.06-.94-.94-2.06-.94 2.06-2.06.94z\"/><path d=\"M17.41 7.96l-1.37-1.37c-.4-.4-.92-.59-1.43-.59-.52 0-1.04.2-1.43.59L10.3 9.45l-7.72 7.72c-.78.78-.78 2.05 0 2.83L4 21.41c.39.39.9.59 1.41.59.51 0 1.02-.2 1.41-.59l7.78-7.78 2.81-2.81c.8-.78.8-2.07 0-2.86zM5.41 20L4 18.59l7.72-7.72 1.47 1.35L5.41 20z\"/>\n",
              "  </svg>\n",
              "      </button>\n",
              "      \n",
              "  <style>\n",
              "    .colab-df-container {\n",
              "      display:flex;\n",
              "      flex-wrap:wrap;\n",
              "      gap: 12px;\n",
              "    }\n",
              "\n",
              "    .colab-df-convert {\n",
              "      background-color: #E8F0FE;\n",
              "      border: none;\n",
              "      border-radius: 50%;\n",
              "      cursor: pointer;\n",
              "      display: none;\n",
              "      fill: #1967D2;\n",
              "      height: 32px;\n",
              "      padding: 0 0 0 0;\n",
              "      width: 32px;\n",
              "    }\n",
              "\n",
              "    .colab-df-convert:hover {\n",
              "      background-color: #E2EBFA;\n",
              "      box-shadow: 0px 1px 2px rgba(60, 64, 67, 0.3), 0px 1px 3px 1px rgba(60, 64, 67, 0.15);\n",
              "      fill: #174EA6;\n",
              "    }\n",
              "\n",
              "    [theme=dark] .colab-df-convert {\n",
              "      background-color: #3B4455;\n",
              "      fill: #D2E3FC;\n",
              "    }\n",
              "\n",
              "    [theme=dark] .colab-df-convert:hover {\n",
              "      background-color: #434B5C;\n",
              "      box-shadow: 0px 1px 3px 1px rgba(0, 0, 0, 0.15);\n",
              "      filter: drop-shadow(0px 1px 2px rgba(0, 0, 0, 0.3));\n",
              "      fill: #FFFFFF;\n",
              "    }\n",
              "  </style>\n",
              "\n",
              "      <script>\n",
              "        const buttonEl =\n",
              "          document.querySelector('#df-1d3969f4-9672-4030-b7e8-5ee8e3b5b02c button.colab-df-convert');\n",
              "        buttonEl.style.display =\n",
              "          google.colab.kernel.accessAllowed ? 'block' : 'none';\n",
              "\n",
              "        async function convertToInteractive(key) {\n",
              "          const element = document.querySelector('#df-1d3969f4-9672-4030-b7e8-5ee8e3b5b02c');\n",
              "          const dataTable =\n",
              "            await google.colab.kernel.invokeFunction('convertToInteractive',\n",
              "                                                     [key], {});\n",
              "          if (!dataTable) return;\n",
              "\n",
              "          const docLinkHtml = 'Like what you see? Visit the ' +\n",
              "            '<a target=\"_blank\" href=https://colab.research.google.com/notebooks/data_table.ipynb>data table notebook</a>'\n",
              "            + ' to learn more about interactive tables.';\n",
              "          element.innerHTML = '';\n",
              "          dataTable['output_type'] = 'display_data';\n",
              "          await google.colab.output.renderOutput(dataTable, element);\n",
              "          const docLink = document.createElement('div');\n",
              "          docLink.innerHTML = docLinkHtml;\n",
              "          element.appendChild(docLink);\n",
              "        }\n",
              "      </script>\n",
              "    </div>\n",
              "  </div>\n",
              "  "
            ]
          },
          "metadata": {},
          "execution_count": 8
        }
      ],
      "source": [
        "#By default the head function returns the first 5 rows\n",
        "df.head()"
      ]
    },
    {
      "cell_type": "code",
      "execution_count": null,
      "metadata": {
        "colab": {
          "base_uri": "https://localhost:8080/",
          "height": 351
        },
        "id": "1eCiyf7RuK6a",
        "outputId": "4a8a68fa-9b60-4f9a-aa61-140e917b263d"
      },
      "outputs": [
        {
          "output_type": "execute_result",
          "data": {
            "text/plain": [
              "        Destination Port   Flow Duration   Total Fwd Packets  \\\n",
              "30923                443        60485447                  13   \n",
              "30924                 80        60857363                  13   \n",
              "30925                 80        60784103                  10   \n",
              "30926                 80       115496215                  20   \n",
              "30927                 80       115569259                  16   \n",
              "\n",
              "        Total Backward Packets  Total Length of Fwd Packets  \\\n",
              "30923                       16                         1184   \n",
              "30924                       14                          489   \n",
              "30925                       10                          795   \n",
              "30926                       19                         4714   \n",
              "30927                       14                          472   \n",
              "\n",
              "        Total Length of Bwd Packets   Fwd Packet Length Max  \\\n",
              "30923                          4304                     517   \n",
              "30924                          9479                     423   \n",
              "30925                           340                     747   \n",
              "30926                           644                    1545   \n",
              "30927                           257                     388   \n",
              "\n",
              "        Fwd Packet Length Min   Fwd Packet Length Mean  \\\n",
              "30923                       0                91.076923   \n",
              "30924                       0                37.615385   \n",
              "30925                       0                79.500000   \n",
              "30926                       0               235.700000   \n",
              "30927                       0                29.500000   \n",
              "\n",
              "        Fwd Packet Length Std  ...   min_seg_size_forward  Active Mean  \\\n",
              "30923              185.477519  ...                   20.0  36791.33333   \n",
              "30924              115.805540  ...                   20.0  64145.16667   \n",
              "30925              234.543173  ...                   20.0  69414.16667   \n",
              "30926              561.867197  ...                   20.0  67059.45455   \n",
              "30927               95.611715  ...                    NaN          NaN   \n",
              "\n",
              "         Active Std   Active Max   Active Min     Idle Mean      Idle Std  \\\n",
              "30923   29183.25978      96361.0      24730.0  1.000000e+07   2578.819006   \n",
              "30924   32205.04413     129883.0      50846.0  1.000000e+07  13451.294590   \n",
              "30925   45825.78214     162955.0      50447.0  1.000000e+07  15195.601900   \n",
              "30926  143381.38690     499367.0      23479.0  9.999820e+06  13463.615110   \n",
              "30927           NaN          NaN          NaN           NaN           NaN   \n",
              "\n",
              "         Idle Max    Idle Min   Label  \n",
              "30923  10000000.0  10000000.0  BENIGN  \n",
              "30924  10000000.0   9978661.0  BENIGN  \n",
              "30925  10000000.0   9974689.0  BENIGN  \n",
              "30926  10000000.0   9960719.0  BENIGN  \n",
              "30927         NaN         NaN     NaN  \n",
              "\n",
              "[5 rows x 79 columns]"
            ],
            "text/html": [
              "\n",
              "  <div id=\"df-5107e32a-93ab-4348-8c1a-4a325d66e1f9\">\n",
              "    <div class=\"colab-df-container\">\n",
              "      <div>\n",
              "<style scoped>\n",
              "    .dataframe tbody tr th:only-of-type {\n",
              "        vertical-align: middle;\n",
              "    }\n",
              "\n",
              "    .dataframe tbody tr th {\n",
              "        vertical-align: top;\n",
              "    }\n",
              "\n",
              "    .dataframe thead th {\n",
              "        text-align: right;\n",
              "    }\n",
              "</style>\n",
              "<table border=\"1\" class=\"dataframe\">\n",
              "  <thead>\n",
              "    <tr style=\"text-align: right;\">\n",
              "      <th></th>\n",
              "      <th>Destination Port</th>\n",
              "      <th>Flow Duration</th>\n",
              "      <th>Total Fwd Packets</th>\n",
              "      <th>Total Backward Packets</th>\n",
              "      <th>Total Length of Fwd Packets</th>\n",
              "      <th>Total Length of Bwd Packets</th>\n",
              "      <th>Fwd Packet Length Max</th>\n",
              "      <th>Fwd Packet Length Min</th>\n",
              "      <th>Fwd Packet Length Mean</th>\n",
              "      <th>Fwd Packet Length Std</th>\n",
              "      <th>...</th>\n",
              "      <th>min_seg_size_forward</th>\n",
              "      <th>Active Mean</th>\n",
              "      <th>Active Std</th>\n",
              "      <th>Active Max</th>\n",
              "      <th>Active Min</th>\n",
              "      <th>Idle Mean</th>\n",
              "      <th>Idle Std</th>\n",
              "      <th>Idle Max</th>\n",
              "      <th>Idle Min</th>\n",
              "      <th>Label</th>\n",
              "    </tr>\n",
              "  </thead>\n",
              "  <tbody>\n",
              "    <tr>\n",
              "      <th>30923</th>\n",
              "      <td>443</td>\n",
              "      <td>60485447</td>\n",
              "      <td>13</td>\n",
              "      <td>16</td>\n",
              "      <td>1184</td>\n",
              "      <td>4304</td>\n",
              "      <td>517</td>\n",
              "      <td>0</td>\n",
              "      <td>91.076923</td>\n",
              "      <td>185.477519</td>\n",
              "      <td>...</td>\n",
              "      <td>20.0</td>\n",
              "      <td>36791.33333</td>\n",
              "      <td>29183.25978</td>\n",
              "      <td>96361.0</td>\n",
              "      <td>24730.0</td>\n",
              "      <td>1.000000e+07</td>\n",
              "      <td>2578.819006</td>\n",
              "      <td>10000000.0</td>\n",
              "      <td>10000000.0</td>\n",
              "      <td>BENIGN</td>\n",
              "    </tr>\n",
              "    <tr>\n",
              "      <th>30924</th>\n",
              "      <td>80</td>\n",
              "      <td>60857363</td>\n",
              "      <td>13</td>\n",
              "      <td>14</td>\n",
              "      <td>489</td>\n",
              "      <td>9479</td>\n",
              "      <td>423</td>\n",
              "      <td>0</td>\n",
              "      <td>37.615385</td>\n",
              "      <td>115.805540</td>\n",
              "      <td>...</td>\n",
              "      <td>20.0</td>\n",
              "      <td>64145.16667</td>\n",
              "      <td>32205.04413</td>\n",
              "      <td>129883.0</td>\n",
              "      <td>50846.0</td>\n",
              "      <td>1.000000e+07</td>\n",
              "      <td>13451.294590</td>\n",
              "      <td>10000000.0</td>\n",
              "      <td>9978661.0</td>\n",
              "      <td>BENIGN</td>\n",
              "    </tr>\n",
              "    <tr>\n",
              "      <th>30925</th>\n",
              "      <td>80</td>\n",
              "      <td>60784103</td>\n",
              "      <td>10</td>\n",
              "      <td>10</td>\n",
              "      <td>795</td>\n",
              "      <td>340</td>\n",
              "      <td>747</td>\n",
              "      <td>0</td>\n",
              "      <td>79.500000</td>\n",
              "      <td>234.543173</td>\n",
              "      <td>...</td>\n",
              "      <td>20.0</td>\n",
              "      <td>69414.16667</td>\n",
              "      <td>45825.78214</td>\n",
              "      <td>162955.0</td>\n",
              "      <td>50447.0</td>\n",
              "      <td>1.000000e+07</td>\n",
              "      <td>15195.601900</td>\n",
              "      <td>10000000.0</td>\n",
              "      <td>9974689.0</td>\n",
              "      <td>BENIGN</td>\n",
              "    </tr>\n",
              "    <tr>\n",
              "      <th>30926</th>\n",
              "      <td>80</td>\n",
              "      <td>115496215</td>\n",
              "      <td>20</td>\n",
              "      <td>19</td>\n",
              "      <td>4714</td>\n",
              "      <td>644</td>\n",
              "      <td>1545</td>\n",
              "      <td>0</td>\n",
              "      <td>235.700000</td>\n",
              "      <td>561.867197</td>\n",
              "      <td>...</td>\n",
              "      <td>20.0</td>\n",
              "      <td>67059.45455</td>\n",
              "      <td>143381.38690</td>\n",
              "      <td>499367.0</td>\n",
              "      <td>23479.0</td>\n",
              "      <td>9.999820e+06</td>\n",
              "      <td>13463.615110</td>\n",
              "      <td>10000000.0</td>\n",
              "      <td>9960719.0</td>\n",
              "      <td>BENIGN</td>\n",
              "    </tr>\n",
              "    <tr>\n",
              "      <th>30927</th>\n",
              "      <td>80</td>\n",
              "      <td>115569259</td>\n",
              "      <td>16</td>\n",
              "      <td>14</td>\n",
              "      <td>472</td>\n",
              "      <td>257</td>\n",
              "      <td>388</td>\n",
              "      <td>0</td>\n",
              "      <td>29.500000</td>\n",
              "      <td>95.611715</td>\n",
              "      <td>...</td>\n",
              "      <td>NaN</td>\n",
              "      <td>NaN</td>\n",
              "      <td>NaN</td>\n",
              "      <td>NaN</td>\n",
              "      <td>NaN</td>\n",
              "      <td>NaN</td>\n",
              "      <td>NaN</td>\n",
              "      <td>NaN</td>\n",
              "      <td>NaN</td>\n",
              "      <td>NaN</td>\n",
              "    </tr>\n",
              "  </tbody>\n",
              "</table>\n",
              "<p>5 rows × 79 columns</p>\n",
              "</div>\n",
              "      <button class=\"colab-df-convert\" onclick=\"convertToInteractive('df-5107e32a-93ab-4348-8c1a-4a325d66e1f9')\"\n",
              "              title=\"Convert this dataframe to an interactive table.\"\n",
              "              style=\"display:none;\">\n",
              "        \n",
              "  <svg xmlns=\"http://www.w3.org/2000/svg\" height=\"24px\"viewBox=\"0 0 24 24\"\n",
              "       width=\"24px\">\n",
              "    <path d=\"M0 0h24v24H0V0z\" fill=\"none\"/>\n",
              "    <path d=\"M18.56 5.44l.94 2.06.94-2.06 2.06-.94-2.06-.94-.94-2.06-.94 2.06-2.06.94zm-11 1L8.5 8.5l.94-2.06 2.06-.94-2.06-.94L8.5 2.5l-.94 2.06-2.06.94zm10 10l.94 2.06.94-2.06 2.06-.94-2.06-.94-.94-2.06-.94 2.06-2.06.94z\"/><path d=\"M17.41 7.96l-1.37-1.37c-.4-.4-.92-.59-1.43-.59-.52 0-1.04.2-1.43.59L10.3 9.45l-7.72 7.72c-.78.78-.78 2.05 0 2.83L4 21.41c.39.39.9.59 1.41.59.51 0 1.02-.2 1.41-.59l7.78-7.78 2.81-2.81c.8-.78.8-2.07 0-2.86zM5.41 20L4 18.59l7.72-7.72 1.47 1.35L5.41 20z\"/>\n",
              "  </svg>\n",
              "      </button>\n",
              "      \n",
              "  <style>\n",
              "    .colab-df-container {\n",
              "      display:flex;\n",
              "      flex-wrap:wrap;\n",
              "      gap: 12px;\n",
              "    }\n",
              "\n",
              "    .colab-df-convert {\n",
              "      background-color: #E8F0FE;\n",
              "      border: none;\n",
              "      border-radius: 50%;\n",
              "      cursor: pointer;\n",
              "      display: none;\n",
              "      fill: #1967D2;\n",
              "      height: 32px;\n",
              "      padding: 0 0 0 0;\n",
              "      width: 32px;\n",
              "    }\n",
              "\n",
              "    .colab-df-convert:hover {\n",
              "      background-color: #E2EBFA;\n",
              "      box-shadow: 0px 1px 2px rgba(60, 64, 67, 0.3), 0px 1px 3px 1px rgba(60, 64, 67, 0.15);\n",
              "      fill: #174EA6;\n",
              "    }\n",
              "\n",
              "    [theme=dark] .colab-df-convert {\n",
              "      background-color: #3B4455;\n",
              "      fill: #D2E3FC;\n",
              "    }\n",
              "\n",
              "    [theme=dark] .colab-df-convert:hover {\n",
              "      background-color: #434B5C;\n",
              "      box-shadow: 0px 1px 3px 1px rgba(0, 0, 0, 0.15);\n",
              "      filter: drop-shadow(0px 1px 2px rgba(0, 0, 0, 0.3));\n",
              "      fill: #FFFFFF;\n",
              "    }\n",
              "  </style>\n",
              "\n",
              "      <script>\n",
              "        const buttonEl =\n",
              "          document.querySelector('#df-5107e32a-93ab-4348-8c1a-4a325d66e1f9 button.colab-df-convert');\n",
              "        buttonEl.style.display =\n",
              "          google.colab.kernel.accessAllowed ? 'block' : 'none';\n",
              "\n",
              "        async function convertToInteractive(key) {\n",
              "          const element = document.querySelector('#df-5107e32a-93ab-4348-8c1a-4a325d66e1f9');\n",
              "          const dataTable =\n",
              "            await google.colab.kernel.invokeFunction('convertToInteractive',\n",
              "                                                     [key], {});\n",
              "          if (!dataTable) return;\n",
              "\n",
              "          const docLinkHtml = 'Like what you see? Visit the ' +\n",
              "            '<a target=\"_blank\" href=https://colab.research.google.com/notebooks/data_table.ipynb>data table notebook</a>'\n",
              "            + ' to learn more about interactive tables.';\n",
              "          element.innerHTML = '';\n",
              "          dataTable['output_type'] = 'display_data';\n",
              "          await google.colab.output.renderOutput(dataTable, element);\n",
              "          const docLink = document.createElement('div');\n",
              "          docLink.innerHTML = docLinkHtml;\n",
              "          element.appendChild(docLink);\n",
              "        }\n",
              "      </script>\n",
              "    </div>\n",
              "  </div>\n",
              "  "
            ]
          },
          "metadata": {},
          "execution_count": 9
        }
      ],
      "source": [
        "#By default the tail function returns the first 5 rows\n",
        "df.tail()"
      ]
    },
    {
      "cell_type": "code",
      "execution_count": null,
      "metadata": {
        "colab": {
          "base_uri": "https://localhost:8080/"
        },
        "id": "KfwdCj12uNnV",
        "outputId": "9392d826-7617-4921-e56f-00429f496e06"
      },
      "outputs": [
        {
          "output_type": "execute_result",
          "data": {
            "text/plain": [
              "(80256, 79)"
            ]
          },
          "metadata": {},
          "execution_count": 10
        }
      ],
      "source": [
        "#Count the number of rows and column in the data set\n",
        "df.shape"
      ]
    },
    {
      "cell_type": "code",
      "execution_count": null,
      "metadata": {
        "colab": {
          "base_uri": "https://localhost:8080/"
        },
        "id": "7QubdbrEuQid",
        "outputId": "b03bf144-1808-4309-a45c-bbb321f3a1e5"
      },
      "outputs": [
        {
          "output_type": "execute_result",
          "data": {
            "text/plain": [
              "Index([' Destination Port', ' Flow Duration', ' Total Fwd Packets',\n",
              "       ' Total Backward Packets', 'Total Length of Fwd Packets',\n",
              "       ' Total Length of Bwd Packets', ' Fwd Packet Length Max',\n",
              "       ' Fwd Packet Length Min', ' Fwd Packet Length Mean',\n",
              "       ' Fwd Packet Length Std', 'Bwd Packet Length Max',\n",
              "       ' Bwd Packet Length Min', ' Bwd Packet Length Mean',\n",
              "       ' Bwd Packet Length Std', 'Flow Bytes/s', ' Flow Packets/s',\n",
              "       ' Flow IAT Mean', ' Flow IAT Std', ' Flow IAT Max', ' Flow IAT Min',\n",
              "       'Fwd IAT Total', ' Fwd IAT Mean', ' Fwd IAT Std', ' Fwd IAT Max',\n",
              "       ' Fwd IAT Min', 'Bwd IAT Total', ' Bwd IAT Mean', ' Bwd IAT Std',\n",
              "       ' Bwd IAT Max', ' Bwd IAT Min', 'Fwd PSH Flags', ' Bwd PSH Flags',\n",
              "       ' Fwd URG Flags', ' Bwd URG Flags', ' Fwd Header Length',\n",
              "       ' Bwd Header Length', 'Fwd Packets/s', ' Bwd Packets/s',\n",
              "       ' Min Packet Length', ' Max Packet Length', ' Packet Length Mean',\n",
              "       ' Packet Length Std', ' Packet Length Variance', 'FIN Flag Count',\n",
              "       ' SYN Flag Count', ' RST Flag Count', ' PSH Flag Count',\n",
              "       ' ACK Flag Count', ' URG Flag Count', ' CWE Flag Count',\n",
              "       ' ECE Flag Count', ' Down/Up Ratio', ' Average Packet Size',\n",
              "       ' Avg Fwd Segment Size', ' Avg Bwd Segment Size',\n",
              "       ' Fwd Header Length.1', 'Fwd Avg Bytes/Bulk', ' Fwd Avg Packets/Bulk',\n",
              "       ' Fwd Avg Bulk Rate', ' Bwd Avg Bytes/Bulk', ' Bwd Avg Packets/Bulk',\n",
              "       'Bwd Avg Bulk Rate', 'Subflow Fwd Packets', ' Subflow Fwd Bytes',\n",
              "       ' Subflow Bwd Packets', ' Subflow Bwd Bytes', 'Init_Win_bytes_forward',\n",
              "       ' Init_Win_bytes_backward', ' act_data_pkt_fwd',\n",
              "       ' min_seg_size_forward', 'Active Mean', ' Active Std', ' Active Max',\n",
              "       ' Active Min', 'Idle Mean', ' Idle Std', ' Idle Max', ' Idle Min',\n",
              "       ' Label'],\n",
              "      dtype='object')"
            ]
          },
          "metadata": {},
          "execution_count": 11
        }
      ],
      "source": [
        "#Explore the data\n",
        "df.columns"
      ]
    },
    {
      "cell_type": "code",
      "execution_count": null,
      "metadata": {
        "id": "tA508TuVBm9o"
      },
      "outputs": [],
      "source": [
        "df = df.replace((np.inf, -np.inf, np.nan), 0).reset_index(drop=True)"
      ]
    },
    {
      "cell_type": "code",
      "execution_count": null,
      "metadata": {
        "id": "yloTXXKZBmGF"
      },
      "outputs": [],
      "source": [
        "df.rename({' Label':'Attacks'},axis=1,inplace=True)"
      ]
    },
    {
      "cell_type": "code",
      "execution_count": null,
      "metadata": {
        "id": "vrtfvDyglqtx"
      },
      "outputs": [],
      "source": [
        "from sklearn.preprocessing import LabelEncoder\n",
        "\n",
        "Attacks_encoder = LabelEncoder()\n",
        "df['Attacks']=Attacks_encoder.fit_transform(df['Attacks'].astype(str))\n",
        "\n",
        "label=df['Attacks']"
      ]
    },
    {
      "cell_type": "code",
      "execution_count": null,
      "metadata": {
        "id": "wiPuEOKMmNu2"
      },
      "outputs": [],
      "source": [
        "#splitting the model into training and testing set\n",
        "X_train, X_test, y_train, y_test = train_test_split(df, \n",
        "                                                    label, test_size=0.30, \n",
        "                                                    random_state=101)"
      ]
    },
    {
      "cell_type": "code",
      "execution_count": null,
      "metadata": {
        "colab": {
          "base_uri": "https://localhost:8080/"
        },
        "id": "co2TfHqZQ20v",
        "outputId": "8decd4b7-9a5d-49c3-cad1-f0a552c0a4e0"
      },
      "outputs": [
        {
          "output_type": "stream",
          "name": "stdout",
          "text": [
            "Accuracy: 0.9999872697414485\n"
          ]
        }
      ],
      "source": [
        "clf = DecisionTreeClassifier()\n",
        "\n",
        "# Train Decision Tree Classifer\n",
        "clf = clf.fit(X_train,y_train)\n",
        "\n",
        "#Predict the response for test dataset\n",
        "y_pred = clf.predict(X_test)\n",
        "print(\"Accuracy:\",metrics.accuracy_score(y_test, y_pred))"
      ]
    },
    {
      "cell_type": "code",
      "execution_count": null,
      "metadata": {
        "colab": {
          "base_uri": "https://localhost:8080/"
        },
        "id": "JldvylT8mUXk",
        "outputId": "d24acbeb-3bc6-44f3-f3c2-7a9c1f46a977"
      },
      "outputs": [
        {
          "output_type": "stream",
          "name": "stdout",
          "text": [
            "Accuracy = 0.968288925948086\n"
          ]
        }
      ],
      "source": [
        "#training a logistics regression model\n",
        "logmodel = LogisticRegression()\n",
        "logmodel.fit(X_train,y_train)\n",
        "predictions = logmodel.predict(X_test)\n",
        "print(\"Accuracy = \"+ str(accuracy_score(y_test,predictions)))"
      ]
    },
    {
      "cell_type": "code",
      "execution_count": null,
      "metadata": {
        "id": "gFgNfjtomaFj"
      },
      "outputs": [],
      "source": [
        "#defining various steps required for the genetic algorithm\n",
        "def initilization_of_population(size,n_feat):\n",
        "    population = []\n",
        "    for i in range(size):\n",
        "        chromosome = np.ones(n_feat,dtype=np.bool)\n",
        "        chromosome[:int(0.3*n_feat)]=False\n",
        "        np.random.shuffle(chromosome)\n",
        "        population.append(chromosome)\n",
        "    return population\n",
        "\n",
        "def fitness_score(population):\n",
        "    scores = []\n",
        "    for chromosome in population:\n",
        "        logmodel.fit(X_train.iloc[:,chromosome],y_train)\n",
        "        predictions = logmodel.predict(X_test.iloc[:,chromosome])\n",
        "        scores.append(accuracy_score(y_test,predictions))\n",
        "    scores, population = np.array(scores), np.array(population) \n",
        "    inds = np.argsort(scores)\n",
        "    return list(scores[inds][::-1]), list(population[inds,:][::-1])\n",
        "\n",
        "def selection(pop_after_fit,n_parents):\n",
        "    population_nextgen = []\n",
        "    for i in range(n_parents):\n",
        "        population_nextgen.append(pop_after_fit[i])\n",
        "    return population_nextgen\n",
        "\n",
        "def crossover(pop_after_sel):\n",
        "    population_nextgen=pop_after_sel\n",
        "    for i in range(len(pop_after_sel)):\n",
        "        child=pop_after_sel[i]\n",
        "        child[3:7]=pop_after_sel[(i+1)%len(pop_after_sel)][3:7]\n",
        "        population_nextgen.append(child)\n",
        "    return population_nextgen\n",
        "\n",
        "def mutation(pop_after_cross,mutation_rate):\n",
        "    population_nextgen = []\n",
        "    for i in range(0,len(pop_after_cross)):\n",
        "        chromosome = pop_after_cross[i]\n",
        "        for j in range(len(chromosome)):\n",
        "            if random.random() < mutation_rate:\n",
        "                chromosome[j]= not chromosome[j]\n",
        "        population_nextgen.append(chromosome)\n",
        "    #print(population_nextgen)\n",
        "    return population_nextgen\n",
        "\n",
        "def generations(size,n_feat,n_parents,mutation_rate,n_gen,X_train,\n",
        "                                   X_test, y_train, y_test):\n",
        "    best_chromo= []\n",
        "    best_score= []\n",
        "    population_nextgen=initilization_of_population(size,n_feat)\n",
        "    for i in range(n_gen):\n",
        "        scores, pop_after_fit = fitness_score(population_nextgen)\n",
        "        print(scores[:2])\n",
        "        pop_after_sel = selection(pop_after_fit,n_parents)\n",
        "        pop_after_cross = crossover(pop_after_sel)\n",
        "        population_nextgen = mutation(pop_after_cross,mutation_rate)\n",
        "        best_chromo.append(pop_after_fit[0])\n",
        "        best_score.append(scores[0])\n",
        "    return best_chromo,best_score"
      ]
    },
    {
      "cell_type": "markdown",
      "metadata": {
        "id": "K9b_0clbD4B3"
      },
      "source": [
        "##Print the selected features"
      ]
    },
    {
      "cell_type": "code",
      "execution_count": null,
      "metadata": {
        "colab": {
          "base_uri": "https://localhost:8080/"
        },
        "id": "jpNpF2z67eyN",
        "outputId": "86d23e3b-eed3-46f8-dc5d-768bcc327a52"
      },
      "outputs": [
        {
          "name": "stdout",
          "output_type": "stream",
          "text": [
            "Selecting features with genetic algorithm.\n",
            "gen\tnevals\tavg                            \tstd                            \tmin                            \tmax                               \n",
            "0  \t60    \t[ 0.971844  5.383333  0.003739]\t[ 0.032894  2.714723  0.021349]\t[ 0.754959  1.        0.000059]\t[  0.980651  10.         0.16271 ]\n",
            "1  \t50    \t[-499.07301     3.283333  500.004994]\t[ 2179.662138     1.984033  2179.448326]\t[-10000.            0.            0.000059]\t[     0.986509      9.        10000.      ]\n",
            "2  \t51    \t[-499.071009    3.083333  500.001505]\t[ 2179.662597     2.525151  2179.449126]\t[-10000.            0.            0.000059]\t[     0.993698     10.        10000.      ]\n",
            "3  \t51    \t[-665.751288    3.683333  666.669658]\t[ 2494.682903     2.831323  2494.437458]\t[-10000.            0.            0.000059]\t[     0.993847     10.        10000.      ]\n",
            "4  \t54    \t[-165.696714    4.466667  166.668194]\t[ 1280.317235     2.472965  1280.190759]\t[-10000.            0.            0.000059]\t[     0.993847     10.        10000.      ]\n",
            "5  \t56    \t[-165.692732    3.733333  166.668417]\t[ 1280.317753     2.151485  1280.19073 ]\t[-10000.            1.            0.000059]\t[     0.994248     14.        10000.      ]\n",
            "6  \t52    \t[-165.689755    3.25      166.668483]\t[ 1280.318141     1.649495  1280.190721]\t[-10000.            1.            0.000845]\t[     0.994248     14.        10000.      ]\n",
            "7  \t50    \t[ 0.993259  3.733333  0.001807]      \t[ 0.002944  1.536952  0.000528]         \t[ 0.977627  1.        0.000096]            \t[  0.995729  10.         0.00444 ]         \n",
            "8  \t54    \t[ 0.99357   4.166667  0.001891]      \t[ 0.002261  1.416176  0.000894]         \t[ 0.977458  2.        0.000461]            \t[  0.995729  10.         0.006966]         \n",
            "9  \t54    \t[-332.373189    4.7       333.335195]\t[ 1795.23323      2.147091  1795.05459 ]\t[-10000.          3.          0.0009]      \t[     0.997463     15.        10000.      ]\n",
            "10 \t54    \t[ 0.993833  4.333333  0.001787]      \t[ 0.003442  1.72884   0.001298]         \t[ 0.979594  2.        0.000499]            \t[  0.997484  10.         0.007348]         \n",
            "11 \t54    \t[-332.373046    6.25      333.335164]\t[ 1795.233257     2.446937  1795.054596]\t[-10000.            2.            0.000224]\t[     0.997484     15.        10000.      ]\n",
            "12 \t52    \t[ 0.995936  6.583333  0.001479]      \t[ 0.003891  1.417647  0.001597]         \t[ 0.981138  3.        0.000335]            \t[  0.997484  10.         0.007348]         \n",
            "13 \t54    \t[-332.369354    6.5       333.334283]\t[ 1795.233942     2.04532   1795.054759]\t[-10000.            4.            0.000862]\t[     0.997484     15.        10000.      ]\n",
            "14 \t53    \t[-165.686178    5.3       166.667548]\t[ 1280.318607     1.6052    1280.190843]\t[-10000.            4.            0.000862]\t[     0.997484     15.        10000.      ]\n",
            "15 \t52    \t[ 0.997484  4.183333  0.000862]      \t[ 0.000005  0.499722  0.000003]         \t[ 0.997484  4.        0.000862]            \t[ 0.997526  7.        0.000884]            \n",
            "[ True False  True False False False False False False False False False\n",
            " False False False False False False False False False False False False\n",
            " False False False False False False False False False False False False\n",
            " False False False  True False False False False False False False False\n",
            " False False False False False False False False False False False False\n",
            " False False False False False False  True  True False  True False False\n",
            " False False False False False False False False False False False False\n",
            " False False False False False False False False False False False False\n",
            " False False  True False False False False False False False False False\n",
            " False]\n"
          ]
        }
      ],
      "source": [
        "from sklearn.svm import LinearSVC\n",
        "from __future__ import print_function\n",
        "from sklearn.preprocessing import LabelEncoder\n",
        "from sklearn import datasets, linear_model\n",
        "\n",
        "from genetic_selection import GeneticSelectionCV\n",
        "\n",
        "\n",
        "def main():\n",
        "    #Combining of three Dataframes into one Dataframe \n",
        "    frames = [df1,df2,df3]\n",
        "    df = pd.concat(frames)\n",
        "    # Some noisy data not correlated\n",
        "    e = np.random.uniform(0, 0.2, size=(len(df), 30))\n",
        "    df = df.replace((np.inf, -np.inf, np.nan), 0).reset_index(drop=True)\n",
        "    \n",
        "    df.rename({' Label':'Attacks'},axis=1,inplace=True)\n",
        "    Attacks_encoder = LabelEncoder()\n",
        "    df['Attacks']=Attacks_encoder.fit_transform(df['Attacks'].astype(str))\n",
        "\n",
        "    X = np.hstack((df, e))\n",
        "    y = df['Attacks']\n",
        "\n",
        "    estimators = linear_model.LogisticRegression(solver=\"liblinear\", multi_class=\"ovr\")\n",
        "\n",
        "    selectors = GeneticSelectionCV(estimators,\n",
        "                                  cv=6,\n",
        "                                  verbose=2,\n",
        "                                  scoring=\"accuracy\",\n",
        "                                  max_features=10,\n",
        "                                  n_population=60,\n",
        "                                  crossover_proba=0.9,\n",
        "                                  mutation_proba=0.03,\n",
        "                                  n_generations=15,\n",
        "                                  crossover_independent_proba=0.6,\n",
        "                                  mutation_independent_proba=0.06,\n",
        "                                  tournament_size=4,\n",
        "                                  n_gen_no_change=20,\n",
        "                                  caching=True,\n",
        "                                  n_jobs=-2)\n",
        "    selectors = selectors.fit(X, y)\n",
        "\n",
        "    print(selectors.support_)\n",
        "\n",
        "\n",
        "if __name__ == \"__main__\":\n",
        "    main()"
      ]
    },
    {
      "cell_type": "code",
      "execution_count": null,
      "metadata": {
        "id": "_WEXZlHBEuQV"
      },
      "outputs": [],
      "source": [
        "from sklearn import datasets\n",
        "from sklearn.ensemble import RandomForestClassifier\n",
        "from sklearn.model_selection import train_test_split\n",
        "from sklearn.metrics import accuracy_score\n",
        "from sklearn.preprocessing import LabelEncoder\n",
        "import pandas as pd\n",
        "import numpy as np\n",
        "import warnings\n",
        "warnings.filterwarnings(\"ignore\")\n",
        "\n",
        "#Load the data\n",
        "data1 = pd.read_csv('/content/Tuesday-WorkingHours.pcap_ISCX.csv')\n",
        "data2 = pd.read_csv('/content/Wednesday-workingHours.pcap_ISCX.csv')\n",
        "data3 = pd.read_csv('/content/Thursday-WorkingHours-Morning-WebAttacks.pcap_ISCX.csv')\n",
        "\n",
        "#Combining of three Dataframes into one Dataframe \n",
        "frames = [data1,data2,data3]\n",
        "data = pd.concat(frames)\n",
        "\n",
        "data = data.replace((np.inf, -np.inf, np.nan), 0).reset_index(drop=True)\n",
        "\n",
        "data.rename({' Label':'Attacks'},axis=1,inplace=True)\n",
        "\n",
        "Attacks_encoder = LabelEncoder()\n",
        "data['Attacks']=Attacks_encoder.fit_transform(data['Attacks'].astype(str))\n",
        "\n",
        "n_samples = len(data)\n",
        "X = data\n",
        "y = data['Attacks']\n",
        "\n",
        "X_train, X_test, y_train, y_test = train_test_split(X, y, test_size=0.7)\n",
        "\n",
        "clf = RandomForestClassifier()"
      ]
    },
    {
      "cell_type": "markdown",
      "metadata": {
        "id": "aEaM1KoRH91l"
      },
      "source": [
        "##data is fitted with the help of GASearchCV"
      ]
    },
    {
      "cell_type": "code",
      "execution_count": null,
      "metadata": {
        "id": "wcLhNjQ8Et_P"
      },
      "outputs": [],
      "source": [
        "from sklearn_genetic import GASearchCV\n",
        "from sklearn_genetic.space import Continuous, Categorical, Integer\n",
        "from sklearn_genetic.plots import plot_fitness_evolution, plot_search_space\n",
        "from sklearn.model_selection import StratifiedKFold\n",
        "import matplotlib.pyplot as plt\n",
        "\n",
        "param_grid = {'min_weight_fraction_leaf': Continuous(0.01, 0.5, distribution='log-uniform'),\n",
        "              'bootstrap': Categorical([True, False]),\n",
        "              'max_depth': Integer(2, 30), \n",
        "              'max_leaf_nodes': Integer(2, 35), \n",
        "              'n_estimators': Integer(100, 300)}\n",
        "\n",
        "cv = StratifiedKFold(n_splits=3, shuffle=True)\n",
        "\n",
        "evolved_estimator = GASearchCV(estimator=clf,\n",
        "                               cv=cv,\n",
        "                               scoring='accuracy',\n",
        "                               population_size=10,\n",
        "                               generations=15,\n",
        "                               tournament_size=3,\n",
        "                               elitism=True,\n",
        "                               crossover_probability=0.9,\n",
        "                               mutation_probability=0.03,\n",
        "                               param_grid=param_grid,\n",
        "                               criteria='max',\n",
        "                               algorithm='eaMuPlusLambda',\n",
        "                               n_jobs=-1,\n",
        "                               verbose=True,\n",
        "                               keep_top_k=4)"
      ]
    },
    {
      "cell_type": "code",
      "execution_count": null,
      "metadata": {
        "colab": {
          "base_uri": "https://localhost:8080/"
        },
        "id": "o2RxY0jBEt70",
        "outputId": "47f39aaf-0c3a-4694-b25a-b11ed1b721a3"
      },
      "outputs": [
        {
          "output_type": "stream",
          "name": "stdout",
          "text": [
            "gen\tnevals\tfitness \tfitness_std\tfitness_max\tfitness_min\n",
            "0  \t10    \t0.967993\t0.0134746  \t0.980959   \t0.951819   \n",
            "1  \t18    \t0.980202\t0.00147787 \t0.980959   \t0.977246   \n",
            "2  \t20    \t0.980974\t1.9926e-05 \t0.980989   \t0.98093    \n",
            "3  \t18    \t0.980986\t8.9116e-06 \t0.980989   \t0.980959   \n",
            "4  \t19    \t0.98098 \t1.90207e-05\t0.980989   \t0.98093    \n",
            "5  \t20    \t0.980968\t2.31992e-05\t0.980989   \t0.98093    \n",
            "6  \t20    \t0.980983\t1.18806e-05\t0.980989   \t0.980959   \n",
            "7  \t20    \t0.980986\t8.91054e-06\t0.980989   \t0.980959   \n",
            "8  \t19    \t0.98098 \t1.36129e-05\t0.980989   \t0.980959   \n",
            "9  \t20    \t0.98098 \t1.36121e-05\t0.980989   \t0.980959   \n",
            "10 \t20    \t0.980974\t1.4852e-05 \t0.980989   \t0.980959   \n",
            "11 \t15    \t0.980983\t1.18806e-05\t0.980989   \t0.980959   \n",
            "12 \t20    \t0.980989\t1.05886e-09\t0.980989   \t0.980989   \n",
            "13 \t17    \t0.980983\t1.18821e-05\t0.980989   \t0.980959   \n",
            "14 \t20    \t0.980989\t1.21307e-09\t0.980989   \t0.980989   \n",
            "15 \t16    \t0.980989\t1.05886e-09\t0.980989   \t0.980989   \n"
          ]
        },
        {
          "output_type": "execute_result",
          "data": {
            "text/plain": [
              "GASearchCV(crossover_probability=0.9,\n",
              "           cv=StratifiedKFold(n_splits=3, random_state=None, shuffle=True),\n",
              "           estimator=RandomForestClassifier(bootstrap=False, max_depth=3,\n",
              "                                            max_leaf_nodes=7,\n",
              "                                            min_weight_fraction_leaf=0.01668616611927558,\n",
              "                                            n_estimators=283),\n",
              "           generations=15, keep_top_k=4, mutation_probability=0.03, n_jobs=-1,\n",
              "           param_grid={'bootstrap': <sklearn_genetic.space...\n",
              "                       'max_depth': <sklearn_genetic.space.space.Integer object at 0x7fb5ef78aa10>,\n",
              "                       'max_leaf_nodes': <sklearn_genetic.space.space.Integer object at 0x7fb659c485d0>,\n",
              "                       'min_weight_fraction_leaf': <sklearn_genetic.space.space.Continuous object at 0x7fb659c48410>,\n",
              "                       'n_estimators': <sklearn_genetic.space.space.Integer object at 0x7fb659c48690>},\n",
              "           population_size=10, return_train_score=True, scoring='accuracy')"
            ]
          },
          "metadata": {},
          "execution_count": 8
        }
      ],
      "source": [
        "evolved_estimator.fit(X_train,y_train)"
      ]
    },
    {
      "cell_type": "code",
      "execution_count": null,
      "metadata": {
        "id": "cg21bHkbEt47",
        "colab": {
          "base_uri": "https://localhost:8080/"
        },
        "outputId": "5270bcaf-27fa-4bf0-e946-24cd814f218a"
      },
      "outputs": [
        {
          "output_type": "execute_result",
          "data": {
            "text/plain": [
              "0.9820121446666582"
            ]
          },
          "metadata": {},
          "execution_count": 9
        }
      ],
      "source": [
        "y_predicy_ga = evolved_estimator.predict(X_test)\n",
        "accuracy_score(y_test,y_predicy_ga)"
      ]
    },
    {
      "cell_type": "code",
      "execution_count": null,
      "metadata": {
        "id": "g9JL9IqNEt12",
        "colab": {
          "base_uri": "https://localhost:8080/"
        },
        "outputId": "c2f5343d-6780-4a4d-eec5-68630c042fd3"
      },
      "outputs": [
        {
          "output_type": "execute_result",
          "data": {
            "text/plain": [
              "{'bootstrap': False,\n",
              " 'max_depth': 3,\n",
              " 'max_leaf_nodes': 7,\n",
              " 'min_weight_fraction_leaf': 0.01668616611927558,\n",
              " 'n_estimators': 283}"
            ]
          },
          "metadata": {},
          "execution_count": 10
        }
      ],
      "source": [
        "evolved_estimator.best_params_"
      ]
    },
    {
      "cell_type": "code",
      "execution_count": null,
      "metadata": {
        "id": "8ha6zevLFK6k",
        "colab": {
          "base_uri": "https://localhost:8080/",
          "height": 627
        },
        "outputId": "eece4a97-90af-4021-eb7e-495048a9bef0"
      },
      "outputs": [
        {
          "output_type": "display_data",
          "data": {
            "text/plain": [
              "<Figure size 720x720 with 1 Axes>"
            ],
            "image/png": "[encoded data removed]"
          },
          "metadata": {}
        }
      ],
      "source": [
        "plot_fitness_evolution(evolved_estimator)\n",
        "plt.show()"
      ]
    },
    {
      "cell_type": "code",
      "execution_count": null,
      "metadata": {
        "id": "57wRaEsbFK25",
        "colab": {
          "base_uri": "https://localhost:8080/"
        },
        "outputId": "3df2235a-0475-4234-818a-212000317233"
      },
      "outputs": [
        {
          "output_type": "stream",
          "name": "stdout",
          "text": [
            "                                                                                                                                                        parameters                                                                                                                                                        \n",
            "--------------------------------------------------------------------------------------------------------------------------------------------------------------------------------------------------------------------------------------------------------------------------------------------------------------------------\n",
            "bootstrap\tcv_scores                         \tfit_time                             \tindex\tmax_depth\tmax_leaf_nodes\tmin_weight_fraction_leaf\tn_estimators\tscore   \tscore_time                        \ttest_score                        \ttrain_score                       \n",
            "False    \t[0.95179112 0.95179112 0.95187595]\t[4.78227305 4.94342732 3.5443809 ]   \t0    \t2        \t29            \t0.139095                \t179         \t0.951819\t[0.23208141 0.2628541  0.27206731]\t[0.95179112 0.95179112 0.95187595]\t[0.95183353 0.95183353 0.95179112]\n",
            "True     \t[0.95179112 0.95179112 0.95187595]\t[8.67175794 9.59350085 7.39828515]   \t1    \t3        \t31            \t0.124806                \t185         \t0.951819\t[0.29619741 0.56982207 0.34902191]\t[0.95179112 0.95179112 0.95187595]\t[0.95183353 0.95183353 0.95179112]\n",
            "True     \t[0.95179112 0.95179112 0.95187595]\t[7.86923122 7.73000383 4.7978158 ]   \t2    \t26       \t7             \t0.051412                \t219         \t0.951819\t[0.30967355 0.32602429 0.22953129]\t[0.95179112 0.95179112 0.95187595]\t[0.95183353 0.95183353 0.95179112]\n",
            "True     \t[0.97540545 0.96462306 0.97495767]\t[3.6987555  4.11532211 2.82263279]   \t3    \t22       \t22            \t0.0432741               \t115         \t0.971662\t[0.17367029 0.17629433 0.12984133]\t[0.97540545 0.96462306 0.97495767]\t[0.97607272 0.96515617 0.97549456]\n",
            "False    \t[0.9808412  0.98101943 0.98092862]\t[10.8442347  10.71007919  7.16668677]\t4    \t30       \t31            \t0.0327117               \t199         \t0.98093 \t[0.3140626  0.30557775 0.22540784]\t[0.9808412  0.98101943 0.98092862]\t[0.98097402 0.98092947 0.98097487]\n",
            "False    \t[0.98093032 0.98101943 0.9808395 ]\t[10.24782515  9.78313875  6.88148332]\t5    \t14       \t13            \t0.0218702               \t180         \t0.98093 \t[0.28382182 0.27829123 0.20643783]\t[0.98093032 0.98101943 0.9808395 ]\t[0.98092947 0.98092947 0.98101943]\n",
            "True     \t[0.98093032 0.9808412  0.98110685]\t[11.78138614 11.31209278  7.0837028 ]\t6    \t23       \t26            \t0.0166862               \t242         \t0.980959\t[0.38595462 0.36765146 0.28195095]\t[0.98093032 0.9808412  0.98110685]\t[0.98101858 0.98101858 0.98088576]\n",
            "False    \t[0.97522723 0.98066298 0.97584885]\t[10.30359769  9.92831755  7.1630981 ]\t7    \t16       \t35            \t0.0412249               \t208         \t0.977246\t[0.33073831 0.30328226 0.23291183]\t[0.97522723 0.98066298 0.97584885]\t[0.97611727 0.98084035 0.97487079]\n",
            "False    \t[0.9808412  0.98093032 0.98101773]\t[11.50090957 11.59582496  7.44869351]\t8    \t3        \t7             \t0.0195047               \t283         \t0.98093 \t[0.42147207 0.39007759 0.2908237 ]\t[0.9808412  0.98093032 0.98101773]\t[0.98097402 0.98097402 0.98093032]\n",
            "False    \t[0.95179112 0.95179112 0.95187595]\t[6.31854129 6.10418081 4.35067916]   \t9    \t29       \t15            \t0.168186                \t200         \t0.951819\t[0.28456426 0.28598881 0.21936035]\t[0.95179112 0.95179112 0.95187595]\t[0.95183353 0.95183353 0.95179112]\n",
            "False    \t[0.98066298 0.98101943 0.98110685]\t[11.0061307  10.68017983  7.53994274]\t10   \t3        \t7             \t0.0195047               \t283         \t0.98093 \t[0.39932418 0.39712191 0.30745077]\t[0.98066298 0.98101943 0.98110685]\t[0.98106314 0.98092947 0.98088576]\n",
            "True     \t[0.96462306 0.97594012 0.96470903]\t[6.90935755 6.62814951 4.77261734]   \t11   \t22       \t31            \t0.0432741               \t199         \t0.968424\t[0.30614734 0.31642127 0.23882318]\t[0.96462306 0.97594012 0.96470903]\t[0.96515617 0.97553803 0.9653805 ]\n",
            "False    \t[0.98075209 0.98093032 0.98110685]\t[11.72237492 12.07730556  8.23837161]\t12   \t7        \t7             \t0.0195047               \t283         \t0.98093 \t[0.37366915 0.40867853 0.27799273]\t[0.98075209 0.98093032 0.98110685]\t[0.98101858 0.98097402 0.98088576]\n",
            "False    \t[0.9808412  0.9808412  0.98110685]\t[10.62314105 10.93279743  7.01908231]\t13   \t22       \t13            \t0.0218702               \t180         \t0.98093 \t[0.27097988 0.27997851 0.20447564]\t[0.9808412  0.9808412  0.98110685]\t[0.98101858 0.98097402 0.98093032]\n",
            "True     \t[0.9657815  0.96542506 0.95187595]\t[3.0193522  3.04260421 2.12675881]   \t14   \t3        \t22            \t0.0432741               \t115         \t0.961028\t[0.16618848 0.17087603 0.1213305 ]\t[0.9657815  0.96542506 0.95187595]\t[0.96457693 0.96475516 0.95179112]\n",
            "True     \t[0.9749599  0.96515773 0.96497638]\t[6.16820097 6.10399508 4.21092439]   \t15   \t22       \t13            \t0.0432741               \t180         \t0.968365\t[0.288764   0.28538752 0.19853735]\t[0.9749599  0.96515773 0.96497638]\t[0.97469144 0.96488883 0.96493495]\n",
            "False    \t[0.95179112 0.95179112 0.95187595]\t[5.19366217 5.21862507 3.52459931]   \t16   \t2        \t15            \t0.168186                \t200         \t0.951819\t[0.26256013 0.26755977 0.20077872]\t[0.95179112 0.95179112 0.95187595]\t[0.95183353 0.95183353 0.95179112]\n",
            "True     \t[0.98093032 0.9808412  0.98101773]\t[8.64323068 8.40267181 6.30661893]   \t17   \t23       \t26            \t0.0327117               \t242         \t0.98093 \t[0.39090562 0.3592875  0.28433108]\t[0.98093032 0.9808412  0.98101773]\t[0.98092947 0.98101858 0.98093032]\n",
            "False    \t[0.95179112 0.95179112 0.95187595]\t[9.39343095 9.62427354 6.93699002]   \t18   \t30       \t31            \t0.051412                \t199         \t0.951819\t[0.29457474 0.32003498 0.22700381]\t[0.95179112 0.95179112 0.95187595]\t[0.95183353 0.95183353 0.95179112]\n",
            "True     \t[0.9808412  0.98093032 0.98110685]\t[5.40753746 5.3602531  3.83353829]   \t19   \t26       \t7             \t0.0218702               \t180         \t0.980959\t[0.24854088 0.24711442 0.1936357 ]\t[0.9808412  0.98093032 0.98110685]\t[0.98101858 0.98101858 0.98088576]\n",
            "False    \t[0.98048476 0.96756371 0.98075038]\t[10.24381924 10.45868492  7.243294  ]\t20   \t23       \t26            \t0.0412249               \t208         \t0.976266\t[0.31239009 0.31463528 0.23943734]\t[0.98048476 0.96756371 0.98075038]\t[0.98066212 0.96809696 0.98075209]\n",
            "False    \t[0.98066298 0.98093032 0.98110685]\t[7.57224965 7.44484019 5.26620841]   \t21   \t3        \t7             \t0.0327117               \t199         \t0.9809  \t[0.29955649 0.27144742 0.2025032 ]\t[0.98066298 0.98093032 0.98110685]\t[0.98097402 0.98097402 0.98088576]\n",
            "False    \t[0.98075209 0.98101943 0.98101773]\t[10.69463968 10.89302301  7.47863483]\t22   \t3        \t29            \t0.0195047               \t283         \t0.98093 \t[0.3747983  0.38919258 0.28533077]\t[0.98075209 0.98101943 0.98101773]\t[0.98101858 0.98097402 0.98093032]\n",
            "True     \t[0.97353413 0.96560328 0.96533286]\t[6.67789865 6.88230324 4.59928083]   \t23   \t22       \t22            \t0.0432741               \t199         \t0.968157\t[0.29538941 0.29726148 0.22138953]\t[0.97353413 0.96560328 0.96533286]\t[0.97429042 0.96511162 0.96551417]\n",
            "False    \t[0.95179112 0.95179112 0.95187595]\t[6.35684204 5.92418337 4.17528009]   \t24   \t26       \t29            \t0.139095                \t179         \t0.951819\t[0.25070882 0.25199056 0.20059252]\t[0.95179112 0.95179112 0.95187595]\t[0.95183353 0.95183353 0.95179112]\n",
            "False    \t[0.98093032 0.98093032 0.9808395 ]\t[7.77910137 7.27595878 5.41718674]   \t25   \t3        \t31            \t0.0327117               \t199         \t0.9809  \t[0.26719975 0.25758386 0.2032156 ]\t[0.98093032 0.98093032 0.9808395 ]\t[0.98097402 0.98097402 0.98093032]\n",
            "True     \t[0.95179112 0.95179112 0.95187595]\t[5.00466466 4.78189111 3.33130121]   \t26   \t26       \t7             \t0.124806                \t185         \t0.951819\t[0.27856231 0.26642466 0.20227289]\t[0.95179112 0.95179112 0.95187595]\t[0.95183353 0.95183353 0.95179112]\n",
            "False    \t[0.95179112 0.95179112 0.95187595]\t[6.87747002 6.9822998  4.70737576]   \t27   \t2        \t29            \t0.139095                \t254         \t0.951819\t[0.33836603 0.33689833 0.26197124]\t[0.95179112 0.95179112 0.95187595]\t[0.95183353 0.95183353 0.95179112]\n",
            "True     \t[0.9808412  0.98101943 0.98101773]\t[8.59650898 8.15534425 6.00386572]   \t28   \t16       \t35            \t0.0166862               \t208         \t0.980959\t[0.32098222 0.32117558 0.2523272 ]\t[0.9808412  0.98101943 0.98101773]\t[0.98101858 0.98097402 0.98097487]\n",
            "True     \t[0.98075209 0.98101943 0.98101773]\t[7.63027787 7.55121827 5.47482777]   \t29   \t3        \t7             \t0.0195047               \t283         \t0.98093 \t[0.37601948 0.39547634 0.28016305]\t[0.98075209 0.98101943 0.98101773]\t[0.98106314 0.98097402 0.98088576]\n",
            "False    \t[0.9808412  0.98101943 0.98110685]\t[10.83221936 10.79689431  7.32546401]\t30   \t3        \t7             \t0.0166862               \t283         \t0.980989\t[0.38435984 0.39433074 0.27947259]\t[0.9808412  0.98101943 0.98110685]\t[0.98101858 0.98097402 0.98093032]\n",
            "True     \t[0.98075209 0.98093032 0.98110685]\t[8.37610269 7.88974118 5.9751246 ]   \t31   \t23       \t26            \t0.0166862               \t208         \t0.98093 \t[0.34233189 0.33839893 0.23191214]\t[0.98075209 0.98093032 0.98110685]\t[0.98101858 0.98101858 0.98093032]\n",
            "True     \t[0.98101943 0.98093032 0.98101773]\t[8.20759916 8.29446149 5.70358658]   \t32   \t23       \t35            \t0.0166862               \t208         \t0.980989\t[0.33426929 0.33476806 0.23145938]\t[0.98101943 0.98093032 0.98101773]\t[0.98097402 0.98101858 0.98097487]\n",
            "False    \t[0.9808412  0.98093032 0.98101773]\t[8.98901868 9.31965947 6.50781059]   \t33   \t3        \t7             \t0.0166862               \t242         \t0.98093 \t[0.31642532 0.32463312 0.23915792]\t[0.9808412  0.98093032 0.98101773]\t[0.98097402 0.98101858 0.98097487]\n",
            "False    \t[0.97469257 0.9808412  0.97513591]\t[11.57557535 11.95444965  8.23901606]\t34   \t23       \t26            \t0.0412249               \t242         \t0.97689 \t[0.34756422 0.36928844 0.27064061]\t[0.97469257 0.9808412  0.97513591]\t[0.97634006 0.98084035 0.97571734]\n",
            "True     \t[0.98101943 0.98093032 0.98101773]\t[9.3908205  9.67287159 6.66310191]   \t35   \t16       \t35            \t0.0166862               \t242         \t0.980989\t[0.35544419 0.3889637  0.27319312]\t[0.98101943 0.98093032 0.98101773]\t[0.98097402 0.98101858 0.98097487]\n",
            "False    \t[0.98093032 0.98101943 0.98092862]\t[11.78273439 11.49239206  8.36267304]\t36   \t16       \t7             \t0.0195047               \t283         \t0.980959\t[0.38144422 0.36401939 0.27251029]\t[0.98093032 0.98101943 0.98092862]\t[0.98097402 0.98097402 0.98097487]\n",
            "True     \t[0.98101943 0.9808412  0.98101773]\t[9.27734995 9.8231709  6.45895243]   \t37   \t23       \t26            \t0.0195047               \t242         \t0.980959\t[0.36219501 0.37909985 0.27338147]\t[0.98101943 0.9808412  0.98101773]\t[0.98092947 0.98101858 0.98093032]\n",
            "True     \t[0.98075209 0.98101943 0.98101773]\t[6.75452924 6.51238227 4.58289218]   \t38   \t3        \t7             \t0.0327117               \t242         \t0.98093 \t[0.34779143 0.33290005 0.24026275]\t[0.98075209 0.98101943 0.98101773]\t[0.98101858 0.98088491 0.98088576]\n",
            "True     \t[0.98101943 0.98101943 0.9808395 ]\t[8.35056591 8.36855125 5.81171608]   \t39   \t23       \t7             \t0.0195047               \t283         \t0.980959\t[0.39307761 0.38778543 0.28996444]\t[0.98101943 0.98101943 0.9808395 ]\t[0.98097402 0.98097402 0.98097487]\n",
            "True     \t[0.98093032 0.98093032 0.98110685]\t[9.92369366 9.49271941 6.81905603]   \t40   \t23       \t26            \t0.0166862               \t242         \t0.980989\t[0.3706429  0.36983609 0.28402162]\t[0.98093032 0.98093032 0.98110685]\t[0.98101858 0.98101858 0.98093032]\n",
            "False    \t[0.98101943 0.98093032 0.98092862]\t[10.96311188 10.48230863  7.72363782]\t41   \t3        \t7             \t0.0195047               \t283         \t0.980959\t[0.3919704  0.38789201 0.28776598]\t[0.98101943 0.98093032 0.98092862]\t[0.98092947 0.98097402 0.98097487]\n",
            "False    \t[0.96462306 0.97567279 0.98057214]\t[7.86659455 7.58395958 5.43602085]   \t42   \t3        \t7             \t0.0412249               \t208         \t0.973623\t[0.29416656 0.29399228 0.22074819]\t[0.96462306 0.97567279 0.98057214]\t[0.96622555 0.97495878 0.98075209]\n",
            "True     \t[0.98101943 0.98093032 0.9808395 ]\t[7.16497707 6.97475982 5.18328094]   \t43   \t23       \t7             \t0.0166862               \t242         \t0.98093 \t[0.32560015 0.32410693 0.24090242]\t[0.98101943 0.98093032 0.9808395 ]\t[0.98097402 0.98101858 0.98097487]\n",
            "False    \t[0.98039565 0.97585101 0.97477943]\t[10.25636411 10.2131393   7.11927223]\t44   \t16       \t35            \t0.0412249               \t208         \t0.977009\t[0.31421351 0.31999922 0.23689532]\t[0.98039565 0.97585101 0.97477943]\t[0.98084035 0.9750479  0.97500446]\n",
            "True     \t[0.95179112 0.95179112 0.95187595]\t[7.28839302 7.48228955 5.01073337]   \t45   \t23       \t26            \t0.0787667               \t242         \t0.951819\t[0.3667953  0.37206507 0.26105452]\t[0.95179112 0.95179112 0.95187595]\t[0.95183353 0.95183353 0.95179112]\n",
            "True     \t[0.98101943 0.9808412  0.98092862]\t[9.6054852  9.14183378 6.91435266]   \t46   \t23       \t26            \t0.0166862               \t242         \t0.98093 \t[0.3857367  0.3633492  0.27527332]\t[0.98101943 0.9808412  0.98092862]\t[0.98097402 0.98106314 0.98093032]\n",
            "False    \t[0.98093032 0.9808412  0.98110685]\t[16.17269421 15.52221322 11.50941515]\t47   \t23       \t26            \t0.0195047               \t283         \t0.980959\t[0.44375086 0.42666841 0.33042073]\t[0.98093032 0.9808412  0.98110685]\t[0.98097402 0.98106314 0.98088576]\n",
            "False    \t[0.98101943 0.98093032 0.98101773]\t[14.01565456 13.84658241  9.80650282]\t48   \t16       \t35            \t0.0166862               \t242         \t0.980989\t[0.40062881 0.38150477 0.27084708]\t[0.98101943 0.98093032 0.98101773]\t[0.98097402 0.98101858 0.98097487]\n",
            "False    \t[0.98075209 0.98093032 0.98110685]\t[10.70868206 10.59957099  7.47503448]\t49   \t3        \t26            \t0.0166862               \t283         \t0.98093 \t[0.38687468 0.3763392  0.2822814 ]\t[0.98075209 0.98093032 0.98110685]\t[0.98101858 0.98101858 0.98088576]\n",
            "False    \t[0.9808412  0.9808412  0.98110685]\t[10.6961143  10.59237862  7.30261111]\t50   \t3        \t7             \t0.0166862               \t283         \t0.98093 \t[0.38427043 0.37575912 0.27466083]\t[0.9808412  0.9808412  0.98110685]\t[0.98106314 0.98097402 0.98088576]\n",
            "False    \t[0.98093032 0.98101943 0.98101773]\t[10.86771131 10.67186427  7.53525591]\t51   \t3        \t7             \t0.0166862               \t283         \t0.980989\t[0.4120605  0.37166834 0.28420544]\t[0.98093032 0.98101943 0.98101773]\t[0.98097402 0.98097402 0.98097487]\n",
            "True     \t[0.98101943 0.98101943 0.98092862]\t[9.89771748 9.33969808 6.76603031]   \t52   \t23       \t26            \t0.0166862               \t242         \t0.980989\t[0.3828733  0.36910272 0.26612353]\t[0.98101943 0.98101943 0.98092862]\t[0.98097402 0.98097402 0.98101943]\n",
            "False    \t[0.98093032 0.9808412  0.98110685]\t[10.68506098 10.74067974  7.48925424]\t53   \t3        \t7             \t0.0166862               \t283         \t0.980959\t[0.39677787 0.38747931 0.28706956]\t[0.98093032 0.9808412  0.98110685]\t[0.98101858 0.98101858 0.98088576]\n",
            "True     \t[0.98093032 0.98093032 0.98101773]\t[ 9.4091959  10.01772499  6.94889164]\t54   \t16       \t26            \t0.0166862               \t242         \t0.980959\t[0.37098169 0.39820433 0.27199125]\t[0.98093032 0.98093032 0.98101773]\t[0.98101858 0.98101858 0.98088576]\n",
            "True     \t[0.98101943 0.98101943 0.98092862]\t[7.62510252 8.73667669 6.19689345]   \t55   \t23       \t35            \t0.0166862               \t208         \t0.980989\t[0.31524968 0.32236242 0.23300314]\t[0.98101943 0.98101943 0.98092862]\t[0.98097402 0.98097402 0.98101943]\n",
            "True     \t[0.9808412  0.98093032 0.98110685]\t[7.9437542  7.62287021 5.40495753]   \t56   \t3        \t7             \t0.0195047               \t283         \t0.980959\t[0.40093184 0.41016293 0.28588843]\t[0.9808412  0.98093032 0.98110685]\t[0.98101858 0.98097402 0.98088576]\n",
            "True     \t[0.98075209 0.98101943 0.98101773]\t[7.80909491 7.66949797 5.3256259 ]   \t57   \t3        \t7             \t0.0195047               \t283         \t0.98093 \t[0.39850354 0.39070773 0.28581214]\t[0.98075209 0.98101943 0.98101773]\t[0.98101858 0.98092947 0.98093032]\n",
            "False    \t[0.98093032 0.98093032 0.98092862]\t[10.84608507 10.45667243  7.57133532]\t58   \t3        \t7             \t0.0166862               \t283         \t0.98093 \t[0.40719175 0.38753581 0.28643751]\t[0.98093032 0.98093032 0.98092862]\t[0.98101858 0.98101858 0.98093032]\n",
            "False    \t[0.98093032 0.98093032 0.98110685]\t[9.15068603 9.22655296 6.31324697]   \t59   \t3        \t26            \t0.0166862               \t242         \t0.980989\t[0.33000517 0.33217525 0.23975277]\t[0.98093032 0.98093032 0.98110685]\t[0.98097402 0.98097402 0.98093032]\n",
            "False    \t[0.98093032 0.98093032 0.98101773]\t[11.44423127 11.4103508   8.2726388 ]\t60   \t16       \t7             \t0.0166862               \t283         \t0.980959\t[0.38137126 0.38665533 0.27318168]\t[0.98093032 0.98093032 0.98101773]\t[0.98101858 0.98097402 0.98093032]\n",
            "False    \t[0.98101943 0.9808412  0.98092862]\t[10.83991432 10.6816051   7.49295282]\t61   \t3        \t7             \t0.0166862               \t283         \t0.98093 \t[0.40652585 0.37698102 0.28013301]\t[0.98101943 0.9808412  0.98092862]\t[0.98092947 0.98097402 0.98097487]\n",
            "True     \t[0.9808412  0.9808412  0.98110685]\t[7.64673543 7.73933721 5.31099343]   \t62   \t3        \t7             \t0.0195047               \t283         \t0.98093 \t[0.3857491  0.38687229 0.28323507]\t[0.9808412  0.9808412  0.98110685]\t[0.98101858 0.98097402 0.98093032]\n",
            "True     \t[0.98101943 0.98075209 0.98110685]\t[10.86863422 11.62946796  7.83265543]\t63   \t23       \t35            \t0.0166862               \t283         \t0.980959\t[0.41785383 0.45309901 0.32110476]\t[0.98101943 0.98075209 0.98110685]\t[0.98097402 0.98106314 0.98093032]\n",
            "False    \t[0.9808412  0.98101943 0.98101773]\t[10.74721146 10.72195458  7.39785147]\t64   \t3        \t7             \t0.0166862               \t283         \t0.980959\t[0.38186216 0.38414478 0.27639413]\t[0.9808412  0.98101943 0.98101773]\t[0.98101858 0.98097402 0.98093032]\n",
            "False    \t[0.98075209 0.98101943 0.98101773]\t[10.76863623 10.44749641  7.63993764]\t65   \t3        \t35            \t0.0166862               \t283         \t0.98093 \t[0.39009833 0.40435815 0.27817321]\t[0.98075209 0.98101943 0.98101773]\t[0.98101858 0.98092947 0.98097487]\n",
            "False    \t[0.9808412  0.98093032 0.98101773]\t[11.14844179 11.94096851  8.41377926]\t66   \t16       \t7             \t0.0166862               \t283         \t0.98093 \t[0.36655426 0.39665747 0.28567243]\t[0.9808412  0.98093032 0.98101773]\t[0.98101858 0.98092947 0.98097487]\n",
            "False    \t[0.98101943 0.9808412  0.98092862]\t[10.74716759 10.57216144  7.6267457 ]\t67   \t3        \t7             \t0.0166862               \t283         \t0.98093 \t[0.39457822 0.38649416 0.27949095]\t[0.98101943 0.9808412  0.98092862]\t[0.98097402 0.98097402 0.98097487]\n",
            "False    \t[0.98101943 0.98093032 0.98101773]\t[10.51136065 10.17229581  7.29756141]\t68   \t16       \t35            \t0.0166862               \t175         \t0.980989\t[0.27306008 0.28179193 0.20764041]\t[0.98101943 0.98093032 0.98101773]\t[0.98097402 0.98097402 0.98097487]\n",
            "True     \t[0.98093032 0.98093032 0.98110685]\t[ 9.56897521 10.02899599  6.5379889 ]\t69   \t16       \t35            \t0.0166862               \t242         \t0.980989\t[0.38682675 0.37529802 0.26873231]\t[0.98093032 0.98093032 0.98110685]\t[0.98101858 0.98101858 0.98093032]\n",
            "False    \t[0.98093032 0.98101943 0.9808395 ]\t[10.85316253 10.67764044  7.43687224]\t70   \t3        \t7             \t0.0166862               \t283         \t0.98093 \t[0.39610124 0.37093115 0.27985883]\t[0.98093032 0.98101943 0.9808395 ]\t[0.98101858 0.98092947 0.98097487]\n",
            "True     \t[0.98093032 0.98101943 0.98101773]\t[7.61826205 7.73300743 5.39119029]   \t71   \t3        \t7             \t0.0166862               \t283         \t0.980989\t[0.38282132 0.37525272 0.28311062]\t[0.98093032 0.98101943 0.98101773]\t[0.98097402 0.98097402 0.98097487]\n",
            "False    \t[0.9808412  0.98101943 0.98101773]\t[8.87129927 9.25528622 6.44745469]   \t72   \t3        \t7             \t0.0166862               \t242         \t0.980959\t[0.30896807 0.33468652 0.23802352]\t[0.9808412  0.98101943 0.98101773]\t[0.98106314 0.98097402 0.98093032]\n",
            "False    \t[0.98101943 0.9808412  0.98092862]\t[10.54486966 10.6313343   7.49881053]\t73   \t3        \t7             \t0.0166862               \t283         \t0.98093 \t[0.38515067 0.3807559  0.28349495]\t[0.98101943 0.9808412  0.98092862]\t[0.98097402 0.98101858 0.98093032]\n",
            "False    \t[0.98093032 0.9808412  0.98101773]\t[9.23510146 9.08625054 6.42747569]   \t74   \t3        \t7             \t0.0166862               \t242         \t0.98093 \t[0.33104372 0.3206377  0.24254847]\t[0.98093032 0.9808412  0.98101773]\t[0.98101858 0.98097402 0.98097487]\n",
            "False    \t[0.9808412  0.98101943 0.98101773]\t[9.19130349 9.20862389 6.25427079]   \t75   \t3        \t26            \t0.0166862               \t242         \t0.980959\t[0.32443881 0.33489728 0.23859   ]\t[0.9808412  0.98101943 0.98101773]\t[0.98106314 0.98097402 0.98093032]\n",
            "False    \t[0.98093032 0.98093032 0.98110685]\t[11.23180079 11.58614659  8.30025196]\t76   \t16       \t7             \t0.0166862               \t283         \t0.980989\t[0.3719635  0.37393355 0.28039289]\t[0.98093032 0.98093032 0.98110685]\t[0.98101858 0.98101858 0.98093032]\n",
            "False    \t[0.98101943 0.98101943 0.98092862]\t[14.07768154 14.52483797  9.83798289]\t77   \t16       \t35            \t0.0166862               \t242         \t0.980989\t[0.36338735 0.39992189 0.27084351]\t[0.98101943 0.98101943 0.98092862]\t[0.98097402 0.98097402 0.98101943]\n",
            "False    \t[0.98093032 0.98101943 0.98101773]\t[11.36861777 11.66145635  8.02229619]\t78   \t16       \t7             \t0.0166862               \t283         \t0.980989\t[0.38600254 0.38594699 0.27760196]\t[0.98093032 0.98101943 0.98101773]\t[0.98101858 0.98097402 0.98097487]\n",
            "False    \t[0.98093032 0.9808412  0.98110685]\t[10.77014995 10.59995556  7.4456985 ]\t79   \t3        \t7             \t0.0166862               \t283         \t0.980959\t[0.41243458 0.39845729 0.29034495]\t[0.98093032 0.9808412  0.98110685]\t[0.98097402 0.98106314 0.98093032]\n",
            "False    \t[0.98093032 0.98101943 0.98092862]\t[9.17123294 9.10136604 6.33947921]   \t80   \t3        \t26            \t0.0166862               \t242         \t0.980959\t[0.33357501 0.33883619 0.24680495]\t[0.98093032 0.98101943 0.98092862]\t[0.98101858 0.98097402 0.98093032]\n",
            "False    \t[0.9808412  0.9808412  0.98110685]\t[14.47783303 14.07064605  9.99853945]\t81   \t16       \t35            \t0.0166862               \t242         \t0.98093 \t[0.38504648 0.37707138 0.27300882]\t[0.9808412  0.9808412  0.98110685]\t[0.98106314 0.98097402 0.98093032]\n",
            "False    \t[0.98101943 0.98093032 0.98101773]\t[14.57167602 12.82856274 10.6526854 ]\t82   \t16       \t35            \t0.0166862               \t242         \t0.980989\t[0.3605125  0.37790442 0.28048825]\t[0.98101943 0.98093032 0.98101773]\t[0.98092947 0.98101858 0.98097487]\n",
            "False    \t[0.98093032 0.98075209 0.98110685]\t[10.88127685 10.70627689  7.51918173]\t83   \t3        \t7             \t0.0166862               \t283         \t0.98093 \t[0.39904928 0.38716316 0.28335404]\t[0.98093032 0.98075209 0.98110685]\t[0.98092947 0.98106314 0.98093032]\n",
            "False    \t[0.98093032 0.98101943 0.98101773]\t[13.43068767 14.17856717 10.58453035]\t84   \t16       \t35            \t0.0166862               \t242         \t0.980989\t[0.36653566 0.40538788 0.27188492]\t[0.98093032 0.98101943 0.98101773]\t[0.98101858 0.98092947 0.98093032]\n",
            "False    \t[0.98075209 0.98093032 0.98110685]\t[10.51661897 10.65417957  7.30231833]\t85   \t3        \t7             \t0.0166862               \t283         \t0.98093 \t[0.38410807 0.391958   0.28571677]\t[0.98075209 0.98093032 0.98110685]\t[0.98101858 0.98097402 0.98088576]\n",
            "False    \t[0.98093032 0.98093032 0.98101773]\t[10.78612494 10.39679718  7.50970316]\t86   \t3        \t7             \t0.0166862               \t283         \t0.980959\t[0.37433553 0.37519145 0.2799325 ]\t[0.98093032 0.98093032 0.98101773]\t[0.98097402 0.98101858 0.98097487]\n",
            "False    \t[0.9808412  0.98093032 0.98101773]\t[9.94799805 9.38307166 7.12538433]   \t87   \t16       \t7             \t0.0166862               \t242         \t0.98093 \t[0.35555744 0.317065   0.24804854]\t[0.9808412  0.98093032 0.98101773]\t[0.98097402 0.98101858 0.98097487]\n",
            "False    \t[0.98093032 0.98101943 0.98101773]\t[11.25337195 10.95463872  7.95449948]\t88   \t16       \t7             \t0.0166862               \t283         \t0.980989\t[0.38524008 0.38160086 0.28282046]\t[0.98093032 0.98101943 0.98101773]\t[0.98101858 0.98097402 0.98097487]\n",
            "False    \t[0.98093032 0.98075209 0.98110685]\t[9.12759399 9.14974642 6.35837555]   \t89   \t3        \t7             \t0.0166862               \t242         \t0.98093 \t[0.32869101 0.3289814  0.24052024]\t[0.98093032 0.98075209 0.98110685]\t[0.98101858 0.98101858 0.98088576]\n",
            "False    \t[0.98093032 0.9808412  0.98101773]\t[9.0549345  9.15763617 6.49508286]   \t90   \t3        \t26            \t0.0166862               \t242         \t0.98093 \t[0.3279798  0.32965088 0.24294639]\t[0.98093032 0.9808412  0.98101773]\t[0.98092947 0.98101858 0.98097487]\n",
            "False    \t[0.98101943 0.98101943 0.98092862]\t[11.52500248 11.38420558  7.8982358 ]\t91   \t16       \t7             \t0.0166862               \t283         \t0.980989\t[0.3804915  0.37597656 0.28382158]\t[0.98101943 0.98101943 0.98092862]\t[0.98097402 0.98097402 0.98101943]\n",
            "False    \t[0.98093032 0.9808412  0.98110685]\t[10.64124799 10.53932333  7.31825256]\t92   \t3        \t7             \t0.0166862               \t283         \t0.980959\t[0.3838222  0.4102056  0.27959394]\t[0.98093032 0.9808412  0.98110685]\t[0.98097402 0.98106314 0.98088576]\n",
            "False    \t[0.98101943 0.9808412  0.98110685]\t[10.64997101 10.53855133  7.39161253]\t93   \t3        \t7             \t0.0166862               \t283         \t0.980989\t[0.39628601 0.38072896 0.28529096]\t[0.98101943 0.9808412  0.98110685]\t[0.98092947 0.98106314 0.98088576]\n",
            "False    \t[0.98093032 0.98101943 0.98092862]\t[10.72667766 10.4799428   7.48268604]\t94   \t3        \t7             \t0.0166862               \t283         \t0.980959\t[0.377177   0.3867712  0.28214931]\t[0.98093032 0.98101943 0.98092862]\t[0.98101858 0.98097402 0.98093032]\n",
            "False    \t[0.98093032 0.98093032 0.98110685]\t[10.66807556 10.62214041  7.39176273]\t95   \t3        \t7             \t0.0166862               \t283         \t0.980989\t[0.38963914 0.3837533  0.28999972]\t[0.98093032 0.98093032 0.98110685]\t[0.98101858 0.98101858 0.98088576]\n",
            "False    \t[0.98101943 0.98093032 0.98092862]\t[10.86199379 10.77077317  7.45440793]\t96   \t3        \t7             \t0.0166862               \t283         \t0.980959\t[0.38610744 0.37717223 0.28707671]\t[0.98101943 0.98093032 0.98092862]\t[0.98097402 0.98097402 0.98097487]\n",
            "False    \t[0.9808412  0.98093032 0.98101773]\t[14.42728329 14.50419426  9.97464252]\t97   \t16       \t35            \t0.0166862               \t242         \t0.98093 \t[0.38396716 0.41914868 0.27406764]\t[0.9808412  0.98093032 0.98101773]\t[0.98106314 0.98097402 0.98088576]\n",
            "False    \t[0.9808412  0.98101943 0.98092862]\t[10.92453003 10.56386781  7.59476662]\t98   \t3        \t26            \t0.0166862               \t283         \t0.98093 \t[0.39938402 0.38170671 0.28254247]\t[0.9808412  0.98101943 0.98092862]\t[0.98097402 0.98097402 0.98097487]\n",
            "False    \t[0.98093032 0.9808412  0.98101773]\t[10.83553886 11.01659536  7.41296172]\t99   \t3        \t7             \t0.0166862               \t283         \t0.98093 \t[0.38340735 0.39477968 0.28671956]\t[0.98093032 0.9808412  0.98101773]\t[0.98097402 0.98106314 0.98088576]\n",
            "False    \t[0.9808412  0.98093032 0.98101773]\t[10.78184915 10.66004252  7.37169695]\t100  \t3        \t7             \t0.0166862               \t283         \t0.98093 \t[0.37664485 0.38150644 0.29152703]\t[0.9808412  0.98093032 0.98101773]\t[0.98097402 0.98097402 0.98093032]\n",
            "False    \t[0.98093032 0.98093032 0.98110685]\t[14.6680088  13.74077487 10.1545887 ]\t101  \t16       \t35            \t0.0166862               \t242         \t0.980989\t[0.40224028 0.37766504 0.28681374]\t[0.98093032 0.98093032 0.98110685]\t[0.98101858 0.98101858 0.98093032]\n",
            "False    \t[0.98075209 0.98093032 0.98110685]\t[10.78388834 10.55504465  7.45253325]\t102  \t3        \t7             \t0.0166862               \t283         \t0.98093 \t[0.38738775 0.40195179 0.28353429]\t[0.98075209 0.98093032 0.98110685]\t[0.98101858 0.98101858 0.98093032]\n",
            "False    \t[0.9808412  0.98101943 0.98101773]\t[11.44965696 11.45238185  7.93999147]\t103  \t16       \t7             \t0.0166862               \t283         \t0.980959\t[0.37829089 0.38461089 0.27366734]\t[0.9808412  0.98101943 0.98101773]\t[0.98101858 0.98097402 0.98097487]\n",
            "False    \t[0.98093032 0.98101943 0.98101773]\t[16.0525887  16.71981168 12.17483401]\t104  \t16       \t35            \t0.0166862               \t283         \t0.980989\t[0.43869662 0.45924306 0.33393097]\t[0.98093032 0.98101943 0.98101773]\t[0.98101858 0.98097402 0.98097487]\n",
            "False    \t[0.98093032 0.98093032 0.98110685]\t[10.89672828 10.70886898  7.4705708 ]\t105  \t3        \t7             \t0.0166862               \t283         \t0.980989\t[0.38408923 0.38729286 0.28849626]\t[0.98093032 0.98093032 0.98110685]\t[0.98097402 0.98101858 0.98093032]\n",
            "False    \t[0.98101943 0.98093032 0.9808395 ]\t[14.33515882 13.60583591 10.34394431]\t106  \t16       \t35            \t0.0166862               \t242         \t0.98093 \t[0.3832233  0.38296223 0.27617455]\t[0.98101943 0.98093032 0.9808395 ]\t[0.98092947 0.98101858 0.98097487]\n",
            "False    \t[0.9808412  0.9808412  0.98110685]\t[11.54782891 11.59896779  8.12656379]\t107  \t16       \t7             \t0.0166862               \t283         \t0.98093 \t[0.38106036 0.37652564 0.27217722]\t[0.9808412  0.9808412  0.98110685]\t[0.98106314 0.98097402 0.98093032]\n",
            "False    \t[0.98093032 0.9808412  0.98101773]\t[10.70330071 10.49998903  7.47105002]\t108  \t3        \t7             \t0.0166862               \t283         \t0.98093 \t[0.39498401 0.36669397 0.27996254]\t[0.98093032 0.9808412  0.98101773]\t[0.98097402 0.98106314 0.98088576]\n",
            "False    \t[0.98093032 0.98093032 0.98092862]\t[10.97475362 10.42452812  7.69887877]\t109  \t3        \t7             \t0.0166862               \t283         \t0.98093 \t[0.4296577 0.3716383 0.2765708]   \t[0.98093032 0.98093032 0.98092862]\t[0.98097402 0.98101858 0.98093032]\n",
            "False    \t[0.98093032 0.9808412  0.98110685]\t[14.31436062 14.15018106 10.03647518]\t110  \t16       \t35            \t0.0166862               \t242         \t0.980959\t[0.38781238 0.37396216 0.27272201]\t[0.98093032 0.9808412  0.98110685]\t[0.98101858 0.98101858 0.98093032]\n",
            "False    \t[0.98093032 0.98093032 0.98101773]\t[10.65826392 10.82591558  7.45666218]\t111  \t3        \t7             \t0.0166862               \t283         \t0.980959\t[0.38063073 0.38117695 0.28060889]\t[0.98093032 0.98093032 0.98101773]\t[0.98097402 0.98097402 0.98093032]\n",
            "False    \t[0.98093032 0.98093032 0.98110685]\t[10.4184866  10.26065612  7.45258427]\t112  \t3        \t35            \t0.0166862               \t283         \t0.980989\t[0.38662457 0.39471555 0.28837132]\t[0.98093032 0.98093032 0.98110685]\t[0.98101858 0.98097402 0.98088576]\n",
            "False    \t[0.9808412  0.9808412  0.98110685]\t[10.52728176 10.61811733  7.33270001]\t113  \t3        \t7             \t0.0166862               \t283         \t0.98093 \t[0.385993   0.3871305  0.27594566]\t[0.9808412  0.9808412  0.98110685]\t[0.98101858 0.98097402 0.98093032]\n",
            "False    \t[0.98101943 0.98101943 0.98092862]\t[10.56819963 10.66767049  7.55211926]\t114  \t3        \t7             \t0.0166862               \t283         \t0.980989\t[0.38202    0.3863678  0.28270149]\t[0.98101943 0.98101943 0.98092862]\t[0.98097402 0.98097402 0.98097487]\n",
            "False    \t[0.98093032 0.9808412  0.98101773]\t[10.59400892 10.72199965  7.4350121 ]\t115  \t3        \t7             \t0.0166862               \t283         \t0.98093 \t[0.38421202 0.40408325 0.27723837]\t[0.98093032 0.9808412  0.98101773]\t[0.98092947 0.98101858 0.98097487]\n",
            "False    \t[0.98101943 0.98093032 0.98101773]\t[14.0745182  13.55635834  9.8953495 ]\t116  \t16       \t35            \t0.0166862               \t242         \t0.980989\t[0.38779187 0.36777878 0.27365708]\t[0.98101943 0.98093032 0.98101773]\t[0.98097402 0.98101858 0.98097487]\n",
            "False    \t[0.98101943 0.98075209 0.98101773]\t[10.74758935 10.66837478  7.35351729]\t117  \t3        \t7             \t0.0166862               \t283         \t0.98093 \t[0.39948702 0.38258338 0.28168392]\t[0.98101943 0.98075209 0.98101773]\t[0.98092947 0.98101858 0.98097487]\n",
            "False    \t[0.98093032 0.9808412  0.98101773]\t[10.6315918  10.50163054  7.44944334]\t118  \t3        \t7             \t0.0166862               \t283         \t0.98093 \t[0.38778353 0.3756547  0.27473736]\t[0.98093032 0.9808412  0.98101773]\t[0.98097402 0.98097402 0.98097487]\n",
            "False    \t[0.98075209 0.98101943 0.98101773]\t[10.62812233 10.53526783  7.44953465]\t119  \t3        \t35            \t0.0166862               \t283         \t0.98093 \t[0.39869642 0.39432788 0.28037167]\t[0.98075209 0.98101943 0.98101773]\t[0.98106314 0.98097402 0.98088576]\n",
            "False    \t[0.98101943 0.98093032 0.98101773]\t[13.98337102 14.25729179  9.7294507 ]\t120  \t16       \t35            \t0.0166862               \t242         \t0.980989\t[0.38089371 0.40716672 0.27447844]\t[0.98101943 0.98093032 0.98101773]\t[0.98097402 0.98097402 0.98097487]\n",
            "False    \t[0.98093032 0.98101943 0.98101773]\t[13.44619751 14.47725129 10.72469878]\t121  \t16       \t35            \t0.0166862               \t242         \t0.980989\t[0.36243939 0.3749454  0.27513075]\t[0.98093032 0.98101943 0.98101773]\t[0.98101858 0.98097402 0.98097487]\n",
            "False    \t[0.9808412  0.98101943 0.98101773]\t[11.59987497 11.47789311  8.02441168]\t122  \t16       \t7             \t0.0166862               \t283         \t0.980959\t[0.39520741 0.38237071 0.27918363]\t[0.9808412  0.98101943 0.98101773]\t[0.98101858 0.98092947 0.98093032]\n",
            "False    \t[0.9808412  0.98093032 0.98101773]\t[10.64330006 10.53674459  7.39404392]\t123  \t3        \t7             \t0.0166862               \t283         \t0.98093 \t[0.3878572  0.38933611 0.27390099]\t[0.9808412  0.98093032 0.98101773]\t[0.98097402 0.98101858 0.98093032]\n",
            "False    \t[0.9808412  0.98093032 0.98101773]\t[10.59312582 10.79339147  7.57113075]\t124  \t3        \t7             \t0.0166862               \t283         \t0.98093 \t[0.37223673 0.37717628 0.28562355]\t[0.9808412  0.98093032 0.98101773]\t[0.98106314 0.98097402 0.98088576]\n",
            "False    \t[0.98101943 0.98101943 0.98092862]\t[17.05024791 15.82293296 12.15900326]\t125  \t16       \t35            \t0.0166862               \t283         \t0.980989\t[0.42476177 0.42378187 0.33361244]\t[0.98101943 0.98101943 0.98092862]\t[0.98092947 0.98097402 0.98101943]\n",
            "False    \t[0.98093032 0.98101943 0.98101773]\t[15.54193282 16.28750753 11.91242337]\t126  \t16       \t35            \t0.0166862               \t283         \t0.980989\t[0.41934991 0.47690439 0.31596041]\t[0.98093032 0.98101943 0.98101773]\t[0.98101858 0.98097402 0.98097487]\n",
            "False    \t[0.98101943 0.98093032 0.98101773]\t[10.55301309 10.51439667  7.4048295 ]\t127  \t3        \t7             \t0.0166862               \t283         \t0.980989\t[0.37880802 0.37672806 0.27898955]\t[0.98101943 0.98093032 0.98101773]\t[0.98097402 0.98101858 0.98093032]\n",
            "False    \t[0.9808412  0.98093032 0.98101773]\t[10.44172621 10.759269    7.50829291]\t128  \t3        \t7             \t0.0166862               \t283         \t0.98093 \t[0.39281273 0.38222885 0.30052376]\t[0.9808412  0.98093032 0.98101773]\t[0.98097402 0.98101858 0.98093032]\n",
            "False    \t[0.98093032 0.98093032 0.98101773]\t[10.62648559 10.52459693  7.42244411]\t129  \t3        \t7             \t0.0166862               \t283         \t0.980959\t[0.38276219 0.38325167 0.28363037]\t[0.98093032 0.98093032 0.98101773]\t[0.98101858 0.98092947 0.98097487]\n",
            "False    \t[0.9808412  0.98101943 0.98110685]\t[10.56320453 10.71936035  7.57252789]\t130  \t3        \t7             \t0.0166862               \t283         \t0.980989\t[0.37771273 0.38437414 0.27830124]\t[0.9808412  0.98101943 0.98110685]\t[0.98106314 0.98092947 0.98093032]\n",
            "False    \t[0.98101943 0.9808412  0.98092862]\t[10.43315649 10.74459577  7.61869216]\t131  \t3        \t7             \t0.0166862               \t283         \t0.98093 \t[0.37396765 0.39131427 0.28425741]\t[0.98101943 0.9808412  0.98092862]\t[0.98097402 0.98101858 0.98093032]\n",
            "False    \t[0.98101943 0.9808412  0.98101773]\t[10.64650941 10.7179606   7.58925867]\t132  \t3        \t7             \t0.0166862               \t283         \t0.980959\t[0.38015151 0.39559817 0.28230309]\t[0.98101943 0.9808412  0.98101773]\t[0.98097402 0.98097402 0.98097487]\n",
            "False    \t[0.98093032 0.9808412  0.98110685]\t[16.3242197  17.01731968 11.95292664]\t133  \t16       \t35            \t0.0166862               \t283         \t0.980959\t[0.43972468 0.43474102 0.32139683]\t[0.98093032 0.9808412  0.98110685]\t[0.98101858 0.98101858 0.98093032]\n",
            "False    \t[0.98101943 0.9808412  0.98092862]\t[10.62260008 10.58705831  7.26070523]\t134  \t3        \t7             \t0.0166862               \t283         \t0.98093 \t[0.38949609 0.40141487 0.28306723]\t[0.98101943 0.9808412  0.98092862]\t[0.98097402 0.98097402 0.98101943]\n",
            "False    \t[0.98093032 0.9808412  0.98101773]\t[10.50169134 10.75852799  7.43754387]\t135  \t3        \t7             \t0.0166862               \t283         \t0.98093 \t[0.36375308 0.38256335 0.27931094]\t[0.98093032 0.9808412  0.98101773]\t[0.98092947 0.98101858 0.98097487]\n",
            "False    \t[0.98075209 0.98101943 0.98101773]\t[10.67531443 10.64507723  7.56390572]\t136  \t3        \t7             \t0.0166862               \t283         \t0.98093 \t[0.40057588 0.38623214 0.27569914]\t[0.98075209 0.98101943 0.98101773]\t[0.98101858 0.98097402 0.98093032]\n",
            "False    \t[0.98101943 0.98075209 0.98110685]\t[10.68968725 10.61966991  7.31875157]\t137  \t3        \t7             \t0.0166862               \t283         \t0.980959\t[0.39351869 0.3719337  0.27858472]\t[0.98101943 0.98075209 0.98110685]\t[0.98097402 0.98106314 0.98093032]\n",
            "False    \t[0.98101943 0.98093032 0.98101773]\t[11.60597157 11.11144948  8.24406815]\t138  \t16       \t7             \t0.0166862               \t283         \t0.980989\t[0.39836955 0.36220026 0.27573657]\t[0.98101943 0.98093032 0.98101773]\t[0.98097402 0.98101858 0.98097487]\n",
            "False    \t[0.98093032 0.98093032 0.98092862]\t[10.32715726 10.54316115  7.48174739]\t139  \t3        \t7             \t0.0166862               \t283         \t0.98093 \t[0.37406778 0.39230466 0.28640175]\t[0.98093032 0.98093032 0.98092862]\t[0.98101858 0.98101858 0.98093032]\n",
            "False    \t[0.98093032 0.98101943 0.98101773]\t[13.96525216 14.77063465 10.1627512 ]\t140  \t16       \t35            \t0.0166862               \t242         \t0.980989\t[0.3706286  0.39509654 0.27507401]\t[0.98093032 0.98101943 0.98101773]\t[0.98101858 0.98092947 0.98093032]\n",
            "False    \t[0.98093032 0.98101943 0.98092862]\t[10.80062985 10.65008903  7.46021271]\t141  \t3        \t7             \t0.0166862               \t283         \t0.980959\t[0.39553714 0.3769691  0.27649736]\t[0.98093032 0.98101943 0.98092862]\t[0.98097402 0.98097402 0.98101943]\n",
            "False    \t[0.98101943 0.98075209 0.98101773]\t[10.9021852  10.5689106   7.54468465]\t142  \t3        \t7             \t0.0166862               \t283         \t0.98093 \t[0.39055538 0.3613162  0.2733295 ]\t[0.98101943 0.98075209 0.98101773]\t[0.98097402 0.98101858 0.98097487]\n",
            "False    \t[0.98093032 0.98093032 0.98101773]\t[10.74496603 10.54069638  7.50637603]\t143  \t3        \t7             \t0.0166862               \t283         \t0.980959\t[0.39982033 0.37939095 0.27980161]\t[0.98093032 0.98093032 0.98101773]\t[0.98092947 0.98101858 0.98097487]\n",
            "False    \t[0.9808412  0.98101943 0.98110685]\t[9.0372417  9.04357529 6.2888248 ]   \t144  \t3        \t35            \t0.0166862               \t242         \t0.980989\t[0.35078835 0.33619809 0.24459195]\t[0.9808412  0.98101943 0.98110685]\t[0.98106314 0.98097402 0.98093032]\n",
            "False    \t[0.98101943 0.98101943 0.98075038]\t[17.15754938 16.53340101 11.86875343]\t145  \t16       \t35            \t0.0166862               \t283         \t0.98093 \t[0.45121527 0.42653131 0.33118534]\t[0.98101943 0.98101943 0.98075038]\t[0.98092947 0.98097402 0.98101943]\n",
            "False    \t[0.9808412  0.98093032 0.98101773]\t[10.50135231 10.60066915  7.42263317]\t146  \t3        \t35            \t0.0166862               \t283         \t0.98093 \t[0.37412429 0.38169551 0.28372836]\t[0.9808412  0.98093032 0.98101773]\t[0.98097402 0.98097402 0.98097487]\n",
            "False    \t[0.98101943 0.9808412  0.98101773]\t[10.90717697 10.72080946  7.47484756]\t147  \t3        \t35            \t0.0166862               \t283         \t0.980959\t[0.42708683 0.41665053 0.28165174]\t[0.98101943 0.9808412  0.98101773]\t[0.98092947 0.98101858 0.98097487]\n",
            "False    \t[0.98066298 0.98101943 0.98110685]\t[16.85259318 16.37140656 11.97899532]\t148  \t16       \t35            \t0.0166862               \t283         \t0.98093 \t[0.46033669 0.47464013 0.32360721]\t[0.98066298 0.98101943 0.98110685]\t[0.98106314 0.98092947 0.98093032]\n",
            "False    \t[0.98093032 0.98101943 0.98092862]\t[17.04651165 16.52642155 11.57001042]\t149  \t16       \t35            \t0.0166862               \t283         \t0.980959\t[0.46779156 0.42917895 0.32794166]\t[0.98093032 0.98101943 0.98092862]\t[0.98101858 0.98097402 0.98097487]\n",
            "False    \t[0.9808412  0.98101943 0.98092862]\t[10.56385851 10.58934164  7.34836864]\t150  \t3        \t7             \t0.0166862               \t283         \t0.98093 \t[0.37455964 0.38198471 0.27539563]\t[0.9808412  0.98101943 0.98092862]\t[0.98106314 0.98092947 0.98093032]\n",
            "False    \t[0.98101943 0.98075209 0.98110685]\t[17.56499815 16.32136583 11.6321938 ]\t151  \t16       \t35            \t0.0166862               \t283         \t0.980959\t[0.43810654 0.41361594 0.31497908]\t[0.98101943 0.98075209 0.98110685]\t[0.98097402 0.98106314 0.98093032]\n",
            "False    \t[0.98075209 0.98093032 0.98110685]\t[16.68164039 16.55250812 11.71727967]\t152  \t16       \t35            \t0.0166862               \t283         \t0.98093 \t[0.48816085 0.4698925  0.32035518]\t[0.98075209 0.98093032 0.98110685]\t[0.98101858 0.98101858 0.98093032]\n",
            "False    \t[0.98093032 0.98101943 0.98092862]\t[15.60620546 16.8167634  12.13140821]\t153  \t16       \t35            \t0.0166862               \t283         \t0.980959\t[0.4383409  0.43609571 0.32831073]\t[0.98093032 0.98101943 0.98092862]\t[0.98101858 0.98097402 0.98097487]\n",
            "False    \t[0.98075209 0.98093032 0.98110685]\t[13.80479836 14.4823854   9.99141359]\t154  \t16       \t35            \t0.0166862               \t242         \t0.98093 \t[0.37743521 0.40263772 0.27731895]\t[0.98075209 0.98093032 0.98110685]\t[0.98101858 0.98101858 0.98093032]\n",
            "False    \t[0.98093032 0.98093032 0.98101773]\t[10.58712292 10.6258266   7.4206655 ]\t155  \t3        \t7             \t0.0166862               \t283         \t0.980959\t[0.382936   0.38497734 0.28374076]\t[0.98093032 0.98093032 0.98101773]\t[0.98097402 0.98097402 0.98097487]\n",
            "False    \t[0.9808412  0.9808412  0.98110685]\t[10.82419086 10.616745    7.46632075]\t156  \t3        \t7             \t0.0166862               \t283         \t0.98093 \t[0.37912965 0.39342761 0.28008866]\t[0.9808412  0.9808412  0.98110685]\t[0.98101858 0.98097402 0.98093032]\n",
            "False    \t[0.98101943 0.9808412  0.98110685]\t[14.64963746 13.91909528 10.08567786]\t157  \t16       \t35            \t0.0166862               \t242         \t0.980989\t[0.38881421 0.42250919 0.2842145 ]\t[0.98101943 0.9808412  0.98110685]\t[0.98097402 0.98106314 0.98093032]\n",
            "False    \t[0.98101943 0.9808412  0.98101773]\t[11.52701569 11.64818573  8.04248095]\t158  \t16       \t7             \t0.0166862               \t283         \t0.980959\t[0.37263179 0.37735343 0.28261471]\t[0.98101943 0.9808412  0.98101773]\t[0.98097402 0.98106314 0.98093032]\n",
            "False    \t[0.98101943 0.9808412  0.98101773]\t[11.21945524 11.58196092  8.19043612]\t159  \t16       \t7             \t0.0166862               \t283         \t0.980959\t[0.36709332 0.38002253 0.27914977]\t[0.98101943 0.9808412  0.98101773]\t[0.98092947 0.98101858 0.98097487]\n",
            "False    \t[0.98093032 0.98093032 0.98110685]\t[16.5277307  16.36365032 11.50688076]\t160  \t16       \t35            \t0.0166862               \t283         \t0.980989\t[0.46286368 0.44355798 0.31696057]\t[0.98093032 0.98093032 0.98110685]\t[0.98101858 0.98101858 0.98093032]\n",
            "False    \t[0.98101943 0.98093032 0.9808395 ]\t[16.22509456 15.81869888 12.32431006]\t161  \t16       \t35            \t0.0166862               \t283         \t0.98093 \t[0.43920374 0.44723725 0.32842135]\t[0.98101943 0.98093032 0.9808395 ]\t[0.98097402 0.98101858 0.98097487]\n",
            "False    \t[0.98101943 0.98101943 0.98092862]\t[18.07450986 17.65564895 11.70988297]\t162  \t16       \t35            \t0.0166862               \t283         \t0.980989\t[0.45614767 0.45935369 0.32372141]\t[0.98101943 0.98101943 0.98092862]\t[0.98097402 0.98092947 0.98101943]\n",
            "False    \t[0.98101943 0.98093032 0.98092862]\t[15.98437548 16.61117792 11.93306184]\t163  \t16       \t35            \t0.0166862               \t283         \t0.980959\t[0.4295063  0.4653542  0.32710814]\t[0.98101943 0.98093032 0.98092862]\t[0.98097402 0.98097402 0.98101943]\n",
            "False    \t[0.98093032 0.9808412  0.98110685]\t[14.10471988 14.48173094 10.58478308]\t164  \t16       \t35            \t0.0166862               \t242         \t0.980959\t[0.36341023 0.38042712 0.2881484 ]\t[0.98093032 0.9808412  0.98110685]\t[0.98101858 0.98101858 0.98093032]\n",
            "False    \t[0.98093032 0.9808412  0.98101773]\t[10.62857747 10.77311254  7.49953079]\t165  \t3        \t35            \t0.0166862               \t283         \t0.98093 \t[0.39519596 0.40506625 0.27873564]\t[0.98093032 0.9808412  0.98101773]\t[0.98097402 0.98101858 0.98088576]\n",
            "False    \t[0.98093032 0.98101943 0.98101773]\t[16.90729809 16.99497366 11.0538497 ]\t166  \t16       \t35            \t0.0166862               \t283         \t0.980989\t[0.47126484 0.46903229 0.32495451]\t[0.98093032 0.98101943 0.98101773]\t[0.98101858 0.98092947 0.98097487]\n",
            "False    \t[0.98093032 0.9808412  0.98110685]\t[11.46059585 11.68096638  8.06678939]\t167  \t16       \t7             \t0.0166862               \t283         \t0.980959\t[0.375458   0.39907122 0.28362226]\t[0.98093032 0.9808412  0.98110685]\t[0.98101858 0.98097402 0.98093032]\n",
            "False    \t[0.98101943 0.98101943 0.9808395 ]\t[11.5749836  11.3972919   8.19394422]\t168  \t16       \t7             \t0.0166862               \t283         \t0.980959\t[0.38233066 0.38090277 0.28263855]\t[0.98101943 0.98101943 0.9808395 ]\t[0.98097402 0.98097402 0.98101943]\n",
            "False    \t[0.98093032 0.98101943 0.98092862]\t[10.55787182 10.77998686  7.61663079]\t169  \t3        \t7             \t0.0166862               \t283         \t0.980959\t[0.37625074 0.37464452 0.28586221]\t[0.98093032 0.98101943 0.98092862]\t[0.98101858 0.98097402 0.98093032]\n",
            "False    \t[0.98093032 0.98093032 0.98110685]\t[11.21347046 11.51044178  8.21425796]\t170  \t16       \t7             \t0.0166862               \t283         \t0.980989\t[0.35881448 0.38544297 0.27390146]\t[0.98093032 0.98093032 0.98110685]\t[0.98101858 0.98101858 0.98088576]\n",
            "False    \t[0.98093032 0.9808412  0.98101773]\t[10.60139704 10.67422533  7.46277356]\t171  \t3        \t7             \t0.0166862               \t283         \t0.98093 \t[0.38809419 0.39886141 0.28263593]\t[0.98093032 0.9808412  0.98101773]\t[0.98097402 0.98101858 0.98088576]\n",
            "False    \t[0.9808412  0.98093032 0.98101773]\t[15.56688118 17.16936707 12.73049903]\t172  \t16       \t35            \t0.0166862               \t283         \t0.98093 \t[0.41779327 0.47834158 0.3277545 ]\t[0.9808412  0.98093032 0.98101773]\t[0.98106314 0.98092947 0.98093032]\n",
            "False    \t[0.9808412  0.9808412  0.98110685]\t[10.61879063 10.75513506  7.4879849 ]\t173  \t3        \t35            \t0.0166862               \t283         \t0.98093 \t[0.38417053 0.38405609 0.28490019]\t[0.9808412  0.9808412  0.98110685]\t[0.98101858 0.98097402 0.98093032]\n",
            "False    \t[0.98101943 0.98093032 0.98101773]\t[11.49750638 11.62305021  8.48687935]\t174  \t16       \t7             \t0.0166862               \t283         \t0.980989\t[0.37954235 0.4034574  0.27400708]\t[0.98101943 0.98093032 0.98101773]\t[0.98097402 0.98101858 0.98093032]\n",
            "False    \t[0.98066298 0.98101943 0.98110685]\t[10.64408541 10.55698371  7.35683942]\t175  \t3        \t7             \t0.0166862               \t283         \t0.98093 \t[0.38642263 0.37937307 0.28694439]\t[0.98066298 0.98101943 0.98110685]\t[0.98106314 0.98097402 0.98088576]\n",
            "False    \t[0.98101943 0.98075209 0.98101773]\t[16.56379008 15.92893648 11.79436898]\t176  \t16       \t35            \t0.0166862               \t283         \t0.98093 \t[0.44741964 0.41830826 0.33299136]\t[0.98101943 0.98075209 0.98101773]\t[0.98097402 0.98101858 0.98097487]\n",
            "False    \t[0.9808412  0.98101943 0.98101773]\t[10.64981127 10.87259173  7.48232102]\t177  \t3        \t7             \t0.0166862               \t283         \t0.980959\t[0.41384816 0.40189099 0.2797482 ]\t[0.9808412  0.98101943 0.98101773]\t[0.98097402 0.98097402 0.98097487]\n",
            "False    \t[0.9808412  0.98101943 0.98092862]\t[10.48315573 10.65047717  7.62904096]\t178  \t3        \t7             \t0.0166862               \t283         \t0.98093 \t[0.38283515 0.39240575 0.2781291 ]\t[0.9808412  0.98101943 0.98092862]\t[0.98097402 0.98092947 0.98097487]\n",
            "False    \t[0.98101943 0.98093032 0.98092862]\t[10.74967599 10.60008359  7.4539392 ]\t179  \t3        \t35            \t0.0166862               \t283         \t0.980959\t[0.40161896 0.37296796 0.28824186]\t[0.98101943 0.98093032 0.98092862]\t[0.98097402 0.98101858 0.98093032]\n",
            "False    \t[0.9808412  0.98101943 0.98101773]\t[11.74451852 11.16540074  8.17875552]\t180  \t16       \t7             \t0.0166862               \t283         \t0.980959\t[0.3868804  0.38049126 0.28203154]\t[0.9808412  0.98101943 0.98101773]\t[0.98097402 0.98097402 0.98097487]\n",
            "False    \t[0.98093032 0.98093032 0.98101773]\t[10.60597491 10.52383971  7.38378167]\t181  \t3        \t7             \t0.0166862               \t283         \t0.980959\t[0.3933661  0.40085936 0.27993298]\t[0.98093032 0.98093032 0.98101773]\t[0.98097402 0.98097402 0.98093032]\n",
            "False    \t[0.98101943 0.9808412  0.98101773]\t[10.77236366 10.50097632  7.4901855 ]\t182  \t3        \t35            \t0.0166862               \t283         \t0.980959\t[0.39304256 0.3740418  0.28283572]\t[0.98101943 0.9808412  0.98101773]\t[0.98092947 0.98106314 0.98088576]\n",
            "False    \t[0.98101943 0.9808412  0.98101773]\t[10.89992023 10.62389731  7.47970581]\t183  \t3        \t7             \t0.0166862               \t283         \t0.980959\t[0.39558387 0.39980698 0.27838683]\t[0.98101943 0.9808412  0.98101773]\t[0.98092947 0.98101858 0.98093032]\n",
            "False    \t[0.98093032 0.98101943 0.98101773]\t[17.36554408 16.45310283 11.70489788]\t184  \t16       \t35            \t0.0166862               \t283         \t0.980989\t[0.45935059 0.41919112 0.32031727]\t[0.98093032 0.98101943 0.98101773]\t[0.98101858 0.98097402 0.98097487]\n",
            "False    \t[0.98101943 0.98101943 0.98075038]\t[16.52955079 16.6005249  11.44553065]\t185  \t16       \t35            \t0.0166862               \t283         \t0.98093 \t[0.45920539 0.46299386 0.3155334 ]\t[0.98101943 0.98101943 0.98075038]\t[0.98097402 0.98097402 0.98101943]\n",
            "False    \t[0.98101943 0.9808412  0.98101773]\t[10.44173646 10.73460817  7.63640523]\t186  \t3        \t7             \t0.0166862               \t283         \t0.980959\t[0.37061834 0.38972998 0.27907944]\t[0.98101943 0.9808412  0.98101773]\t[0.98097402 0.98101858 0.98093032]\n",
            "False    \t[0.98101943 0.98075209 0.98101773]\t[10.63913512 10.53647685  7.39199328]\t187  \t3        \t7             \t0.0166862               \t283         \t0.98093 \t[0.38143373 0.37464142 0.27709842]\t[0.98101943 0.98075209 0.98101773]\t[0.98092947 0.98101858 0.98093032]\n",
            "False    \t[0.9808412  0.98093032 0.98101773]\t[12.93378735 11.12102985  9.39350986]\t188  \t16       \t7             \t0.0166862               \t283         \t0.98093 \t[0.50760126 0.35673642 0.27165532]\t[0.9808412  0.98093032 0.98101773]\t[0.98097402 0.98101858 0.98093032]\n",
            "False    \t[0.98101943 0.9808412  0.98101773]\t[16.99625516 16.55620599 11.6545217 ]\t189  \t16       \t35            \t0.0166862               \t283         \t0.980959\t[0.45558357 0.4461329  0.31476951]\t[0.98101943 0.9808412  0.98101773]\t[0.98097402 0.98101858 0.98097487]\n",
            "False    \t[0.9808412  0.98093032 0.98101773]\t[16.08894348 16.40766716 12.15321922]\t190  \t16       \t35            \t0.0166862               \t283         \t0.98093 \t[0.43593097 0.45282745 0.32584071]\t[0.9808412  0.98093032 0.98101773]\t[0.98097402 0.98101858 0.98097487]\n",
            "False    \t[0.9808412  0.98101943 0.98110685]\t[11.62885928 11.30817699  8.14924073]\t191  \t16       \t7             \t0.0166862               \t283         \t0.980989\t[0.37115264 0.37222862 0.27804685]\t[0.9808412  0.98101943 0.98110685]\t[0.98106314 0.98097402 0.98093032]\n",
            "False    \t[0.98101943 0.9808412  0.98101773]\t[17.10793233 15.98547482 12.23435402]\t192  \t16       \t35            \t0.0166862               \t283         \t0.980959\t[0.45586491 0.44443583 0.33841825]\t[0.98101943 0.9808412  0.98101773]\t[0.98097402 0.98101858 0.98097487]\n",
            "False    \t[0.9808412  0.98093032 0.98110685]\t[10.78791666 10.49798656  7.58513141]\t193  \t3        \t7             \t0.0166862               \t283         \t0.980959\t[0.37749028 0.37170124 0.28471661]\t[0.9808412  0.98093032 0.98110685]\t[0.98097402 0.98101858 0.98088576]\n",
            "False    \t[0.9808412  0.98101943 0.98092862]\t[10.85509205 10.82440066  7.39557576]\t194  \t3        \t35            \t0.0166862               \t283         \t0.98093 \t[0.38607311 0.38777661 0.28316164]\t[0.9808412  0.98101943 0.98092862]\t[0.98106314 0.98092947 0.98093032]\n",
            "False    \t[0.98101943 0.98075209 0.98110685]\t[10.58756208 10.58230877  7.40357232]\t195  \t3        \t35            \t0.0166862               \t283         \t0.980959\t[0.39290309 0.39229655 0.28641105]\t[0.98101943 0.98075209 0.98110685]\t[0.98097402 0.98106314 0.98088576]\n",
            "False    \t[0.98093032 0.98101943 0.98092862]\t[10.56153154 10.67228603  7.44924808]\t196  \t3        \t7             \t0.0166862               \t283         \t0.980959\t[0.36880207 0.38452578 0.2768805 ]\t[0.98093032 0.98101943 0.98092862]\t[0.98101858 0.98097402 0.98097487]\n",
            "False    \t[0.98075209 0.98101943 0.98101773]\t[10.5864687  10.37425327  7.51817918]\t197  \t3        \t35            \t0.0166862               \t283         \t0.98093 \t[0.40988088 0.37687421 0.28154421]\t[0.98075209 0.98101943 0.98101773]\t[0.98106314 0.98097402 0.98088576]\n",
            "False    \t[0.98093032 0.98101943 0.98092862]\t[16.3293488  16.0453589  11.66717362]\t198  \t16       \t17            \t0.0166862               \t283         \t0.980959\t[0.4531498  0.42639875 0.31261969]\t[0.98093032 0.98101943 0.98092862]\t[0.98097402 0.98097402 0.98101943]\n",
            "False    \t[0.98093032 0.98093032 0.98110685]\t[20.78184628 21.68685365 12.1654036 ]\t199  \t16       \t35            \t0.0166862               \t283         \t0.980989\t[0.43106723 0.44343328 0.33002782]\t[0.98093032 0.98093032 0.98110685]\t[0.98101858 0.98097402 0.98088576]\n",
            "False    \t[0.9808412  0.98101943 0.98101773]\t[11.6218853  11.46146178  8.07693291]\t200  \t16       \t7             \t0.0166862               \t283         \t0.980959\t[0.40012956 0.38897061 0.27969933]\t[0.9808412  0.98101943 0.98101773]\t[0.98101858 0.98097402 0.98097487]\n",
            "False    \t[0.98101943 0.9808412  0.98110685]\t[16.62892556 16.95082974 11.57608962]\t201  \t16       \t35            \t0.0166862               \t283         \t0.980989\t[0.44513798 0.46115375 0.31734943]\t[0.98101943 0.9808412  0.98110685]\t[0.98097402 0.98106314 0.98093032]\n",
            "False    \t[0.9808412  0.9808412  0.98110685]\t[10.62223053 10.75382328  7.47124839]\t202  \t3        \t7             \t0.0166862               \t283         \t0.98093 \t[0.39426017 0.38126373 0.28113723]\t[0.9808412  0.9808412  0.98110685]\t[0.98097402 0.98101858 0.98088576]\n",
            "False    \t[0.98101943 0.98066298 0.98110685]\t[17.92144489 18.08706236 11.49739122]\t203  \t16       \t35            \t0.0166862               \t283         \t0.98093 \t[0.45403457 0.4714129  0.31874037]\t[0.98101943 0.98066298 0.98110685]\t[0.98092947 0.98106314 0.98093032]\n",
            "False    \t[0.98101943 0.98093032 0.98092862]\t[16.13880014 16.36615157 11.87284517]\t204  \t16       \t35            \t0.0166862               \t283         \t0.980959\t[0.46309114 0.44182682 0.33395886]\t[0.98101943 0.98093032 0.98092862]\t[0.98097402 0.98101858 0.98097487]\n",
            "False    \t[0.98093032 0.98101943 0.98101773]\t[16.84645224 16.48305106 11.62056923]\t205  \t16       \t35            \t0.0166862               \t283         \t0.980989\t[0.45339394 0.45508218 0.31943297]\t[0.98093032 0.98101943 0.98101773]\t[0.98101858 0.98097402 0.98097487]\n",
            "False    \t[0.9808412  0.98093032 0.98110685]\t[16.38068962 16.60622406 12.19276071]\t206  \t16       \t35            \t0.0166862               \t283         \t0.980959\t[0.43620515 0.46190262 0.32622719]\t[0.9808412  0.98093032 0.98110685]\t[0.98106314 0.98097402 0.98093032]\n",
            "False    \t[0.98101943 0.98101943 0.98092862]\t[16.07658267 16.81193304 12.02392983]\t207  \t16       \t35            \t0.0166862               \t283         \t0.980989\t[0.42644668 0.44888449 0.32011652]\t[0.98101943 0.98101943 0.98092862]\t[0.98097402 0.98097402 0.98101943]\n",
            "False    \t[0.98101943 0.98093032 0.98092862]\t[10.65793014 10.51940608  7.45240378]\t208  \t3        \t7             \t0.0166862               \t283         \t0.980959\t[0.38173914 0.42332935 0.28278446]\t[0.98101943 0.98093032 0.98092862]\t[0.98097402 0.98097402 0.98101943]\n",
            "False    \t[0.98101943 0.98093032 0.98101773]\t[16.56550765 16.6652329  11.19736934]\t209  \t16       \t35            \t0.0166862               \t283         \t0.980989\t[0.44797325 0.46504664 0.31258559]\t[0.98101943 0.98093032 0.98101773]\t[0.98097402 0.98101858 0.98097487]\n",
            "False    \t[0.98101943 0.98093032 0.98101773]\t[16.97734618 16.75012326 11.42961788]\t210  \t16       \t35            \t0.0166862               \t283         \t0.980989\t[0.47618413 0.45618343 0.31171918]\t[0.98101943 0.98093032 0.98101773]\t[0.98097402 0.98101858 0.98097487]\n",
            "False    \t[0.98101943 0.98093032 0.98092862]\t[16.92310238 16.55400991 11.88403535]\t211  \t16       \t35            \t0.0166862               \t283         \t0.980959\t[0.46602988 0.42404628 0.3180306 ]\t[0.98101943 0.98093032 0.98092862]\t[0.98097402 0.98101858 0.98097487]\n",
            "False    \t[0.98093032 0.98101943 0.98101773]\t[16.14119411 16.30927944 12.24212623]\t212  \t16       \t35            \t0.0166862               \t283         \t0.980989\t[0.44083285 0.44538665 0.32826233]\t[0.98093032 0.98101943 0.98101773]\t[0.98101858 0.98097402 0.98097487]\n",
            "False    \t[0.98093032 0.98093032 0.98101773]\t[16.6958878  16.8564949  10.85006237]\t213  \t16       \t35            \t0.0166862               \t283         \t0.980959\t[0.45139766 0.47456002 0.31177282]\t[0.98093032 0.98093032 0.98101773]\t[0.98092947 0.98101858 0.98097487]\n",
            "False    \t[0.9808412  0.98101943 0.98101773]\t[10.95107031 10.56670308  7.56788397]\t214  \t3        \t35            \t0.0166862               \t283         \t0.980959\t[0.39023876 0.36962891 0.28126097]\t[0.9808412  0.98101943 0.98101773]\t[0.98106314 0.98092947 0.98088576]\n",
            "False    \t[0.9808412  0.98093032 0.98110685]\t[10.82218051 10.44003677  7.49504089]\t215  \t3        \t7             \t0.0166862               \t283         \t0.980959\t[0.40211034 0.36072135 0.28127074]\t[0.9808412  0.98093032 0.98110685]\t[0.98101858 0.98101858 0.98093032]\n",
            "False    \t[0.98101943 0.98093032 0.98101773]\t[16.31399465 16.61787367 11.88678288]\t216  \t16       \t35            \t0.0166862               \t283         \t0.980989\t[0.43756843 0.45953918 0.32521605]\t[0.98101943 0.98093032 0.98101773]\t[0.98097402 0.98097402 0.98097487]\n",
            "False    \t[0.9808412  0.98101943 0.98101773]\t[16.3769629  16.88385963 12.04835677]\t217  \t16       \t35            \t0.0166862               \t283         \t0.980959\t[0.42135453 0.45390129 0.32150459]\t[0.9808412  0.98101943 0.98101773]\t[0.98106314 0.98097402 0.98093032]\n",
            "False    \t[0.98101943 0.98101943 0.9808395 ]\t[16.27470112 17.14847326 12.07119775]\t218  \t16       \t35            \t0.0166862               \t283         \t0.980959\t[0.42551088 0.44393158 0.3208859 ]\t[0.98101943 0.98101943 0.9808395 ]\t[0.98097402 0.98097402 0.98097487]\n",
            "False    \t[0.98093032 0.98093032 0.98101773]\t[17.09283876 16.14497733 11.9905951 ]\t219  \t16       \t35            \t0.0166862               \t283         \t0.980959\t[0.43947244 0.43227172 0.32104754]\t[0.98093032 0.98093032 0.98101773]\t[0.98097402 0.98101858 0.98097487]\n",
            "False    \t[0.98101943 0.9808412  0.98110685]\t[16.72440386 16.41724229 11.70287418]\t220  \t16       \t35            \t0.0166862               \t283         \t0.980989\t[0.47100902 0.44021034 0.32167983]\t[0.98101943 0.9808412  0.98110685]\t[0.98097402 0.98106314 0.98093032]\n",
            "False    \t[0.98093032 0.98093032 0.98110685]\t[17.09088564 16.13941693 11.9214642 ]\t221  \t16       \t35            \t0.0166862               \t283         \t0.980989\t[0.45573759 0.45047045 0.32133722]\t[0.98093032 0.98093032 0.98110685]\t[0.98097402 0.98101858 0.98093032]\n",
            "False    \t[0.98093032 0.98093032 0.98110685]\t[15.93586564 16.00446177 11.54038143]\t222  \t16       \t35            \t0.0166862               \t283         \t0.980989\t[0.46868682 0.46849298 0.32761025]\t[0.98093032 0.98093032 0.98110685]\t[0.98101858 0.98101858 0.98093032]\n",
            "False    \t[0.98101943 0.98093032 0.98101773]\t[16.58042455 16.96149039 11.31355286]\t223  \t16       \t35            \t0.0166862               \t283         \t0.980989\t[0.44621587 0.44928098 0.32161283]\t[0.98101943 0.98093032 0.98101773]\t[0.98097402 0.98101858 0.98097487]\n",
            "False    \t[0.98093032 0.98101943 0.98101773]\t[16.48699856 16.64898229 11.69418287]\t224  \t16       \t35            \t0.0166862               \t283         \t0.980989\t[0.43932271 0.46401691 0.31555963]\t[0.98093032 0.98101943 0.98101773]\t[0.98101858 0.98097402 0.98097487]\n",
            "False    \t[0.98093032 0.98101943 0.98092862]\t[17.35503578 16.27988029 11.81263995]\t225  \t16       \t35            \t0.0166862               \t283         \t0.980959\t[0.46039462 0.43850994 0.32272673]\t[0.98093032 0.98101943 0.98092862]\t[0.98101858 0.98097402 0.98097487]\n",
            "False    \t[0.9808412  0.98101943 0.98110685]\t[16.68728709 16.72269297 11.63593984]\t226  \t16       \t35            \t0.0166862               \t283         \t0.980989\t[0.44885206 0.45126081 0.32898974]\t[0.9808412  0.98101943 0.98110685]\t[0.98106314 0.98097402 0.98093032]\n",
            "False    \t[0.98101943 0.9808412  0.98101773]\t[16.07841587 17.62534523 12.0074563 ]\t227  \t16       \t35            \t0.0166862               \t283         \t0.980959\t[0.41719079 0.45047879 0.32600975]\t[0.98101943 0.9808412  0.98101773]\t[0.98097402 0.98101858 0.98097487]\n",
            "False    \t[0.98093032 0.98101943 0.98092862]\t[16.38609481 17.15287971 12.4469533 ]\t228  \t16       \t35            \t0.0166862               \t283         \t0.980959\t[0.43904924 0.55793071 0.33195114]\t[0.98093032 0.98101943 0.98092862]\t[0.98097402 0.98097402 0.98097487]\n",
            "False    \t[0.98101943 0.98101943 0.98092862]\t[15.55927277 16.9473691  12.45225048]\t229  \t16       \t35            \t0.0166862               \t283         \t0.980989\t[0.42833304 0.43075442 0.32342458]\t[0.98101943 0.98101943 0.98092862]\t[0.98097402 0.98097402 0.98101943]\n",
            "False    \t[0.98101943 0.98093032 0.98092862]\t[16.71501112 16.23676181 11.67753172]\t230  \t16       \t35            \t0.0166862               \t283         \t0.980959\t[0.45315552 0.41577721 0.32284689]\t[0.98101943 0.98093032 0.98092862]\t[0.98097402 0.98097402 0.98101943]\n",
            "False    \t[0.98101943 0.9808412  0.98101773]\t[17.02970123 16.42943621 11.72178149]\t231  \t16       \t35            \t0.0166862               \t283         \t0.980959\t[0.47150707 0.43494415 0.31165218]\t[0.98101943 0.9808412  0.98101773]\t[0.98097402 0.98101858 0.98097487]\n",
            "False    \t[0.98101943 0.9808412  0.98110685]\t[17.0783782  16.51638484 11.88153887]\t232  \t16       \t35            \t0.0166862               \t283         \t0.980989\t[0.46383142 0.44381881 0.31664872]\t[0.98101943 0.9808412  0.98110685]\t[0.98097402 0.98106314 0.98093032]\n",
            "False    \t[0.98101943 0.98075209 0.98101773]\t[16.24142289 16.68709946 12.08073521]\t233  \t16       \t35            \t0.0166862               \t283         \t0.98093 \t[0.43809152 0.46529341 0.32597899]\t[0.98101943 0.98075209 0.98101773]\t[0.98097402 0.98101858 0.98093032]\n",
            "False    \t[0.98075209 0.98101943 0.98110685]\t[16.72959042 16.85242033 11.90299773]\t234  \t16       \t35            \t0.0166862               \t283         \t0.980959\t[0.45044756 0.4779644  0.32342577]\t[0.98075209 0.98101943 0.98110685]\t[0.98106314 0.98092947 0.98093032]\n",
            "False    \t[0.98101943 0.98101943 0.98092862]\t[16.7417469  16.98587823 11.35302997]\t235  \t16       \t35            \t0.0166862               \t283         \t0.980989\t[0.44146061 0.44249368 0.32269907]\t[0.98101943 0.98101943 0.98092862]\t[0.98097402 0.98092947 0.98101943]\n",
            "False    \t[0.9808412  0.98093032 0.98110685]\t[16.61453557 16.83372521 11.48390126]\t236  \t16       \t35            \t0.0166862               \t283         \t0.980959\t[0.45503712 0.46678519 0.31200504]\t[0.9808412  0.98093032 0.98110685]\t[0.98101858 0.98101858 0.98088576]\n",
            "False    \t[0.98101943 0.98093032 0.98101773]\t[15.5300796  16.74025321 12.06659627]\t237  \t16       \t35            \t0.0166862               \t283         \t0.980989\t[0.44068003 0.4357698  0.32544923]\t[0.98101943 0.98093032 0.98101773]\t[0.98097402 0.98101858 0.98097487]\n",
            "False    \t[0.98101943 0.98101943 0.9808395 ]\t[16.24551177 16.60484433 11.7858181 ]\t238  \t16       \t35            \t0.0166862               \t283         \t0.980959\t[0.42318821 0.48137999 0.32196951]\t[0.98101943 0.98101943 0.9808395 ]\t[0.98097402 0.98097402 0.98101943]\n",
            "False    \t[0.9808412  0.98101943 0.98110685]\t[17.20898008 16.17216372 11.74010181]\t239  \t16       \t35            \t0.0166862               \t283         \t0.980989\t[0.46823525 0.43231201 0.31354594]\t[0.9808412  0.98101943 0.98110685]\t[0.98106314 0.98097402 0.98093032]\n",
            "False    \t[0.9808412  0.98093032 0.98101773]\t[16.15406871 16.80046129 12.24837232]\t240  \t16       \t35            \t0.0166862               \t283         \t0.98093 \t[0.42282963 0.44938636 0.32436919]\t[0.9808412  0.98093032 0.98101773]\t[0.98097402 0.98101858 0.98097487]\n",
            "False    \t[0.98093032 0.98101943 0.98101773]\t[16.80130529 16.08755088 11.35170722]\t241  \t16       \t35            \t0.0166862               \t283         \t0.980989\t[0.45427895 0.42492199 0.3252027 ]\t[0.98093032 0.98101943 0.98101773]\t[0.98101858 0.98097402 0.98097487]\n",
            "False    \t[0.98101943 0.98101943 0.98092862]\t[17.12150335 17.3802774  11.06143951]\t242  \t16       \t35            \t0.0166862               \t283         \t0.980989\t[0.43927526 0.45853543 0.31265521]\t[0.98101943 0.98101943 0.98092862]\t[0.98097402 0.98097402 0.98101943]\n",
            "False    \t[0.98075209 0.98093032 0.98110685]\t[16.70913315 16.0464232  11.34324384]\t243  \t16       \t35            \t0.0166862               \t283         \t0.98093 \t[0.46833849 0.41590118 0.31403136]\t[0.98075209 0.98093032 0.98110685]\t[0.98097402 0.98101858 0.98093032]\n",
            "False    \t[0.98101943 0.98093032 0.98101773]\t[16.44167829 15.94254494 11.57619476]\t244  \t16       \t35            \t0.0166862               \t283         \t0.980989\t[0.46396112 0.42990375 0.32152224]\t[0.98101943 0.98093032 0.98101773]\t[0.98097402 0.98101858 0.98097487]\n",
            "False    \t[0.98101943 0.98075209 0.98101773]\t[17.07306552 16.4381845  12.26533079]\t245  \t16       \t35            \t0.0166862               \t283         \t0.98093 \t[0.44576883 0.42396545 0.33012462]\t[0.98101943 0.98075209 0.98101773]\t[0.98097402 0.98101858 0.98093032]\n",
            "False    \t[0.98093032 0.98093032 0.98101773]\t[16.43177152 15.74277377 11.89413285]\t246  \t16       \t35            \t0.0166862               \t283         \t0.980959\t[0.45646572 0.41228175 0.32728338]\t[0.98093032 0.98093032 0.98101773]\t[0.98097402 0.98101858 0.98097487]\n",
            "False    \t[0.98101943 0.9808412  0.98110685]\t[16.37937522 15.89353418 11.63264155]\t247  \t16       \t35            \t0.0166862               \t283         \t0.980989\t[0.44921923 0.42172289 0.31713843]\t[0.98101943 0.9808412  0.98110685]\t[0.98097402 0.98106314 0.98093032]\n",
            "False    \t[0.98093032 0.98101943 0.98092862]\t[16.45363927 16.92902374 11.28008556]\t248  \t16       \t35            \t0.0166862               \t283         \t0.980959\t[0.4289248  0.46358657 0.32254648]\t[0.98093032 0.98101943 0.98092862]\t[0.98101858 0.98097402 0.98093032]\n",
            "False    \t[0.98093032 0.98093032 0.98101773]\t[16.32874608 16.76222801 11.72554421]\t249  \t16       \t35            \t0.0166862               \t283         \t0.980959\t[0.4181397  0.46989107 0.32921052]\t[0.98093032 0.98093032 0.98101773]\t[0.98097402 0.98101858 0.98097487]\n",
            "False    \t[0.98093032 0.98101943 0.98101773]\t[17.34454203 15.79072356 12.2023406 ]\t250  \t16       \t35            \t0.0166862               \t283         \t0.980989\t[0.46241355 0.43443441 0.32953954]\t[0.98093032 0.98101943 0.98101773]\t[0.98101858 0.98097402 0.98097487]\n",
            "False    \t[0.98101943 0.98093032 0.98101773]\t[16.10662317 17.04788017 12.18939686]\t251  \t16       \t35            \t0.0166862               \t283         \t0.980989\t[0.42309666 0.43966079 0.32516956]\t[0.98101943 0.98093032 0.98101773]\t[0.98097402 0.98101858 0.98093032]\n",
            "False    \t[0.98093032 0.98093032 0.98075038]\t[16.86322188 16.57783985 11.87574601]\t252  \t16       \t35            \t0.0166862               \t283         \t0.98087 \t[0.46519351 0.45262504 0.33442116]\t[0.98093032 0.98093032 0.98075038]\t[0.98101858 0.98101858 0.98093032]\n",
            "False    \t[0.98101943 0.98093032 0.98092862]\t[16.13070393 16.97055006 11.84748006]\t253  \t16       \t35            \t0.0166862               \t283         \t0.980959\t[0.41754627 0.46138477 0.3115046 ]\t[0.98101943 0.98093032 0.98092862]\t[0.98097402 0.98101858 0.98097487]\n",
            "False    \t[0.9808412  0.98101943 0.98101773]\t[16.9219234  16.31718898 11.32966065]\t254  \t16       \t35            \t0.0166862               \t283         \t0.980959\t[0.46388865 0.41810155 0.31339383]\t[0.9808412  0.98101943 0.98101773]\t[0.98106314 0.98097402 0.98093032]\n",
            "False    \t[0.98101943 0.98101943 0.98092862]\t[16.09279346 17.28404307 11.96241903]\t255  \t16       \t35            \t0.0166862               \t283         \t0.980989\t[0.42499423 0.43630219 0.3219049 ]\t[0.98101943 0.98101943 0.98092862]\t[0.98092947 0.98092947 0.98101943]\n",
            "False    \t[0.98101943 0.98093032 0.9808395 ]\t[16.77957702 16.08713365 12.30621839]\t256  \t16       \t35            \t0.0166862               \t283         \t0.98093 \t[0.4366715  0.44727945 0.32014203]\t[0.98101943 0.98093032 0.9808395 ]\t[0.98097402 0.98097402 0.98101943]\n",
            "False    \t[0.98101943 0.98101943 0.98092862]\t[16.50024509 16.40966463 11.7350893 ]\t257  \t16       \t35            \t0.0166862               \t283         \t0.980989\t[0.45777774 0.44927454 0.33325267]\t[0.98101943 0.98101943 0.98092862]\t[0.98097402 0.98097402 0.98101943]\n",
            "False    \t[0.98101943 0.9808412  0.98101773]\t[14.95254469 17.05064988 12.78374696]\t258  \t16       \t35            \t0.0166862               \t283         \t0.980959\t[0.40950775 0.44590139 0.32051396]\t[0.98101943 0.9808412  0.98101773]\t[0.98097402 0.98101858 0.98097487]\n",
            "False    \t[0.98101943 0.98093032 0.98101773]\t[15.79459476 16.14380598 11.31391907]\t259  \t16       \t35            \t0.0166862               \t283         \t0.980989\t[0.4250803  0.44424415 0.32883525]\t[0.98101943 0.98093032 0.98101773]\t[0.98097402 0.98101858 0.98097487]\n",
            "False    \t[0.98093032 0.9808412  0.98110685]\t[17.14290476 15.73640013 12.23708582]\t260  \t16       \t35            \t0.0166862               \t283         \t0.980959\t[0.42324734 0.42687941 0.31973982]\t[0.98093032 0.9808412  0.98110685]\t[0.98097402 0.98106314 0.98093032]\n",
            "False    \t[0.98093032 0.98093032 0.98110685]\t[16.43347931 16.38544321 10.88218212]\t261  \t16       \t35            \t0.0166862               \t283         \t0.980989\t[0.45450807 0.45928741 0.31542873]\t[0.98093032 0.98093032 0.98110685]\t[0.98101858 0.98101858 0.98093032]\n",
            "False    \t[0.98101943 0.98101943 0.98092862]\t[16.97213459 17.0319128  11.41384411]\t262  \t16       \t35            \t0.0166862               \t283         \t0.980989\t[0.47109818 0.46693444 0.32104826]\t[0.98101943 0.98101943 0.98092862]\t[0.98097402 0.98097402 0.98097487]\n",
            "False    \t[0.98093032 0.98093032 0.98110685]\t[16.44255066 16.76909876 11.58155227]\t263  \t16       \t35            \t0.0166862               \t283         \t0.980989\t[0.43687081 0.46378016 0.33199811]\t[0.98093032 0.98093032 0.98110685]\t[0.98101858 0.98097402 0.98093032]\n",
            "False    \t[0.98093032 0.9808412  0.98110685]\t[16.13250923 17.14055228 12.126755  ]\t264  \t16       \t35            \t0.0166862               \t283         \t0.980959\t[0.43328357 0.46916008 0.32462025]\t[0.98093032 0.9808412  0.98110685]\t[0.98101858 0.98101858 0.98093032]\n",
            "False    \t[0.98101943 0.9808412  0.98110685]\t[16.90416956 16.04843283 11.98422456]\t265  \t16       \t35            \t0.0166862               \t283         \t0.980989\t[0.45903063 0.40911603 0.3241055 ]\t[0.98101943 0.9808412  0.98110685]\t[0.98092947 0.98106314 0.98093032]\n",
            "False    \t[0.98093032 0.98101943 0.98092862]\t[16.01049423 15.55427194 11.8651309 ]\t266  \t16       \t35            \t0.0166862               \t283         \t0.980959\t[0.44994831 0.40621328 0.31787133]\t[0.98093032 0.98101943 0.98092862]\t[0.98101858 0.98097402 0.98097487]\n",
            "False    \t[0.98093032 0.98093032 0.98092862]\t[16.75687766 16.37000203 11.54712582]\t267  \t16       \t35            \t0.0166862               \t283         \t0.98093 \t[0.47178817 0.42752576 0.32885957]\t[0.98093032 0.98093032 0.98092862]\t[0.98101858 0.98092947 0.98097487]\n",
            "False    \t[0.9808412  0.98101943 0.98110685]\t[17.26348925 16.61399627 12.47311735]\t268  \t16       \t35            \t0.014008                \t283         \t0.980989\t[0.48926163 0.44295478 0.3294208 ]\t[0.9808412  0.98101943 0.98110685]\t[0.98106314 0.98097402 0.98093032]\n",
            "False    \t[0.98093032 0.98101943 0.98101773]\t[16.62136459 15.86697984 12.18337679]\t269  \t16       \t35            \t0.0166862               \t283         \t0.980989\t[0.47792411 0.42020392 0.32628703]\t[0.98093032 0.98101943 0.98101773]\t[0.98101858 0.98097402 0.98093032]\n",
            "False    \t[0.98101943 0.98093032 0.98101773]\t[16.53531003 16.38922262 11.5973649 ]\t270  \t16       \t35            \t0.0166862               \t283         \t0.980989\t[0.45270991 0.44331264 0.32573104]\t[0.98101943 0.98093032 0.98101773]\t[0.98097402 0.98101858 0.98097487]\n",
            "False    \t[0.98101943 0.98101943 0.98092862]\t[16.50693345 16.71256185 11.74210835]\t271  \t16       \t35            \t0.0166862               \t283         \t0.980989\t[0.45338011 0.45610595 0.329211  ]\t[0.98101943 0.98101943 0.98092862]\t[0.98097402 0.98097402 0.98101943]\n",
            "False    \t[0.98075209 0.98101943 0.98110685]\t[15.74349713 15.97293925 11.63094568]\t272  \t16       \t35            \t0.0166862               \t283         \t0.980959\t[0.43625498 0.46107984 0.31872392]\t[0.98075209 0.98101943 0.98110685]\t[0.98106314 0.98097402 0.98093032]\n",
            "False    \t[0.98075209 0.98101943 0.98101773]\t[15.68669701 16.99543643 12.03688216]\t273  \t16       \t35            \t0.0166862               \t283         \t0.98093 \t[0.42667913 0.42730784 0.32547617]\t[0.98075209 0.98101943 0.98101773]\t[0.98101858 0.98092947 0.98097487]\n",
            "False    \t[0.98093032 0.98093032 0.98101773]\t[17.37301064 16.1767025  12.30657721]\t274  \t16       \t35            \t0.0166862               \t283         \t0.980959\t[0.45238829 0.45060658 0.32585311]\t[0.98093032 0.98093032 0.98101773]\t[0.98101858 0.98097402 0.98097487]\n",
            "False    \t[0.98101943 0.98075209 0.98101773]\t[12.95740795 12.79246211  9.12237191]\t275  \t4        \t35            \t0.0166862               \t283         \t0.98093 \t[0.41627336 0.4037509  0.30338478]\t[0.98101943 0.98075209 0.98101773]\t[0.98097402 0.98101858 0.98097487]\n",
            "False    \t[0.98075209 0.98093032 0.98110685]\t[16.65370893 15.80517888 11.45447493]\t276  \t16       \t35            \t0.0166862               \t283         \t0.98093 \t[0.4512763  0.45043468 0.31828761]\t[0.98075209 0.98093032 0.98110685]\t[0.98101858 0.98097402 0.98093032]\n",
            "False    \t[0.98066298 0.98101943 0.98110685]\t[17.08212209 16.13812542 12.38682032]\t277  \t16       \t35            \t0.0166862               \t283         \t0.98093 \t[0.43806005 0.42824006 0.32611036]\t[0.98066298 0.98101943 0.98110685]\t[0.98106314 0.98097402 0.98093032]\n",
            "False    \t[0.98093032 0.98093032 0.98110685]\t[17.30849838 15.40395355 11.72903466]\t278  \t16       \t35            \t0.0166862               \t283         \t0.980989\t[0.4222343  0.42448378 0.31779933]\t[0.98093032 0.98093032 0.98110685]\t[0.98097402 0.98101858 0.98093032]\n",
            "False    \t[0.98101943 0.98093032 0.9808395 ]\t[12.31736541 13.02686882  9.03680348]\t279  \t16       \t9             \t0.0166862               \t283         \t0.98093 \t[0.36839509 0.41634226 0.29059196]\t[0.98101943 0.98093032 0.9808395 ]\t[0.98097402 0.98101858 0.98097487]\n",
            "False    \t[0.98101943 0.9808412  0.98101773]\t[16.21410799 16.77929282 11.33434272]\t280  \t16       \t35            \t0.0166862               \t283         \t0.980959\t[0.44622421 0.45067549 0.32475352]\t[0.98101943 0.9808412  0.98101773]\t[0.98097402 0.98101858 0.98097487]\n",
            "False    \t[0.98093032 0.98101943 0.98101773]\t[16.42822218 16.38077712 12.05836415]\t281  \t16       \t35            \t0.0166862               \t283         \t0.980989\t[0.45555019 0.46131635 0.3321104 ]\t[0.98093032 0.98101943 0.98101773]\t[0.98101858 0.98097402 0.98097487]\n",
            "False    \t[0.98101943 0.98093032 0.98101773]\t[16.02013016 16.71925974 11.93320274]\t282  \t16       \t35            \t0.0166862               \t283         \t0.980989\t[0.43124056 0.46392751 0.33516717]\t[0.98101943 0.98093032 0.98101773]\t[0.98097402 0.98101858 0.98097487]\n",
            "False    \t[0.98093032 0.98093032 0.98110685]\t[16.07018876 16.40830827 12.2167263 ]\t283  \t16       \t35            \t0.0166862               \t283         \t0.980989\t[0.4417336  0.46161914 0.33391833]\t[0.98093032 0.98093032 0.98110685]\t[0.98101858 0.98101858 0.98093032]\n",
            "False    \t[0.98101943 0.98093032 0.98101773]\t[16.66845584 17.14067817 12.41021395]\t284  \t16       \t35            \t0.014008                \t283         \t0.980989\t[0.44233727 0.47027397 0.32847214]\t[0.98101943 0.98093032 0.98101773]\t[0.98097402 0.98101858 0.98097487]\n",
            "False    \t[0.98093032 0.98093032 0.98101773]\t[17.12837458 16.84601688 12.23774791]\t285  \t16       \t35            \t0.014008                \t283         \t0.980959\t[0.48003769 0.46416545 0.32636237]\t[0.98093032 0.98093032 0.98101773]\t[0.98101858 0.98101858 0.98093032]\n",
            "False    \t[0.98093032 0.98093032 0.98101773]\t[16.41708064 16.63671684 11.44382715]\t286  \t16       \t35            \t0.0166862               \t283         \t0.980959\t[0.44707179 0.45973158 0.32808876]\t[0.98093032 0.98093032 0.98101773]\t[0.98097402 0.98101858 0.98097487]\n",
            "False    \t[0.98093032 0.98093032 0.98110685]\t[16.48463106 16.44111276 11.32491589]\t287  \t16       \t35            \t0.0166862               \t283         \t0.980989\t[0.47175336 0.47119474 0.32359958]\t[0.98093032 0.98093032 0.98110685]\t[0.98101858 0.98101858 0.98093032]\n",
            "False    \t[0.98093032 0.98093032 0.98110685]\t[16.07777429 16.20258975 11.56890559]\t288  \t16       \t35            \t0.0166862               \t283         \t0.980989\t[0.45215392 0.45934415 0.33116937]\t[0.98093032 0.98093032 0.98110685]\t[0.98101858 0.98101858 0.98093032]\n",
            "False    \t[0.98093032 0.98093032 0.98101773]\t[16.67085195 16.32455873 11.52755833]\t289  \t16       \t35            \t0.0166862               \t283         \t0.980959\t[0.47790742 0.43120909 0.31855392]\t[0.98093032 0.98093032 0.98101773]\t[0.98101858 0.98097402 0.98097487]\n",
            "False    \t[0.98093032 0.98101943 0.9808395 ]\t[16.71526718 17.27012324 11.60267758]\t290  \t16       \t35            \t0.0166862               \t283         \t0.98093 \t[0.43557906 0.45921254 0.32296443]\t[0.98093032 0.98101943 0.9808395 ]\t[0.98101858 0.98097402 0.98097487]\n",
            "False    \t[0.98101943 0.98093032 0.98101773]\t[15.73837233 16.53148246 12.24383259]\t291  \t16       \t35            \t0.0166862               \t283         \t0.980989\t[0.4271419  0.46120763 0.330163  ]\t[0.98101943 0.98093032 0.98101773]\t[0.98097402 0.98101858 0.98097487]\n"
          ]
        }
      ],
      "source": [
        "print(evolved_estimator.logbook)"
      ]
    },
    {
      "cell_type": "code",
      "execution_count": null,
      "metadata": {
        "id": "xaWaZJLHEtym",
        "colab": {
          "base_uri": "https://localhost:8080/"
        },
        "outputId": "805bd04f-c642-43c9-b4c3-0eaa6876999c"
      },
      "outputs": [
        {
          "output_type": "execute_result",
          "data": {
            "text/plain": [
              "{0: {'bootstrap': False,\n",
              "  'max_depth': 3,\n",
              "  'max_leaf_nodes': 7,\n",
              "  'min_weight_fraction_leaf': 0.01668616611927558,\n",
              "  'n_estimators': 283},\n",
              " 1: {'bootstrap': False,\n",
              "  'max_depth': 3,\n",
              "  'max_leaf_nodes': 26,\n",
              "  'min_weight_fraction_leaf': 0.01668616611927558,\n",
              "  'n_estimators': 242},\n",
              " 2: {'bootstrap': True,\n",
              "  'max_depth': 23,\n",
              "  'max_leaf_nodes': 26,\n",
              "  'min_weight_fraction_leaf': 0.01668616611927558,\n",
              "  'n_estimators': 242},\n",
              " 3: {'bootstrap': False,\n",
              "  'max_depth': 3,\n",
              "  'max_leaf_nodes': 7,\n",
              "  'min_weight_fraction_leaf': 0.01668616611927558,\n",
              "  'n_estimators': 283}}"
            ]
          },
          "metadata": {},
          "execution_count": 13
        }
      ],
      "source": [
        "evolved_estimator.hof"
      ]
    },
    {
      "cell_type": "code",
      "execution_count": null,
      "metadata": {
        "id": "2ech_tzbRWo6",
        "colab": {
          "base_uri": "https://localhost:8080/"
        },
        "outputId": "4f7901cc-a162-4dc5-c253-d620d548f36e"
      },
      "outputs": [
        {
          "output_type": "stream",
          "name": "stdout",
          "text": [
            "[0.9708477079169477, 0.9707585961070869]\n",
            "[0.9710641223123242, 0.9710641223123242]\n",
            "[0.9697019846473082, 0.9697019846473082]\n",
            "[0.9709495499853602, 0.9709495499853602]\n",
            "[0.9716115234300409, 0.9716115234300409]\n",
            "[0.9693709979249678, 0.9693709979249678]\n",
            "[0.9703130370577826, 0.9703130370577826]\n",
            "[0.965170012602956, 0.965170012602956]\n",
            "[0.9683271167237406, 0.9683271167237406]\n",
            "[0.9698292872328237, 0.9698292872328237]\n",
            "[0.9699820503354423, 0.9699820503354423]\n",
            "[0.969905668784133, 0.969905668784133]\n",
            "[0.9714714905859738, 0.9714714905859738]\n",
            "[0.9685180706020139, 0.9685180706020139]\n",
            "[0.9686835639631841, 0.9686835639631841]\n",
            "Accuracy score after genetic algorithm is= 0.9999872697414485\n"
          ]
        }
      ],
      "source": [
        "chromo,score=generations(size=20,n_feat=79,n_parents=10,mutation_rate=0.10,\n",
        "                     n_gen=15,X_train=X_train,X_test=X_test,y_train=y_train,y_test=y_test)\n",
        "clf.fit(X_train.iloc[:,chromo[-1]],y_train)\n",
        "predictions = clf.predict(X_test.iloc[:,chromo[-1]])\n",
        "print(\"Accuracy score after genetic algorithm is= \"+str(accuracy_score(y_test,predictions)))"
      ]
    },
    {
      "cell_type": "code",
      "execution_count": null,
      "metadata": {
        "id": "dJsbGXgumgmF",
        "colab": {
          "base_uri": "https://localhost:8080/"
        },
        "outputId": "d6b2d986-38dc-47ae-f67b-4b73943ad891"
      },
      "outputs": [
        {
          "output_type": "stream",
          "name": "stdout",
          "text": [
            "[0.9712805367077005, 0.9706567540386746]\n",
            "[0.9699565898183392, 0.9699565898183392]\n",
            "[0.9681107023283643, 0.9681107023283643]\n",
            "[0.9689508993927667, 0.9689508993927667]\n",
            "[0.9672068539712042, 0.9672068539712042]\n",
            "[0.9650172495003374, 0.9650172495003374]\n",
            "[0.9638587959721462, 0.9638587959721462]\n",
            "[0.968059781294158, 0.968059781294158]\n",
            "[0.9657556044963274, 0.9657556044963274]\n",
            "[0.9699311293012362, 0.9699311293012362]\n",
            "[0.9665066897508688, 0.9665066897508688]\n",
            "[0.9679833997428487, 0.9679833997428487]\n",
            "[0.9715860629129378, 0.9715860629129378]\n",
            "[0.9684416890507046, 0.9684416890507046]\n",
            "[0.9702111949893703, 0.9702111949893703]\n",
            "Accuracy score after genetic algorithm is= 0.9535600168039413\n"
          ]
        }
      ],
      "source": [
        "chromo,score=generations(size=20,n_feat=79,n_parents=10,mutation_rate=0.10,\n",
        "                     n_gen=15,X_train=X_train,X_test=X_test,y_train=y_train,y_test=y_test)\n",
        "logmodel.fit(X_train.iloc[:,chromo[-1]],y_train)\n",
        "predictions = logmodel.predict(X_test.iloc[:,chromo[-1]])\n",
        "print(\"Accuracy score after genetic algorithm is= \"+str(accuracy_score(y_test,predictions)))"
      ]
    },
    {
      "cell_type": "markdown",
      "metadata": {
        "id": "j4Z14Ee_IMBB"
      },
      "source": [
        "##we can select the features with the help of the genetic selection function"
      ]
    },
    {
      "cell_type": "code",
      "execution_count": null,
      "metadata": {
        "id": "g-1GAM6-8CRU",
        "colab": {
          "base_uri": "https://localhost:8080/"
        },
        "outputId": "23198261-61d1-4f01-b441-671ba7cd24a7"
      },
      "outputs": [
        {
          "output_type": "stream",
          "name": "stdout",
          "text": [
            "Feature Selection: Index([' Destination Port', ' Fwd Packet Length Std', ' Bwd Packet Length Min',\n",
            "       ' Fwd URG Flags', ' Max Packet Length', ' Packet Length Mean',\n",
            "       ' Packet Length Variance', ' Subflow Fwd Bytes',\n",
            "       ' min_seg_size_forward'],\n",
            "      dtype='object')\n"
          ]
        }
      ],
      "source": [
        "from genetic_selection import GeneticSelectionCV\n",
        "from sklearn.preprocessing import LabelEncoder\n",
        "from sklearn.tree import DecisionTreeClassifier\n",
        "import pandas as pd\n",
        "import numpy as np\n",
        "\n",
        "df1 = pd.read_csv('/content/Tuesday-WorkingHours.pcap_ISCX.csv')\n",
        "df2 = pd.read_csv('/content/Wednesday-workingHours.pcap_ISCX.csv')\n",
        "df3 = pd.read_csv('/content/Thursday-WorkingHours-Morning-WebAttacks.pcap_ISCX.csv')\n",
        "\n",
        "frames = [df1,df2,df3]\n",
        "df = pd.concat(frames)\n",
        "\n",
        "df = df.replace((np.inf, -np.inf, np.nan), 0).reset_index(drop=True)\n",
        "df.rename({' Label':'Attacks'},axis=1,inplace=True)\n",
        "Attacks_encoder = LabelEncoder()\n",
        "df['Attacks']=Attacks_encoder.fit_transform(df['Attacks'].astype(str))\n",
        "\n",
        "x = df.drop('Attacks',axis=1)\n",
        "Y = df['Attacks']\n",
        "estimators = DecisionTreeClassifier()\n",
        "models = GeneticSelectionCV(\n",
        "    estimators, cv=5, verbose=0,\n",
        "    scoring=\"accuracy\", max_features=10,\n",
        "    n_population=100, crossover_proba=0.9,\n",
        "    mutation_proba=0.03, n_generations=15,\n",
        "    crossover_independent_proba=0.5,\n",
        "    mutation_independent_proba=0.04,\n",
        "    tournament_size=3, n_gen_no_change=10,\n",
        "    caching=True, n_jobs=-1)\n",
        "models = models.fit(x, Y)\n",
        "print('Feature Selection:', x.columns[models.support_])"
      ]
    },
    {
      "cell_type": "code",
      "execution_count": null,
      "metadata": {
        "id": "uzspvuSMuyGu"
      },
      "outputs": [],
      "source": [
        "#split dataset in features and target variable\n",
        "feature_cols = [' Destination Port', ' Fwd Packet Length Std', ' Bwd Packet Length Min',\n",
        "       ' Fwd URG Flags', ' Max Packet Length', ' Packet Length Mean',\n",
        "       ' Packet Length Variance', ' Subflow Fwd Bytes',\n",
        "       ' min_seg_size_forward']\n",
        "x = df[feature_cols] # Features\n",
        "Y = df['Attacks'] # Target variable"
      ]
    },
    {
      "cell_type": "code",
      "execution_count": null,
      "metadata": {
        "id": "FPoFDo4suyDV"
      },
      "outputs": [],
      "source": [
        "# Split dataset into training set and test set\n",
        "x_train, x_test, Y_train, Y_test = train_test_split(x, Y, test_size=0.3, random_state=1) # 70% training and 30% test"
      ]
    },
    {
      "cell_type": "code",
      "execution_count": null,
      "metadata": {
        "id": "iDiT4vOauyAq",
        "colab": {
          "base_uri": "https://localhost:8080/"
        },
        "outputId": "d13736e2-1a2c-4015-bd8d-9d02246e7fc1"
      },
      "outputs": [
        {
          "output_type": "stream",
          "name": "stdout",
          "text": [
            "Accuracy: 0.994226855505254\n"
          ]
        }
      ],
      "source": [
        "# Create Decision Tree classifer object\n",
        "clf = DecisionTreeClassifier()\n",
        "\n",
        "# Train Decision Tree Classifer\n",
        "clf = clf.fit(x_train,Y_train)\n",
        "\n",
        "#Predict the response for test dataset\n",
        "Y_pred = clf.predict(x_test)\n",
        "\n",
        "# Model Accuracy, how often is the classifier correct?\n",
        "print(\"Accuracy:\",metrics.accuracy_score(Y_test, Y_pred))"
      ]
    }
  ],
  "metadata": {
    "colab": {
      "name": "Genetic_Algorithm.ipynb",
      "provenance": [],
      "include_colab_link": true
    },
    "kernelspec": {
      "display_name": "Python 3",
      "name": "python3"
    },
    "language_info": {
      "name": "python"
    }
  },
  "nbformat": 4,
  "nbformat_minor": 0
}