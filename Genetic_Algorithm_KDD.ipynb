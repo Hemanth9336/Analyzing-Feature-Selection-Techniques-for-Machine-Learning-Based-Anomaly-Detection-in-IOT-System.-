{
  "cells": [
    {
      "cell_type": "markdown",
      "metadata": {
        "id": "view-in-github",
        "colab_type": "text"
      },
      "source": [
        "<a href=\"https://colab.research.google.com/github/Hemanth9336/Analyzing-Feature-Selection-Techniques-for-Machine-Learning-Based-Anomaly-Detection-in-IOT-System.-/blob/main/Genetic_Algorithm_KDD.ipynb\" target=\"_parent\"><img src=\"https://colab.research.google.com/assets/colab-badge.svg\" alt=\"Open In Colab\"/></a>"
      ]
    },
    {
      "cell_type": "code",
      "execution_count": null,
      "metadata": {
        "colab": {
          "base_uri": "https://localhost:8080/"
        },
        "id": "JYzJTXAK629m",
        "outputId": "4383d073-c253-43e7-a5c5-8125295488a0"
      },
      "outputs": [
        {
          "output_type": "stream",
          "name": "stdout",
          "text": [
            "Requirement already satisfied: scikit-learn in /usr/local/lib/python3.7/dist-packages (1.0.2)\n",
            "Requirement already satisfied: joblib>=0.11 in /usr/local/lib/python3.7/dist-packages (from scikit-learn) (1.1.0)\n",
            "Requirement already satisfied: scipy>=1.1.0 in /usr/local/lib/python3.7/dist-packages (from scikit-learn) (1.4.1)\n",
            "Requirement already satisfied: threadpoolctl>=2.0.0 in /usr/local/lib/python3.7/dist-packages (from scikit-learn) (3.1.0)\n",
            "Requirement already satisfied: numpy>=1.14.6 in /usr/local/lib/python3.7/dist-packages (from scikit-learn) (1.21.6)\n"
          ]
        }
      ],
      "source": [
        "pip install scikit-learn"
      ]
    },
    {
      "cell_type": "code",
      "execution_count": null,
      "metadata": {
        "colab": {
          "base_uri": "https://localhost:8080/"
        },
        "id": "WZ22OLzo63qN",
        "outputId": "4027b29e-9f30-47de-a9fe-69c2eaa9f613"
      },
      "outputs": [
        {
          "output_type": "stream",
          "name": "stdout",
          "text": [
            "Collecting sklearn-genetic\n",
            "  Downloading sklearn_genetic-0.5.1-py3-none-any.whl (11 kB)\n",
            "Requirement already satisfied: scikit-learn>=0.23 in /usr/local/lib/python3.7/dist-packages (from sklearn-genetic) (1.0.2)\n",
            "Requirement already satisfied: multiprocess in /usr/local/lib/python3.7/dist-packages (from sklearn-genetic) (0.70.12.2)\n",
            "Collecting deap>=1.0.2\n",
            "  Downloading deap-1.3.1-cp37-cp37m-manylinux_2_5_x86_64.manylinux1_x86_64.manylinux_2_12_x86_64.manylinux2010_x86_64.whl (160 kB)\n",
            "\u001b[K     |████████████████████████████████| 160 kB 13.9 MB/s \n",
            "\u001b[?25hRequirement already satisfied: numpy in /usr/local/lib/python3.7/dist-packages (from sklearn-genetic) (1.21.6)\n",
            "Requirement already satisfied: joblib>=0.11 in /usr/local/lib/python3.7/dist-packages (from scikit-learn>=0.23->sklearn-genetic) (1.1.0)\n",
            "Requirement already satisfied: threadpoolctl>=2.0.0 in /usr/local/lib/python3.7/dist-packages (from scikit-learn>=0.23->sklearn-genetic) (3.1.0)\n",
            "Requirement already satisfied: scipy>=1.1.0 in /usr/local/lib/python3.7/dist-packages (from scikit-learn>=0.23->sklearn-genetic) (1.4.1)\n",
            "Requirement already satisfied: dill>=0.3.4 in /usr/local/lib/python3.7/dist-packages (from multiprocess->sklearn-genetic) (0.3.4)\n",
            "Installing collected packages: deap, sklearn-genetic\n",
            "Successfully installed deap-1.3.1 sklearn-genetic-0.5.1\n"
          ]
        }
      ],
      "source": [
        "pip install sklearn-genetic"
      ]
    },
    {
      "cell_type": "code",
      "source": [
        "pip install sklearn-genetic-opt"
      ],
      "metadata": {
        "colab": {
          "base_uri": "https://localhost:8080/"
        },
        "id": "xbb2nlgVFlbN",
        "outputId": "33cb87ce-abfc-41cb-9e4f-fb7388a257ed"
      },
      "execution_count": null,
      "outputs": [
        {
          "output_type": "stream",
          "name": "stdout",
          "text": [
            "Collecting sklearn-genetic-opt\n",
            "  Downloading sklearn_genetic_opt-0.8.1-py3-none-any.whl (30 kB)\n",
            "Requirement already satisfied: scikit-learn>=0.21.3 in /usr/local/lib/python3.7/dist-packages (from sklearn-genetic-opt) (1.0.2)\n",
            "Requirement already satisfied: tqdm>=4.61.1 in /usr/local/lib/python3.7/dist-packages (from sklearn-genetic-opt) (4.64.0)\n",
            "Requirement already satisfied: deap>=1.3.1 in /usr/local/lib/python3.7/dist-packages (from sklearn-genetic-opt) (1.3.1)\n",
            "Requirement already satisfied: numpy>=1.14.5 in /usr/local/lib/python3.7/dist-packages (from sklearn-genetic-opt) (1.21.6)\n",
            "Requirement already satisfied: threadpoolctl>=2.0.0 in /usr/local/lib/python3.7/dist-packages (from scikit-learn>=0.21.3->sklearn-genetic-opt) (3.1.0)\n",
            "Requirement already satisfied: joblib>=0.11 in /usr/local/lib/python3.7/dist-packages (from scikit-learn>=0.21.3->sklearn-genetic-opt) (1.1.0)\n",
            "Requirement already satisfied: scipy>=1.1.0 in /usr/local/lib/python3.7/dist-packages (from scikit-learn>=0.21.3->sklearn-genetic-opt) (1.4.1)\n",
            "Installing collected packages: sklearn-genetic-opt\n",
            "Successfully installed sklearn-genetic-opt-0.8.1\n"
          ]
        }
      ]
    },
    {
      "cell_type": "code",
      "execution_count": null,
      "metadata": {
        "id": "7Ry1ySYok4Vq"
      },
      "outputs": [],
      "source": [
        "#Import libraries\n",
        "import numpy as np\n",
        "import pandas as pd\n",
        "import random\n",
        "import matplotlib.pyplot\n",
        "%matplotlib inline\n",
        "import warnings\n",
        "warnings.filterwarnings(\"ignore\")"
      ]
    },
    {
      "cell_type": "code",
      "execution_count": null,
      "metadata": {
        "id": "WI1C2HVPk87Q"
      },
      "outputs": [],
      "source": [
        "from sklearn.model_selection import train_test_split\n",
        "from sklearn.linear_model import LogisticRegression\n",
        "from sklearn.tree import DecisionTreeClassifier\n",
        "from sklearn.metrics import accuracy_score\n",
        "from sklearn import metrics"
      ]
    },
    {
      "cell_type": "code",
      "execution_count": null,
      "metadata": {
        "id": "FYQjChRelIpl"
      },
      "outputs": [],
      "source": [
        "df = pd.read_csv('/content/KDDTrain+_20Percent.txt')"
      ]
    },
    {
      "cell_type": "code",
      "source": [
        "##  adding column names to data frame\n",
        "\n",
        "columns = (['duration'\n",
        ",'protocol_type'\n",
        ",'service'\n",
        ",'flag'\n",
        ",'src_bytes'\n",
        ",'dst_bytes'\n",
        ",'land'\n",
        ",'wrong_fragment'\n",
        ",'urgent'\n",
        ",'hot'\n",
        ",'num_failed_logins'\n",
        ",'logged_in'\n",
        ",'num_compromised'\n",
        ",'root_shell'\n",
        ",'su_attempted'\n",
        ",'num_root'\n",
        ",'num_file_creations'\n",
        ",'num_shells'\n",
        ",'num_access_files'\n",
        ",'num_outbound_cmds'\n",
        ",'is_host_login'\n",
        ",'is_guest_login'\n",
        ",'count'\n",
        ",'srv_count'\n",
        ",'serror_rate'\n",
        ",'srv_serror_rate'\n",
        ",'rerror_rate'\n",
        ",'srv_rerror_rate'\n",
        ",'same_srv_rate'\n",
        ",'diff_srv_rate'\n",
        ",'srv_diff_host_rate'\n",
        ",'dst_host_count'\n",
        ",'dst_host_srv_count'\n",
        ",'dst_host_same_srv_rate'\n",
        ",'dst_host_diff_srv_rate'\n",
        ",'dst_host_same_src_port_rate'\n",
        ",'dst_host_srv_diff_host_rate'\n",
        ",'dst_host_serror_rate'\n",
        ",'dst_host_srv_serror_rate'\n",
        ",'dst_host_rerror_rate'\n",
        ",'dst_host_srv_rerror_rate'\n",
        ",'attack'\n",
        ",'level'])\n",
        "\n",
        "df.columns = columns\n",
        "\n",
        "#It gives an overview about a Dataframe columns\n",
        "df.info()"
      ],
      "metadata": {
        "colab": {
          "base_uri": "https://localhost:8080/"
        },
        "id": "gMOam0PZNkI5",
        "outputId": "752b6206-2fd5-4e99-ecc6-69add71b1bbd"
      },
      "execution_count": null,
      "outputs": [
        {
          "output_type": "stream",
          "name": "stdout",
          "text": [
            "<class 'pandas.core.frame.DataFrame'>\n",
            "RangeIndex: 25191 entries, 0 to 25190\n",
            "Data columns (total 43 columns):\n",
            " #   Column                       Non-Null Count  Dtype  \n",
            "---  ------                       --------------  -----  \n",
            " 0   duration                     25191 non-null  int64  \n",
            " 1   protocol_type                25191 non-null  object \n",
            " 2   service                      25191 non-null  object \n",
            " 3   flag                         25191 non-null  object \n",
            " 4   src_bytes                    25191 non-null  int64  \n",
            " 5   dst_bytes                    25191 non-null  int64  \n",
            " 6   land                         25191 non-null  int64  \n",
            " 7   wrong_fragment               25191 non-null  int64  \n",
            " 8   urgent                       25191 non-null  int64  \n",
            " 9   hot                          25191 non-null  int64  \n",
            " 10  num_failed_logins            25191 non-null  int64  \n",
            " 11  logged_in                    25191 non-null  int64  \n",
            " 12  num_compromised              25191 non-null  int64  \n",
            " 13  root_shell                   25191 non-null  int64  \n",
            " 14  su_attempted                 25191 non-null  int64  \n",
            " 15  num_root                     25191 non-null  int64  \n",
            " 16  num_file_creations           25191 non-null  int64  \n",
            " 17  num_shells                   25191 non-null  int64  \n",
            " 18  num_access_files             25191 non-null  int64  \n",
            " 19  num_outbound_cmds            25191 non-null  int64  \n",
            " 20  is_host_login                25191 non-null  int64  \n",
            " 21  is_guest_login               25191 non-null  int64  \n",
            " 22  count                        25191 non-null  int64  \n",
            " 23  srv_count                    25191 non-null  int64  \n",
            " 24  serror_rate                  25191 non-null  float64\n",
            " 25  srv_serror_rate              25191 non-null  float64\n",
            " 26  rerror_rate                  25191 non-null  float64\n",
            " 27  srv_rerror_rate              25191 non-null  float64\n",
            " 28  same_srv_rate                25191 non-null  float64\n",
            " 29  diff_srv_rate                25191 non-null  float64\n",
            " 30  srv_diff_host_rate           25191 non-null  float64\n",
            " 31  dst_host_count               25191 non-null  int64  \n",
            " 32  dst_host_srv_count           25191 non-null  int64  \n",
            " 33  dst_host_same_srv_rate       25191 non-null  float64\n",
            " 34  dst_host_diff_srv_rate       25191 non-null  float64\n",
            " 35  dst_host_same_src_port_rate  25191 non-null  float64\n",
            " 36  dst_host_srv_diff_host_rate  25191 non-null  float64\n",
            " 37  dst_host_serror_rate         25191 non-null  float64\n",
            " 38  dst_host_srv_serror_rate     25191 non-null  float64\n",
            " 39  dst_host_rerror_rate         25191 non-null  float64\n",
            " 40  dst_host_srv_rerror_rate     25191 non-null  float64\n",
            " 41  attack                       25191 non-null  object \n",
            " 42  level                        25191 non-null  int64  \n",
            "dtypes: float64(15), int64(24), object(4)\n",
            "memory usage: 8.3+ MB\n"
          ]
        }
      ]
    },
    {
      "cell_type": "code",
      "source": [
        "#By default the head function returns the first 5 rows\n",
        "df.head()"
      ],
      "metadata": {
        "colab": {
          "base_uri": "https://localhost:8080/",
          "height": 299
        },
        "id": "002KZlk9uJfp",
        "outputId": "382d7c11-35ee-4328-8e33-c5bf7c15bfda"
      },
      "execution_count": null,
      "outputs": [
        {
          "output_type": "execute_result",
          "data": {
            "text/plain": [
              "   duration protocol_type  service flag  src_bytes  dst_bytes  land  \\\n",
              "0         0           udp    other   SF        146          0     0   \n",
              "1         0           tcp  private   S0          0          0     0   \n",
              "2         0           tcp     http   SF        232       8153     0   \n",
              "3         0           tcp     http   SF        199        420     0   \n",
              "4         0           tcp  private  REJ          0          0     0   \n",
              "\n",
              "   wrong_fragment  urgent  hot  ...  dst_host_same_srv_rate  \\\n",
              "0               0       0    0  ...                    0.00   \n",
              "1               0       0    0  ...                    0.10   \n",
              "2               0       0    0  ...                    1.00   \n",
              "3               0       0    0  ...                    1.00   \n",
              "4               0       0    0  ...                    0.07   \n",
              "\n",
              "   dst_host_diff_srv_rate  dst_host_same_src_port_rate  \\\n",
              "0                    0.60                         0.88   \n",
              "1                    0.05                         0.00   \n",
              "2                    0.00                         0.03   \n",
              "3                    0.00                         0.00   \n",
              "4                    0.07                         0.00   \n",
              "\n",
              "   dst_host_srv_diff_host_rate  dst_host_serror_rate  \\\n",
              "0                         0.00                  0.00   \n",
              "1                         0.00                  1.00   \n",
              "2                         0.04                  0.03   \n",
              "3                         0.00                  0.00   \n",
              "4                         0.00                  0.00   \n",
              "\n",
              "   dst_host_srv_serror_rate  dst_host_rerror_rate  dst_host_srv_rerror_rate  \\\n",
              "0                      0.00                   0.0                      0.00   \n",
              "1                      1.00                   0.0                      0.00   \n",
              "2                      0.01                   0.0                      0.01   \n",
              "3                      0.00                   0.0                      0.00   \n",
              "4                      0.00                   1.0                      1.00   \n",
              "\n",
              "    attack  level  \n",
              "0   normal     15  \n",
              "1  neptune     19  \n",
              "2   normal     21  \n",
              "3   normal     21  \n",
              "4  neptune     21  \n",
              "\n",
              "[5 rows x 43 columns]"
            ],
            "text/html": [
              "\n",
              "  <div id=\"df-4cda250e-1bcf-43a8-a429-825598747d86\">\n",
              "    <div class=\"colab-df-container\">\n",
              "      <div>\n",
              "<style scoped>\n",
              "    .dataframe tbody tr th:only-of-type {\n",
              "        vertical-align: middle;\n",
              "    }\n",
              "\n",
              "    .dataframe tbody tr th {\n",
              "        vertical-align: top;\n",
              "    }\n",
              "\n",
              "    .dataframe thead th {\n",
              "        text-align: right;\n",
              "    }\n",
              "</style>\n",
              "<table border=\"1\" class=\"dataframe\">\n",
              "  <thead>\n",
              "    <tr style=\"text-align: right;\">\n",
              "      <th></th>\n",
              "      <th>duration</th>\n",
              "      <th>protocol_type</th>\n",
              "      <th>service</th>\n",
              "      <th>flag</th>\n",
              "      <th>src_bytes</th>\n",
              "      <th>dst_bytes</th>\n",
              "      <th>land</th>\n",
              "      <th>wrong_fragment</th>\n",
              "      <th>urgent</th>\n",
              "      <th>hot</th>\n",
              "      <th>...</th>\n",
              "      <th>dst_host_same_srv_rate</th>\n",
              "      <th>dst_host_diff_srv_rate</th>\n",
              "      <th>dst_host_same_src_port_rate</th>\n",
              "      <th>dst_host_srv_diff_host_rate</th>\n",
              "      <th>dst_host_serror_rate</th>\n",
              "      <th>dst_host_srv_serror_rate</th>\n",
              "      <th>dst_host_rerror_rate</th>\n",
              "      <th>dst_host_srv_rerror_rate</th>\n",
              "      <th>attack</th>\n",
              "      <th>level</th>\n",
              "    </tr>\n",
              "  </thead>\n",
              "  <tbody>\n",
              "    <tr>\n",
              "      <th>0</th>\n",
              "      <td>0</td>\n",
              "      <td>udp</td>\n",
              "      <td>other</td>\n",
              "      <td>SF</td>\n",
              "      <td>146</td>\n",
              "      <td>0</td>\n",
              "      <td>0</td>\n",
              "      <td>0</td>\n",
              "      <td>0</td>\n",
              "      <td>0</td>\n",
              "      <td>...</td>\n",
              "      <td>0.00</td>\n",
              "      <td>0.60</td>\n",
              "      <td>0.88</td>\n",
              "      <td>0.00</td>\n",
              "      <td>0.00</td>\n",
              "      <td>0.00</td>\n",
              "      <td>0.0</td>\n",
              "      <td>0.00</td>\n",
              "      <td>normal</td>\n",
              "      <td>15</td>\n",
              "    </tr>\n",
              "    <tr>\n",
              "      <th>1</th>\n",
              "      <td>0</td>\n",
              "      <td>tcp</td>\n",
              "      <td>private</td>\n",
              "      <td>S0</td>\n",
              "      <td>0</td>\n",
              "      <td>0</td>\n",
              "      <td>0</td>\n",
              "      <td>0</td>\n",
              "      <td>0</td>\n",
              "      <td>0</td>\n",
              "      <td>...</td>\n",
              "      <td>0.10</td>\n",
              "      <td>0.05</td>\n",
              "      <td>0.00</td>\n",
              "      <td>0.00</td>\n",
              "      <td>1.00</td>\n",
              "      <td>1.00</td>\n",
              "      <td>0.0</td>\n",
              "      <td>0.00</td>\n",
              "      <td>neptune</td>\n",
              "      <td>19</td>\n",
              "    </tr>\n",
              "    <tr>\n",
              "      <th>2</th>\n",
              "      <td>0</td>\n",
              "      <td>tcp</td>\n",
              "      <td>http</td>\n",
              "      <td>SF</td>\n",
              "      <td>232</td>\n",
              "      <td>8153</td>\n",
              "      <td>0</td>\n",
              "      <td>0</td>\n",
              "      <td>0</td>\n",
              "      <td>0</td>\n",
              "      <td>...</td>\n",
              "      <td>1.00</td>\n",
              "      <td>0.00</td>\n",
              "      <td>0.03</td>\n",
              "      <td>0.04</td>\n",
              "      <td>0.03</td>\n",
              "      <td>0.01</td>\n",
              "      <td>0.0</td>\n",
              "      <td>0.01</td>\n",
              "      <td>normal</td>\n",
              "      <td>21</td>\n",
              "    </tr>\n",
              "    <tr>\n",
              "      <th>3</th>\n",
              "      <td>0</td>\n",
              "      <td>tcp</td>\n",
              "      <td>http</td>\n",
              "      <td>SF</td>\n",
              "      <td>199</td>\n",
              "      <td>420</td>\n",
              "      <td>0</td>\n",
              "      <td>0</td>\n",
              "      <td>0</td>\n",
              "      <td>0</td>\n",
              "      <td>...</td>\n",
              "      <td>1.00</td>\n",
              "      <td>0.00</td>\n",
              "      <td>0.00</td>\n",
              "      <td>0.00</td>\n",
              "      <td>0.00</td>\n",
              "      <td>0.00</td>\n",
              "      <td>0.0</td>\n",
              "      <td>0.00</td>\n",
              "      <td>normal</td>\n",
              "      <td>21</td>\n",
              "    </tr>\n",
              "    <tr>\n",
              "      <th>4</th>\n",
              "      <td>0</td>\n",
              "      <td>tcp</td>\n",
              "      <td>private</td>\n",
              "      <td>REJ</td>\n",
              "      <td>0</td>\n",
              "      <td>0</td>\n",
              "      <td>0</td>\n",
              "      <td>0</td>\n",
              "      <td>0</td>\n",
              "      <td>0</td>\n",
              "      <td>...</td>\n",
              "      <td>0.07</td>\n",
              "      <td>0.07</td>\n",
              "      <td>0.00</td>\n",
              "      <td>0.00</td>\n",
              "      <td>0.00</td>\n",
              "      <td>0.00</td>\n",
              "      <td>1.0</td>\n",
              "      <td>1.00</td>\n",
              "      <td>neptune</td>\n",
              "      <td>21</td>\n",
              "    </tr>\n",
              "  </tbody>\n",
              "</table>\n",
              "<p>5 rows × 43 columns</p>\n",
              "</div>\n",
              "      <button class=\"colab-df-convert\" onclick=\"convertToInteractive('df-4cda250e-1bcf-43a8-a429-825598747d86')\"\n",
              "              title=\"Convert this dataframe to an interactive table.\"\n",
              "              style=\"display:none;\">\n",
              "        \n",
              "  <svg xmlns=\"http://www.w3.org/2000/svg\" height=\"24px\"viewBox=\"0 0 24 24\"\n",
              "       width=\"24px\">\n",
              "    <path d=\"M0 0h24v24H0V0z\" fill=\"none\"/>\n",
              "    <path d=\"M18.56 5.44l.94 2.06.94-2.06 2.06-.94-2.06-.94-.94-2.06-.94 2.06-2.06.94zm-11 1L8.5 8.5l.94-2.06 2.06-.94-2.06-.94L8.5 2.5l-.94 2.06-2.06.94zm10 10l.94 2.06.94-2.06 2.06-.94-2.06-.94-.94-2.06-.94 2.06-2.06.94z\"/><path d=\"M17.41 7.96l-1.37-1.37c-.4-.4-.92-.59-1.43-.59-.52 0-1.04.2-1.43.59L10.3 9.45l-7.72 7.72c-.78.78-.78 2.05 0 2.83L4 21.41c.39.39.9.59 1.41.59.51 0 1.02-.2 1.41-.59l7.78-7.78 2.81-2.81c.8-.78.8-2.07 0-2.86zM5.41 20L4 18.59l7.72-7.72 1.47 1.35L5.41 20z\"/>\n",
              "  </svg>\n",
              "      </button>\n",
              "      \n",
              "  <style>\n",
              "    .colab-df-container {\n",
              "      display:flex;\n",
              "      flex-wrap:wrap;\n",
              "      gap: 12px;\n",
              "    }\n",
              "\n",
              "    .colab-df-convert {\n",
              "      background-color: #E8F0FE;\n",
              "      border: none;\n",
              "      border-radius: 50%;\n",
              "      cursor: pointer;\n",
              "      display: none;\n",
              "      fill: #1967D2;\n",
              "      height: 32px;\n",
              "      padding: 0 0 0 0;\n",
              "      width: 32px;\n",
              "    }\n",
              "\n",
              "    .colab-df-convert:hover {\n",
              "      background-color: #E2EBFA;\n",
              "      box-shadow: 0px 1px 2px rgba(60, 64, 67, 0.3), 0px 1px 3px 1px rgba(60, 64, 67, 0.15);\n",
              "      fill: #174EA6;\n",
              "    }\n",
              "\n",
              "    [theme=dark] .colab-df-convert {\n",
              "      background-color: #3B4455;\n",
              "      fill: #D2E3FC;\n",
              "    }\n",
              "\n",
              "    [theme=dark] .colab-df-convert:hover {\n",
              "      background-color: #434B5C;\n",
              "      box-shadow: 0px 1px 3px 1px rgba(0, 0, 0, 0.15);\n",
              "      filter: drop-shadow(0px 1px 2px rgba(0, 0, 0, 0.3));\n",
              "      fill: #FFFFFF;\n",
              "    }\n",
              "  </style>\n",
              "\n",
              "      <script>\n",
              "        const buttonEl =\n",
              "          document.querySelector('#df-4cda250e-1bcf-43a8-a429-825598747d86 button.colab-df-convert');\n",
              "        buttonEl.style.display =\n",
              "          google.colab.kernel.accessAllowed ? 'block' : 'none';\n",
              "\n",
              "        async function convertToInteractive(key) {\n",
              "          const element = document.querySelector('#df-4cda250e-1bcf-43a8-a429-825598747d86');\n",
              "          const dataTable =\n",
              "            await google.colab.kernel.invokeFunction('convertToInteractive',\n",
              "                                                     [key], {});\n",
              "          if (!dataTable) return;\n",
              "\n",
              "          const docLinkHtml = 'Like what you see? Visit the ' +\n",
              "            '<a target=\"_blank\" href=https://colab.research.google.com/notebooks/data_table.ipynb>data table notebook</a>'\n",
              "            + ' to learn more about interactive tables.';\n",
              "          element.innerHTML = '';\n",
              "          dataTable['output_type'] = 'display_data';\n",
              "          await google.colab.output.renderOutput(dataTable, element);\n",
              "          const docLink = document.createElement('div');\n",
              "          docLink.innerHTML = docLinkHtml;\n",
              "          element.appendChild(docLink);\n",
              "        }\n",
              "      </script>\n",
              "    </div>\n",
              "  </div>\n",
              "  "
            ]
          },
          "metadata": {},
          "execution_count": 8
        }
      ]
    },
    {
      "cell_type": "code",
      "source": [
        "#By default the tail function returns the first 5 rows\n",
        "df.tail()"
      ],
      "metadata": {
        "colab": {
          "base_uri": "https://localhost:8080/",
          "height": 299
        },
        "id": "1eCiyf7RuK6a",
        "outputId": "d5862417-c90a-46c7-b197-b6cf74c311e9"
      },
      "execution_count": null,
      "outputs": [
        {
          "output_type": "execute_result",
          "data": {
            "text/plain": [
              "       duration protocol_type   service  flag  src_bytes  dst_bytes  land  \\\n",
              "25186         0           tcp      exec  RSTO          0          0     0   \n",
              "25187         0           tcp  ftp_data    SF        334          0     0   \n",
              "25188         0           tcp   private   REJ          0          0     0   \n",
              "25189         0           tcp      nnsp    S0          0          0     0   \n",
              "25190         0           tcp    finger    S0          0          0     0   \n",
              "\n",
              "       wrong_fragment  urgent  hot  ...  dst_host_same_srv_rate  \\\n",
              "25186               0       0    0  ...                    0.03   \n",
              "25187               0       0    0  ...                    1.00   \n",
              "25188               0       0    0  ...                    0.05   \n",
              "25189               0       0    0  ...                    0.08   \n",
              "25190               0       0    0  ...                    0.19   \n",
              "\n",
              "       dst_host_diff_srv_rate  dst_host_same_src_port_rate  \\\n",
              "25186                    0.06                         0.00   \n",
              "25187                    0.00                         1.00   \n",
              "25188                    0.07                         0.00   \n",
              "25189                    0.06                         0.00   \n",
              "25190                    0.03                         0.01   \n",
              "\n",
              "       dst_host_srv_diff_host_rate  dst_host_serror_rate  \\\n",
              "25186                         0.00                   0.0   \n",
              "25187                         0.18                   0.0   \n",
              "25188                         0.00                   0.0   \n",
              "25189                         0.00                   1.0   \n",
              "25190                         0.00                   1.0   \n",
              "\n",
              "       dst_host_srv_serror_rate  dst_host_rerror_rate  \\\n",
              "25186                       0.0                   1.0   \n",
              "25187                       0.0                   0.0   \n",
              "25188                       0.0                   1.0   \n",
              "25189                       1.0                   0.0   \n",
              "25190                       1.0                   0.0   \n",
              "\n",
              "       dst_host_srv_rerror_rate       attack  level  \n",
              "25186                       1.0      neptune     19  \n",
              "25187                       0.0  warezclient     12  \n",
              "25188                       1.0      neptune     21  \n",
              "25189                       0.0      neptune     20  \n",
              "25190                       0.0      neptune     18  \n",
              "\n",
              "[5 rows x 43 columns]"
            ],
            "text/html": [
              "\n",
              "  <div id=\"df-7d3f12e6-807b-4f96-ad73-271a5c217ed3\">\n",
              "    <div class=\"colab-df-container\">\n",
              "      <div>\n",
              "<style scoped>\n",
              "    .dataframe tbody tr th:only-of-type {\n",
              "        vertical-align: middle;\n",
              "    }\n",
              "\n",
              "    .dataframe tbody tr th {\n",
              "        vertical-align: top;\n",
              "    }\n",
              "\n",
              "    .dataframe thead th {\n",
              "        text-align: right;\n",
              "    }\n",
              "</style>\n",
              "<table border=\"1\" class=\"dataframe\">\n",
              "  <thead>\n",
              "    <tr style=\"text-align: right;\">\n",
              "      <th></th>\n",
              "      <th>duration</th>\n",
              "      <th>protocol_type</th>\n",
              "      <th>service</th>\n",
              "      <th>flag</th>\n",
              "      <th>src_bytes</th>\n",
              "      <th>dst_bytes</th>\n",
              "      <th>land</th>\n",
              "      <th>wrong_fragment</th>\n",
              "      <th>urgent</th>\n",
              "      <th>hot</th>\n",
              "      <th>...</th>\n",
              "      <th>dst_host_same_srv_rate</th>\n",
              "      <th>dst_host_diff_srv_rate</th>\n",
              "      <th>dst_host_same_src_port_rate</th>\n",
              "      <th>dst_host_srv_diff_host_rate</th>\n",
              "      <th>dst_host_serror_rate</th>\n",
              "      <th>dst_host_srv_serror_rate</th>\n",
              "      <th>dst_host_rerror_rate</th>\n",
              "      <th>dst_host_srv_rerror_rate</th>\n",
              "      <th>attack</th>\n",
              "      <th>level</th>\n",
              "    </tr>\n",
              "  </thead>\n",
              "  <tbody>\n",
              "    <tr>\n",
              "      <th>25186</th>\n",
              "      <td>0</td>\n",
              "      <td>tcp</td>\n",
              "      <td>exec</td>\n",
              "      <td>RSTO</td>\n",
              "      <td>0</td>\n",
              "      <td>0</td>\n",
              "      <td>0</td>\n",
              "      <td>0</td>\n",
              "      <td>0</td>\n",
              "      <td>0</td>\n",
              "      <td>...</td>\n",
              "      <td>0.03</td>\n",
              "      <td>0.06</td>\n",
              "      <td>0.00</td>\n",
              "      <td>0.00</td>\n",
              "      <td>0.0</td>\n",
              "      <td>0.0</td>\n",
              "      <td>1.0</td>\n",
              "      <td>1.0</td>\n",
              "      <td>neptune</td>\n",
              "      <td>19</td>\n",
              "    </tr>\n",
              "    <tr>\n",
              "      <th>25187</th>\n",
              "      <td>0</td>\n",
              "      <td>tcp</td>\n",
              "      <td>ftp_data</td>\n",
              "      <td>SF</td>\n",
              "      <td>334</td>\n",
              "      <td>0</td>\n",
              "      <td>0</td>\n",
              "      <td>0</td>\n",
              "      <td>0</td>\n",
              "      <td>0</td>\n",
              "      <td>...</td>\n",
              "      <td>1.00</td>\n",
              "      <td>0.00</td>\n",
              "      <td>1.00</td>\n",
              "      <td>0.18</td>\n",
              "      <td>0.0</td>\n",
              "      <td>0.0</td>\n",
              "      <td>0.0</td>\n",
              "      <td>0.0</td>\n",
              "      <td>warezclient</td>\n",
              "      <td>12</td>\n",
              "    </tr>\n",
              "    <tr>\n",
              "      <th>25188</th>\n",
              "      <td>0</td>\n",
              "      <td>tcp</td>\n",
              "      <td>private</td>\n",
              "      <td>REJ</td>\n",
              "      <td>0</td>\n",
              "      <td>0</td>\n",
              "      <td>0</td>\n",
              "      <td>0</td>\n",
              "      <td>0</td>\n",
              "      <td>0</td>\n",
              "      <td>...</td>\n",
              "      <td>0.05</td>\n",
              "      <td>0.07</td>\n",
              "      <td>0.00</td>\n",
              "      <td>0.00</td>\n",
              "      <td>0.0</td>\n",
              "      <td>0.0</td>\n",
              "      <td>1.0</td>\n",
              "      <td>1.0</td>\n",
              "      <td>neptune</td>\n",
              "      <td>21</td>\n",
              "    </tr>\n",
              "    <tr>\n",
              "      <th>25189</th>\n",
              "      <td>0</td>\n",
              "      <td>tcp</td>\n",
              "      <td>nnsp</td>\n",
              "      <td>S0</td>\n",
              "      <td>0</td>\n",
              "      <td>0</td>\n",
              "      <td>0</td>\n",
              "      <td>0</td>\n",
              "      <td>0</td>\n",
              "      <td>0</td>\n",
              "      <td>...</td>\n",
              "      <td>0.08</td>\n",
              "      <td>0.06</td>\n",
              "      <td>0.00</td>\n",
              "      <td>0.00</td>\n",
              "      <td>1.0</td>\n",
              "      <td>1.0</td>\n",
              "      <td>0.0</td>\n",
              "      <td>0.0</td>\n",
              "      <td>neptune</td>\n",
              "      <td>20</td>\n",
              "    </tr>\n",
              "    <tr>\n",
              "      <th>25190</th>\n",
              "      <td>0</td>\n",
              "      <td>tcp</td>\n",
              "      <td>finger</td>\n",
              "      <td>S0</td>\n",
              "      <td>0</td>\n",
              "      <td>0</td>\n",
              "      <td>0</td>\n",
              "      <td>0</td>\n",
              "      <td>0</td>\n",
              "      <td>0</td>\n",
              "      <td>...</td>\n",
              "      <td>0.19</td>\n",
              "      <td>0.03</td>\n",
              "      <td>0.01</td>\n",
              "      <td>0.00</td>\n",
              "      <td>1.0</td>\n",
              "      <td>1.0</td>\n",
              "      <td>0.0</td>\n",
              "      <td>0.0</td>\n",
              "      <td>neptune</td>\n",
              "      <td>18</td>\n",
              "    </tr>\n",
              "  </tbody>\n",
              "</table>\n",
              "<p>5 rows × 43 columns</p>\n",
              "</div>\n",
              "      <button class=\"colab-df-convert\" onclick=\"convertToInteractive('df-7d3f12e6-807b-4f96-ad73-271a5c217ed3')\"\n",
              "              title=\"Convert this dataframe to an interactive table.\"\n",
              "              style=\"display:none;\">\n",
              "        \n",
              "  <svg xmlns=\"http://www.w3.org/2000/svg\" height=\"24px\"viewBox=\"0 0 24 24\"\n",
              "       width=\"24px\">\n",
              "    <path d=\"M0 0h24v24H0V0z\" fill=\"none\"/>\n",
              "    <path d=\"M18.56 5.44l.94 2.06.94-2.06 2.06-.94-2.06-.94-.94-2.06-.94 2.06-2.06.94zm-11 1L8.5 8.5l.94-2.06 2.06-.94-2.06-.94L8.5 2.5l-.94 2.06-2.06.94zm10 10l.94 2.06.94-2.06 2.06-.94-2.06-.94-.94-2.06-.94 2.06-2.06.94z\"/><path d=\"M17.41 7.96l-1.37-1.37c-.4-.4-.92-.59-1.43-.59-.52 0-1.04.2-1.43.59L10.3 9.45l-7.72 7.72c-.78.78-.78 2.05 0 2.83L4 21.41c.39.39.9.59 1.41.59.51 0 1.02-.2 1.41-.59l7.78-7.78 2.81-2.81c.8-.78.8-2.07 0-2.86zM5.41 20L4 18.59l7.72-7.72 1.47 1.35L5.41 20z\"/>\n",
              "  </svg>\n",
              "      </button>\n",
              "      \n",
              "  <style>\n",
              "    .colab-df-container {\n",
              "      display:flex;\n",
              "      flex-wrap:wrap;\n",
              "      gap: 12px;\n",
              "    }\n",
              "\n",
              "    .colab-df-convert {\n",
              "      background-color: #E8F0FE;\n",
              "      border: none;\n",
              "      border-radius: 50%;\n",
              "      cursor: pointer;\n",
              "      display: none;\n",
              "      fill: #1967D2;\n",
              "      height: 32px;\n",
              "      padding: 0 0 0 0;\n",
              "      width: 32px;\n",
              "    }\n",
              "\n",
              "    .colab-df-convert:hover {\n",
              "      background-color: #E2EBFA;\n",
              "      box-shadow: 0px 1px 2px rgba(60, 64, 67, 0.3), 0px 1px 3px 1px rgba(60, 64, 67, 0.15);\n",
              "      fill: #174EA6;\n",
              "    }\n",
              "\n",
              "    [theme=dark] .colab-df-convert {\n",
              "      background-color: #3B4455;\n",
              "      fill: #D2E3FC;\n",
              "    }\n",
              "\n",
              "    [theme=dark] .colab-df-convert:hover {\n",
              "      background-color: #434B5C;\n",
              "      box-shadow: 0px 1px 3px 1px rgba(0, 0, 0, 0.15);\n",
              "      filter: drop-shadow(0px 1px 2px rgba(0, 0, 0, 0.3));\n",
              "      fill: #FFFFFF;\n",
              "    }\n",
              "  </style>\n",
              "\n",
              "      <script>\n",
              "        const buttonEl =\n",
              "          document.querySelector('#df-7d3f12e6-807b-4f96-ad73-271a5c217ed3 button.colab-df-convert');\n",
              "        buttonEl.style.display =\n",
              "          google.colab.kernel.accessAllowed ? 'block' : 'none';\n",
              "\n",
              "        async function convertToInteractive(key) {\n",
              "          const element = document.querySelector('#df-7d3f12e6-807b-4f96-ad73-271a5c217ed3');\n",
              "          const dataTable =\n",
              "            await google.colab.kernel.invokeFunction('convertToInteractive',\n",
              "                                                     [key], {});\n",
              "          if (!dataTable) return;\n",
              "\n",
              "          const docLinkHtml = 'Like what you see? Visit the ' +\n",
              "            '<a target=\"_blank\" href=https://colab.research.google.com/notebooks/data_table.ipynb>data table notebook</a>'\n",
              "            + ' to learn more about interactive tables.';\n",
              "          element.innerHTML = '';\n",
              "          dataTable['output_type'] = 'display_data';\n",
              "          await google.colab.output.renderOutput(dataTable, element);\n",
              "          const docLink = document.createElement('div');\n",
              "          docLink.innerHTML = docLinkHtml;\n",
              "          element.appendChild(docLink);\n",
              "        }\n",
              "      </script>\n",
              "    </div>\n",
              "  </div>\n",
              "  "
            ]
          },
          "metadata": {},
          "execution_count": 9
        }
      ]
    },
    {
      "cell_type": "code",
      "source": [
        "#Count the number of rows and column in the data set\n",
        "df.shape"
      ],
      "metadata": {
        "colab": {
          "base_uri": "https://localhost:8080/"
        },
        "id": "KfwdCj12uNnV",
        "outputId": "143761bf-3e50-4872-b9b8-58344ba64f14"
      },
      "execution_count": null,
      "outputs": [
        {
          "output_type": "execute_result",
          "data": {
            "text/plain": [
              "(25191, 43)"
            ]
          },
          "metadata": {},
          "execution_count": 10
        }
      ]
    },
    {
      "cell_type": "code",
      "source": [
        "#Explore the data\n",
        "df.columns"
      ],
      "metadata": {
        "colab": {
          "base_uri": "https://localhost:8080/"
        },
        "id": "7QubdbrEuQid",
        "outputId": "56e0562b-048f-4974-891a-03687a0751fa"
      },
      "execution_count": null,
      "outputs": [
        {
          "output_type": "execute_result",
          "data": {
            "text/plain": [
              "Index(['duration', 'protocol_type', 'service', 'flag', 'src_bytes',\n",
              "       'dst_bytes', 'land', 'wrong_fragment', 'urgent', 'hot',\n",
              "       'num_failed_logins', 'logged_in', 'num_compromised', 'root_shell',\n",
              "       'su_attempted', 'num_root', 'num_file_creations', 'num_shells',\n",
              "       'num_access_files', 'num_outbound_cmds', 'is_host_login',\n",
              "       'is_guest_login', 'count', 'srv_count', 'serror_rate',\n",
              "       'srv_serror_rate', 'rerror_rate', 'srv_rerror_rate', 'same_srv_rate',\n",
              "       'diff_srv_rate', 'srv_diff_host_rate', 'dst_host_count',\n",
              "       'dst_host_srv_count', 'dst_host_same_srv_rate',\n",
              "       'dst_host_diff_srv_rate', 'dst_host_same_src_port_rate',\n",
              "       'dst_host_srv_diff_host_rate', 'dst_host_serror_rate',\n",
              "       'dst_host_srv_serror_rate', 'dst_host_rerror_rate',\n",
              "       'dst_host_srv_rerror_rate', 'attack', 'level'],\n",
              "      dtype='object')"
            ]
          },
          "metadata": {},
          "execution_count": 11
        }
      ]
    },
    {
      "cell_type": "code",
      "execution_count": null,
      "metadata": {
        "id": "tA508TuVBm9o"
      },
      "outputs": [],
      "source": [
        "df = df.replace((np.inf, -np.inf, np.nan), 0).reset_index(drop=True)"
      ]
    },
    {
      "cell_type": "code",
      "execution_count": null,
      "metadata": {
        "id": "vrtfvDyglqtx"
      },
      "outputs": [],
      "source": [
        "from sklearn.preprocessing import LabelEncoder\n",
        "\n",
        "protocol_type_encoder = LabelEncoder()\n",
        "df['protocol_type']=protocol_type_encoder.fit_transform(df['protocol_type'].astype(str))\n",
        "\n",
        "service_encoder = LabelEncoder()\n",
        "df['service']=service_encoder.fit_transform(df['service'].astype(str))\n",
        "\n",
        "flag_encoder = LabelEncoder()\n",
        "df['flag']=flag_encoder.fit_transform(df['flag'].astype(str))\n",
        "\n",
        "attack_encoder = LabelEncoder()\n",
        "df['attack']=attack_encoder.fit_transform(df['attack'].astype(str))\n",
        "\n",
        "label=df['attack']"
      ]
    },
    {
      "cell_type": "code",
      "execution_count": null,
      "metadata": {
        "id": "wiPuEOKMmNu2"
      },
      "outputs": [],
      "source": [
        "#splitting the model into training and testing set\n",
        "X_train, X_test, y_train, y_test = train_test_split(df, \n",
        "                                                    label, test_size=0.30, \n",
        "                                                    random_state=101)"
      ]
    },
    {
      "cell_type": "code",
      "execution_count": null,
      "metadata": {
        "colab": {
          "base_uri": "https://localhost:8080/"
        },
        "id": "co2TfHqZQ20v",
        "outputId": "954c5bcd-77b4-424d-811f-6cad26dc4eba"
      },
      "outputs": [
        {
          "output_type": "stream",
          "name": "stdout",
          "text": [
            "Accuracy: 0.9997353797300873\n"
          ]
        }
      ],
      "source": [
        "clf = DecisionTreeClassifier()\n",
        "\n",
        "# Train Decision Tree Classifer\n",
        "clf = clf.fit(X_train,y_train)\n",
        "\n",
        "#Predict the response for test dataset\n",
        "y_pred = clf.predict(X_test)\n",
        "print(\"Accuracy:\",metrics.accuracy_score(y_test, y_pred))"
      ]
    },
    {
      "cell_type": "code",
      "execution_count": null,
      "metadata": {
        "colab": {
          "base_uri": "https://localhost:8080/"
        },
        "id": "JldvylT8mUXk",
        "outputId": "eb5281b9-9539-4f95-c7a6-2395495fe3b4"
      },
      "outputs": [
        {
          "output_type": "stream",
          "name": "stdout",
          "text": [
            "Accuracy = 0.8641174913998412\n"
          ]
        }
      ],
      "source": [
        "#training a logistics regression model\n",
        "logmodel = LogisticRegression()\n",
        "logmodel.fit(X_train,y_train)\n",
        "predictions = logmodel.predict(X_test)\n",
        "print(\"Accuracy = \"+ str(accuracy_score(y_test,predictions)))"
      ]
    },
    {
      "cell_type": "code",
      "execution_count": null,
      "metadata": {
        "id": "gFgNfjtomaFj"
      },
      "outputs": [],
      "source": [
        "#defining various steps required for the genetic algorithm\n",
        "def initilization_of_population(size,n_feat):\n",
        "    population = []\n",
        "    for i in range(size):\n",
        "        chromosome = np.ones(n_feat,dtype=np.bool)\n",
        "        chromosome[:int(0.3*n_feat)]=False\n",
        "        np.random.shuffle(chromosome)\n",
        "        population.append(chromosome)\n",
        "    return population\n",
        "\n",
        "def fitness_score(population):\n",
        "    scores = []\n",
        "    for chromosome in population:\n",
        "        logmodel.fit(X_train.iloc[:,chromosome],y_train)\n",
        "        predictions = logmodel.predict(X_test.iloc[:,chromosome])\n",
        "        scores.append(accuracy_score(y_test,predictions))\n",
        "    scores, population = np.array(scores), np.array(population) \n",
        "    inds = np.argsort(scores)\n",
        "    return list(scores[inds][::-1]), list(population[inds,:][::-1])\n",
        "\n",
        "def selection(pop_after_fit,n_parents):\n",
        "    population_nextgen = []\n",
        "    for i in range(n_parents):\n",
        "        population_nextgen.append(pop_after_fit[i])\n",
        "    return population_nextgen\n",
        "\n",
        "def crossover(pop_after_sel):\n",
        "    population_nextgen=pop_after_sel\n",
        "    for i in range(len(pop_after_sel)):\n",
        "        child=pop_after_sel[i]\n",
        "        child[3:7]=pop_after_sel[(i+1)%len(pop_after_sel)][3:7]\n",
        "        population_nextgen.append(child)\n",
        "    return population_nextgen\n",
        "\n",
        "def mutation(pop_after_cross,mutation_rate):\n",
        "    population_nextgen = []\n",
        "    for i in range(0,len(pop_after_cross)):\n",
        "        chromosome = pop_after_cross[i]\n",
        "        for j in range(len(chromosome)):\n",
        "            if random.random() < mutation_rate:\n",
        "                chromosome[j]= not chromosome[j]\n",
        "        population_nextgen.append(chromosome)\n",
        "    #print(population_nextgen)\n",
        "    return population_nextgen\n",
        "\n",
        "def generations(size,n_feat,n_parents,mutation_rate,n_gen,X_train,\n",
        "                                   X_test, y_train, y_test):\n",
        "    best_chromo= []\n",
        "    best_score= []\n",
        "    population_nextgen=initilization_of_population(size,n_feat)\n",
        "    for i in range(n_gen):\n",
        "        scores, pop_after_fit = fitness_score(population_nextgen)\n",
        "        print(scores[:2])\n",
        "        pop_after_sel = selection(pop_after_fit,n_parents)\n",
        "        pop_after_cross = crossover(pop_after_sel)\n",
        "        population_nextgen = mutation(pop_after_cross,mutation_rate)\n",
        "        best_chromo.append(pop_after_fit[0])\n",
        "        best_score.append(scores[0])\n",
        "    return best_chromo,best_score"
      ]
    },
    {
      "cell_type": "markdown",
      "source": [
        "##Print the selected features"
      ],
      "metadata": {
        "id": "K9b_0clbD4B3"
      }
    },
    {
      "cell_type": "code",
      "execution_count": null,
      "metadata": {
        "colab": {
          "base_uri": "https://localhost:8080/"
        },
        "id": "jpNpF2z67eyN",
        "outputId": "cd7a9eb7-5cd4-4213-ae84-00b0f06b0e5c"
      },
      "outputs": [
        {
          "output_type": "stream",
          "name": "stdout",
          "text": [
            "Selecting features with genetic algorithm.\n",
            "gen\tnevals\tavg                            \tstd                            \tmin                            \tmax                               \n",
            "0  \t60    \t[ 0.787703  5.683333  0.00862 ]\t[ 0.12829   3.196309  0.024058]\t[ 0.517208  1.        0.000081]\t[  0.949466  10.         0.134982]\n",
            "1  \t38    \t[-832.522646    7.716667  833.336318]\t[ 2764.098424     2.608267  2763.853092]\t[-10000.            2.            0.000103]\t[     0.949466     13.        10000.      ]\n",
            "2  \t46    \t[-1499.219947     8.066667  1500.0028  ]\t[ 3571.041902     2.242518  3570.713038]\t[-10000.            3.            0.001106]\t[     0.957882     13.        10000.      ]\n",
            "3  \t32    \t[-499.10737     8.133333  500.002445]   \t[ 2179.654255     1.677962  2179.448911]\t[-10000.            5.            0.001361]\t[     0.957882     11.        10000.      ]\n",
            "4  \t36    \t[-165.729093    8.616667  166.668888]   \t[ 1280.31302      1.198494  1280.190669]\t[-10000.            6.            0.001371]\t[     0.966099     11.        10000.      ]\n",
            "5  \t45    \t[-332.407688    9.4       333.335684]   \t[ 1795.226824     0.8       1795.054499]\t[-10000.            7.            0.001592]\t[     0.966099     11.        10000.      ]\n",
            "6  \t38    \t[-165.723174    9.316667  166.669031]   \t[ 1280.31379      0.785104  1280.19065 ]\t[-10000.            7.            0.001623]\t[     0.968362     11.        10000.      ]\n",
            "7  \t33    \t[-999.134936    9.616667 1000.002024]   \t[ 3000.288355     0.914543  2999.999325]\t[-10000.            7.            0.001623]\t[     0.968362     12.        10000.      ]\n",
            "8  \t42    \t[-1332.4962       9.966667  1333.335346]\t[ 3399.674693     0.893806  3399.345553]\t[-10000.            7.            0.001816]\t[     0.970346     14.        10000.      ]\n",
            "9  \t28    \t[-832.445804   10.        833.335298]   \t[ 2764.121592     0.408248  2763.8534  ]\t[-10000.            9.            0.001998]\t[     0.970346     11.        10000.      ]\n",
            "10 \t38    \t[-999.127851   10.05     1000.001874]   \t[ 3000.290716     0.462781  2999.999375]\t[-10000.            9.            0.001626]\t[     0.972411     12.        10000.      ]\n",
            "11 \t36    \t[-665.761445   10.05      666.668665]   \t[ 2494.680189     0.384057  2494.437724]\t[-10000.            9.            0.001626]\t[     0.972411     12.        10000.      ]\n",
            "12 \t33    \t[-832.443197   10.066667  833.335187]   \t[ 2764.122378     0.573488  2763.853433]\t[-10000.            9.            0.001626]\t[     0.972411     13.        10000.      ]\n",
            "13 \t44    \t[-1165.808066    10.1       1166.668212]\t[ 3210.538748     0.768115  3210.226153]\t[-10000.            9.            0.001626]\t[     0.972411     14.        10000.      ]\n",
            "14 \t31    \t[-165.71077    10.016667  166.668277]   \t[ 1280.315405     0.128019  1280.190748]\t[-10000.           10.            0.001626]\t[     0.972411     11.        10000.      ]\n",
            "15 \t34    \t[-665.759083   10.183333  666.668184]   \t[ 2494.68082      0.718602  2494.437852]\t[-10000.           10.            0.001626]\t[     0.972411     14.        10000.      ]\n",
            "[False  True False  True False False False  True False  True False False\n",
            " False False False False False False False False False False False False\n",
            " False  True False False False False False False  True False False  True\n",
            " False  True False  True False  True False]\n"
          ]
        }
      ],
      "source": [
        "from sklearn.svm import LinearSVC\n",
        "from __future__ import print_function\n",
        "from sklearn.preprocessing import LabelEncoder\n",
        "from sklearn import datasets, linear_model\n",
        "\n",
        "from genetic_selection import GeneticSelectionCV\n",
        "\n",
        "\n",
        "def main():\n",
        "    df = pd.read_csv('/content/KDDTrain+_20Percent.txt')\n",
        "    \n",
        "    df = df.replace((np.inf, -np.inf, np.nan), 0).reset_index(drop=True)\n",
        "    \n",
        "    ##  adding column names to data frame\n",
        "\n",
        "    columns = (['duration','protocol_type','service','flag','src_bytes','dst_bytes','land','wrong_fragment','urgent','hot','num_failed_logins'\n",
        "    ,'logged_in','num_compromised','root_shell','su_attempted','num_root','num_file_creations','num_shells','num_access_files','num_outbound_cmds'\n",
        "    ,'is_host_login','is_guest_login','count','srv_count','serror_rate','srv_serror_rate','rerror_rate','srv_rerror_rate','same_srv_rate'\n",
        "    ,'diff_srv_rate','srv_diff_host_rate','dst_host_count','dst_host_srv_count','dst_host_same_srv_rate','dst_host_diff_srv_rate'\n",
        "    ,'dst_host_same_src_port_rate','dst_host_srv_diff_host_rate','dst_host_serror_rate','dst_host_srv_serror_rate','dst_host_rerror_rate','dst_host_srv_rerror_rate'\n",
        "    ,'attack','level'])\n",
        "\n",
        "    df.columns = columns\n",
        "    \n",
        "    protocol_type_encoder = LabelEncoder()\n",
        "    df['protocol_type']=protocol_type_encoder.fit_transform(df['protocol_type'].astype(str))\n",
        "\n",
        "    service_encoder = LabelEncoder()\n",
        "    df['service']=service_encoder.fit_transform(df['service'].astype(str))\n",
        "\n",
        "    flag_encoder = LabelEncoder()\n",
        "    df['flag']=flag_encoder.fit_transform(df['flag'].astype(str))\n",
        "\n",
        "    attack_encoder = LabelEncoder()\n",
        "    df['attack']=attack_encoder.fit_transform(df['attack'].astype(str))\n",
        "\n",
        "\n",
        "    X = df\n",
        "    y = df['attack']\n",
        "\n",
        "    estimators = linear_model.LogisticRegression(solver=\"liblinear\", multi_class=\"ovr\")\n",
        "\n",
        "    selectors = GeneticSelectionCV(estimators,\n",
        "                                  cv=6,\n",
        "                                  verbose=2,\n",
        "                                  scoring=\"accuracy\",\n",
        "                                  max_features=10,\n",
        "                                  n_population=60,\n",
        "                                  crossover_proba=0.6,\n",
        "                                  mutation_proba=0.05,\n",
        "                                  n_generations=15,\n",
        "                                  crossover_independent_proba=0.6,\n",
        "                                  mutation_independent_proba=0.05,\n",
        "                                  tournament_size=4,\n",
        "                                  n_gen_no_change=20,\n",
        "                                  caching=True,\n",
        "                                  n_jobs=-2)\n",
        "    selectors = selectors.fit(X, y)\n",
        "\n",
        "    print(selectors.support_)\n",
        "\n",
        "\n",
        "if __name__ == \"__main__\":\n",
        "    main()"
      ]
    },
    {
      "cell_type": "code",
      "source": [
        "from sklearn import datasets\n",
        "from sklearn.ensemble import RandomForestClassifier\n",
        "from sklearn.model_selection import train_test_split\n",
        "from sklearn.metrics import accuracy_score\n",
        "from sklearn.preprocessing import LabelEncoder\n",
        "import pandas as pd\n",
        "import numpy as np\n",
        "import warnings\n",
        "warnings.filterwarnings(\"ignore\")\n",
        "\n",
        "#Load the data\n",
        "data = pd.read_csv('/content/KDDTrain+_20Percent.txt')\n",
        "\n",
        "data = data.replace((np.inf, -np.inf, np.nan), 0).reset_index(drop=True)\n",
        "\n",
        "columns = (['duration','protocol_type','service','flag','src_bytes','dst_bytes','land','wrong_fragment','urgent','hot','num_failed_logins'\n",
        ",'logged_in','num_compromised','root_shell','su_attempted','num_root','num_file_creations','num_shells','num_access_files','num_outbound_cmds'\n",
        ",'is_host_login','is_guest_login','count','srv_count','serror_rate','srv_serror_rate','rerror_rate','srv_rerror_rate','same_srv_rate'\n",
        ",'diff_srv_rate','srv_diff_host_rate','dst_host_count','dst_host_srv_count','dst_host_same_srv_rate','dst_host_diff_srv_rate'\n",
        ",'dst_host_same_src_port_rate','dst_host_srv_diff_host_rate','dst_host_serror_rate','dst_host_srv_serror_rate','dst_host_rerror_rate','dst_host_srv_rerror_rate'\n",
        ",'attack','level'])\n",
        "\n",
        "data.columns = columns\n",
        "    \n",
        "protocol_type_encoder = LabelEncoder()\n",
        "data['protocol_type']=protocol_type_encoder.fit_transform(data['protocol_type'].astype(str))\n",
        "\n",
        "service_encoder = LabelEncoder()\n",
        "data['service']=service_encoder.fit_transform(data['service'].astype(str))\n",
        "\n",
        "flag_encoder = LabelEncoder()\n",
        "data['flag']=flag_encoder.fit_transform(data['flag'].astype(str))\n",
        "\n",
        "attack_encoder = LabelEncoder()\n",
        "data['attack']=attack_encoder.fit_transform(data['attack'].astype(str))\n",
        "\n",
        "n_samples = len(data)\n",
        "X = data\n",
        "y = data['attack']\n",
        "\n",
        "X_train, X_test, y_train, y_test = train_test_split(X, y, test_size=0.7)\n",
        "\n",
        "clf = RandomForestClassifier()"
      ],
      "metadata": {
        "id": "_WEXZlHBEuQV"
      },
      "execution_count": null,
      "outputs": []
    },
    {
      "cell_type": "markdown",
      "source": [
        "##data is fitted with the help of GASearchCV"
      ],
      "metadata": {
        "id": "aEaM1KoRH91l"
      }
    },
    {
      "cell_type": "code",
      "source": [
        "from sklearn_genetic import GASearchCV\n",
        "from sklearn_genetic.space import Continuous, Categorical, Integer\n",
        "from sklearn_genetic.plots import plot_fitness_evolution, plot_search_space\n",
        "from sklearn.model_selection import StratifiedKFold\n",
        "import matplotlib.pyplot as plt\n",
        "\n",
        "param_grid = {'min_weight_fraction_leaf': Continuous(0.01, 0.5, distribution='log-uniform'),\n",
        "              'bootstrap': Categorical([True, False]),\n",
        "              'max_depth': Integer(2, 30), \n",
        "              'max_leaf_nodes': Integer(2, 35), \n",
        "              'n_estimators': Integer(100, 300)}\n",
        "\n",
        "cv = StratifiedKFold(n_splits=3, shuffle=True)\n",
        "\n",
        "evolved_estimator = GASearchCV(estimator=clf,\n",
        "                               cv=cv,\n",
        "                               scoring='accuracy',\n",
        "                               population_size=10,\n",
        "                               generations=15,\n",
        "                               tournament_size=3,\n",
        "                               elitism=True,\n",
        "                               crossover_probability=0.6,\n",
        "                               mutation_probability=0.05,\n",
        "                               param_grid=param_grid,\n",
        "                               criteria='max',\n",
        "                               algorithm='eaMuPlusLambda',\n",
        "                               n_jobs=-1,\n",
        "                               verbose=True,\n",
        "                               keep_top_k=4)"
      ],
      "metadata": {
        "id": "wcLhNjQ8Et_P"
      },
      "execution_count": null,
      "outputs": []
    },
    {
      "cell_type": "code",
      "source": [
        "evolved_estimator.fit(X_train,y_train)"
      ],
      "metadata": {
        "colab": {
          "base_uri": "https://localhost:8080/"
        },
        "id": "o2RxY0jBEt70",
        "outputId": "d37c4448-7d1a-4e60-84b1-393d60d29a96"
      },
      "execution_count": null,
      "outputs": [
        {
          "output_type": "stream",
          "name": "stdout",
          "text": [
            "gen\tnevals\tfitness \tfitness_std\tfitness_max\tfitness_min\n",
            "0  \t10    \t0.886952\t0.03248    \t0.952627   \t0.863438   \n",
            "1  \t14    \t0.923541\t0.0352381  \t0.954215   \t0.869657   \n",
            "2  \t12    \t0.938454\t0.0305511  \t0.954215   \t0.869657   \n",
            "3  \t14    \t0.953646\t0.000388286\t0.954215   \t0.953156   \n",
            "4  \t11    \t0.953857\t0.000360213\t0.954215   \t0.953421   \n",
            "5  \t11    \t0.953804\t0.000292621\t0.954215   \t0.953421   \n",
            "6  \t14    \t0.95399 \t0.000237084\t0.954215   \t0.953553   \n",
            "7  \t9     \t0.954096\t0.00018192 \t0.954215   \t0.953818   \n",
            "8  \t16    \t0.953844\t0.000453789\t0.954215   \t0.952759   \n",
            "9  \t14    \t0.954228\t0.000983952\t0.956994   \t0.953288   \n",
            "10 \t12    \t0.954082\t0.000144958\t0.954215   \t0.953818   \n",
            "11 \t13    \t0.953791\t0.000582242\t0.954215   \t0.952759   \n",
            "12 \t12    \t0.953778\t0.000458587\t0.954215   \t0.952891   \n",
            "13 \t13    \t0.954294\t0.000555776\t0.955406   \t0.953024   \n",
            "14 \t10    \t0.954373\t0.000442061\t0.955406   \t0.953553   \n",
            "15 \t14    \t0.954625\t0.000524158\t0.955406   \t0.954215   \n"
          ]
        },
        {
          "output_type": "execute_result",
          "data": {
            "text/plain": [
              "GASearchCV(crossover_probability=0.6,\n",
              "           cv=StratifiedKFold(n_splits=3, random_state=None, shuffle=True),\n",
              "           estimator=RandomForestClassifier(max_depth=16, max_leaf_nodes=32,\n",
              "                                            min_weight_fraction_leaf=0.016579443235020405,\n",
              "                                            n_estimators=163),\n",
              "           generations=15, keep_top_k=4, mutation_probability=0.05, n_jobs=-1,\n",
              "           param_grid={'bootstrap': <sklearn_genetic.space.space.Catego...\n",
              "                       'max_depth': <sklearn_genetic.space.space.Integer object at 0x7feb5e8ca550>,\n",
              "                       'max_leaf_nodes': <sklearn_genetic.space.space.Integer object at 0x7feb5e85cc10>,\n",
              "                       'min_weight_fraction_leaf': <sklearn_genetic.space.space.Continuous object at 0x7feb5e8b0550>,\n",
              "                       'n_estimators': <sklearn_genetic.space.space.Integer object at 0x7feb5e85c8d0>},\n",
              "           population_size=10, return_train_score=True, scoring='accuracy')"
            ]
          },
          "metadata": {},
          "execution_count": 21
        }
      ]
    },
    {
      "cell_type": "code",
      "source": [
        "y_predicy_ga = evolved_estimator.predict(X_test)\n",
        "accuracy_score(y_test,y_predicy_ga)"
      ],
      "metadata": {
        "colab": {
          "base_uri": "https://localhost:8080/"
        },
        "id": "cg21bHkbEt47",
        "outputId": "5756b4b1-4a16-4685-89e2-33851f3b33a0"
      },
      "execution_count": null,
      "outputs": [
        {
          "output_type": "execute_result",
          "data": {
            "text/plain": [
              "0.95349892253601"
            ]
          },
          "metadata": {},
          "execution_count": 22
        }
      ]
    },
    {
      "cell_type": "code",
      "source": [
        "evolved_estimator.best_params_"
      ],
      "metadata": {
        "colab": {
          "base_uri": "https://localhost:8080/"
        },
        "id": "g9JL9IqNEt12",
        "outputId": "13a85c8e-75df-483a-ec9a-d4a30514ff15"
      },
      "execution_count": null,
      "outputs": [
        {
          "output_type": "execute_result",
          "data": {
            "text/plain": [
              "{'bootstrap': True,\n",
              " 'max_depth': 16,\n",
              " 'max_leaf_nodes': 32,\n",
              " 'min_weight_fraction_leaf': 0.016579443235020405,\n",
              " 'n_estimators': 163}"
            ]
          },
          "metadata": {},
          "execution_count": 23
        }
      ]
    },
    {
      "cell_type": "code",
      "source": [
        "plot_fitness_evolution(evolved_estimator)\n",
        "plt.show()"
      ],
      "metadata": {
        "colab": {
          "base_uri": "https://localhost:8080/",
          "height": 627
        },
        "id": "8ha6zevLFK6k",
        "outputId": "60809699-4de7-43b3-bf91-ad945db92484"
      },
      "execution_count": null,
      "outputs": [
        {
          "output_type": "display_data",
          "data": {
            "text/plain": [
              "<Figure size 720x720 with 1 Axes>"
            ],
            "image/png": "[encoded data removed]"
          },
          "metadata": {}
        }
      ]
    },
    {
      "cell_type": "code",
      "source": [
        "print(evolved_estimator.logbook)"
      ],
      "metadata": {
        "colab": {
          "base_uri": "https://localhost:8080/"
        },
        "id": "57wRaEsbFK25",
        "outputId": "25c55068-83a5-4340-e5fd-ce0a085a9966"
      },
      "execution_count": null,
      "outputs": [
        {
          "output_type": "stream",
          "name": "stdout",
          "text": [
            "                                                                                                                                                        parameters                                                                                                                                                        \n",
            "--------------------------------------------------------------------------------------------------------------------------------------------------------------------------------------------------------------------------------------------------------------------------------------------------------------------------\n",
            "bootstrap\tcv_scores                         \tfit_time                          \tindex\tmax_depth\tmax_leaf_nodes\tmin_weight_fraction_leaf\tn_estimators\tscore   \tscore_time                        \ttest_score                        \ttrain_score                       \n",
            "True     \t[0.86383486 0.86383486 0.86383486]\t[0.55527639 0.55757356 0.42369246]\t0    \t16       \t3             \t0.0219629               \t168         \t0.863835\t[0.06726384 0.0661912  0.04989552]\t[0.86383486 0.86383486 0.86383486]\t[0.86383486 0.86383486 0.86363636]\n",
            "True     \t[0.8860659  0.8860659  0.88328702]\t[1.04415846 1.02593517 0.72783661]\t1    \t3        \t32            \t0.0458435               \t284         \t0.88514 \t[0.12341022 0.11860561 0.08660603]\t[0.8860659  0.8860659  0.88328702]\t[0.88685987 0.88626439 0.883684  ]\n",
            "False    \t[0.86383486 0.86304089 0.86343787]\t[0.45589113 0.46090126 0.3181386 ]\t2    \t5        \t32            \t0.235253                \t163         \t0.863438\t[0.06738853 0.0650754  0.04765725]\t[0.86383486 0.86304089 0.86343787]\t[0.86363636 0.86383486 0.86383486]\n",
            "True     \t[0.94958317 0.94720127 0.94124653]\t[0.4567728  0.46143627 0.36259651]\t3    \t4        \t31            \t0.0141213               \t121         \t0.94601 \t[0.05290556 0.05282402 0.04289079]\t[0.94958317 0.94720127 0.94124653]\t[0.94998015 0.94680429 0.94263597]\n",
            "False    \t[0.86304089 0.86383486 0.86383486]\t[0.87754083 0.8758142  0.65885043]\t4    \t5        \t24            \t0.157094                \t275         \t0.86357 \t[0.11858726 0.1113832  0.08407164]\t[0.86304089 0.86383486 0.86383486]\t[0.86363636 0.86363636 0.86363636]\n",
            "True     \t[0.95394998 0.95156808 0.95236205]\t[1.26079512 1.2894094  0.89625764]\t5    \t16       \t23            \t0.0192454               \t290         \t0.952627\t[0.13002014 0.1309669  0.09678912]\t[0.95394998 0.95156808 0.95236205]\t[0.95375149 0.95394998 0.95414847]\n",
            "True     \t[0.88805081 0.8860659  0.883684  ]\t[0.9170928  0.90658045 0.68899512]\t6    \t16       \t29            \t0.053789                \t236         \t0.885934\t[0.10517597 0.09700656 0.07670307]\t[0.88805081 0.8860659  0.883684  ]\t[0.88944025 0.88487495 0.88626439]\n",
            "False    \t[0.86343787 0.86383486 0.86383486]\t[0.94285202 0.93728757 0.6998682 ]\t7    \t8        \t11            \t0.172735                \t290         \t0.863703\t[0.12387705 0.11871767 0.08725309]\t[0.86343787 0.86383486 0.86383486]\t[0.86383486 0.86383486 0.86363636]\n",
            "True     \t[0.86383486 0.86383486 0.86343787]\t[1.0392127  1.03571916 0.77053785]\t8    \t5        \t21            \t0.0927568               \t287         \t0.863703\t[0.12265277 0.11727071 0.09175491]\t[0.86383486 0.86383486 0.86343787]\t[0.86383486 0.86383486 0.86383486]\n",
            "False    \t[0.88289004 0.88169909 0.88011116]\t[0.98903298 0.96804857 0.76020861]\t9    \t9        \t29            \t0.0648567               \t244         \t0.881567\t[0.11798191 0.11086965 0.08400607]\t[0.88289004 0.88169909 0.88011116]\t[0.88169909 0.88189758 0.88229456]\n",
            "True     \t[0.95712584 0.953553   0.94958317]\t[1.30178165 1.31456256 0.96173954]\t10   \t16       \t23            \t0.0192454               \t290         \t0.953421\t[0.13141418 0.13464308 0.09395456]\t[0.95712584 0.953553   0.94958317]\t[0.95613339 0.953553   0.95454545]\n",
            "True     \t[0.86383486 0.86383486 0.86383486]\t[0.36441565 0.36962843 0.26400447]\t11   \t4        \t31            \t0.235253                \t121         \t0.863835\t[0.05516672 0.04998612 0.04125524]\t[0.86383486 0.86383486 0.86383486]\t[0.86383486 0.86363636 0.86363636]\n",
            "True     \t[0.86383486 0.86343787 0.86383486]\t[0.92419219 0.93288732 0.6547153 ]\t12   \t3        \t32            \t0.157094                \t284         \t0.863703\t[0.1167593  0.11528063 0.08513403]\t[0.86383486 0.86343787 0.86383486]\t[0.86383486 0.86343787 0.86383486]\n",
            "True     \t[0.883684   0.89400556 0.8975784 ]\t[0.97264051 0.95666313 0.68850422]\t13   \t9        \t29            \t0.053789                \t244         \t0.891756\t[0.11061954 0.1077168  0.07995725]\t[0.883684   0.89400556 0.8975784 ]\t[0.88408098 0.89519651 0.89896784]\n",
            "True     \t[0.86383486 0.86343787 0.86383486]\t[1.01605392 0.9826932  0.72417355]\t14   \t3        \t21            \t0.0927568               \t287         \t0.863703\t[0.12061524 0.11471295 0.08959484]\t[0.86383486 0.86343787 0.86383486]\t[0.86383486 0.86383486 0.86383486]\n",
            "True     \t[0.90075427 0.88924176 0.90035728]\t[0.43578911 0.41947937 0.33468652]\t15   \t4        \t5             \t0.0141213               \t121         \t0.896784\t[0.05406284 0.05073524 0.03833485]\t[0.90075427 0.88924176 0.90035728]\t[0.90035728 0.88983724 0.90194522]\n",
            "False    \t[0.88169909 0.88328702 0.87971417]\t[0.97322989 0.94735122 0.75911283]\t16   \t5        \t24            \t0.0648567               \t244         \t0.881567\t[0.122823   0.10480976 0.07770801]\t[0.88169909 0.88328702 0.87971417]\t[0.8813021  0.88110361 0.88269154]\n",
            "False    \t[0.86383486 0.86383486 0.86343787]\t[0.4475174  0.45492482 0.32715321]\t17   \t5        \t21            \t0.235253                \t163         \t0.863703\t[0.06573439 0.06449008 0.04755902]\t[0.86383486 0.86383486 0.86343787]\t[0.86363636 0.86363636 0.86383486]\n",
            "True     \t[0.95236205 0.95434696 0.95593489]\t[0.72953653 0.73800087 0.52514362]\t18   \t16       \t32            \t0.0192454               \t163         \t0.954215\t[0.08158779 0.07410192 0.05677652]\t[0.95236205 0.95434696 0.95593489]\t[0.95553791 0.95494244 0.95216356]\n",
            "True     \t[0.95394998 0.9487892  0.94958317]\t[1.17478776 1.18035245 0.90359092]\t19   \t5        \t21            \t0.0192454               \t287         \t0.950774\t[0.1342659  0.130862   0.09331489]\t[0.95394998 0.9487892  0.94958317]\t[0.95037713 0.95256054 0.95315601]\n",
            "False    \t[0.87653831 0.86383486 0.87892021]\t[1.01242566 1.00502896 0.73109412]\t20   \t9        \t29            \t0.0648567               \t244         \t0.873098\t[0.11180139 0.10340786 0.07933497]\t[0.87653831 0.86383486 0.87892021]\t[0.87753077 0.86383486 0.88070663]\n",
            "True     \t[0.86383486 0.86383486 0.86383486]\t[1.00860643 1.01296306 0.71618533]\t21   \t5        \t24            \t0.0927568               \t275         \t0.863835\t[0.11918211 0.1151228  0.08495855]\t[0.86383486 0.86383486 0.86383486]\t[0.86383486 0.86383486 0.86383486]\n",
            "False    \t[0.95394998 0.94958317 0.95275903]\t[1.2634542  1.23357415 0.97279334]\t22   \t5        \t23            \t0.0192454               \t290         \t0.952097\t[0.12606835 0.11763954 0.09336472]\t[0.95394998 0.94958317 0.95275903]\t[0.95077412 0.95394998 0.95394998]\n",
            "True     \t[0.86343787 0.88169909 0.86383486]\t[0.93591166 0.95467448 0.69419861]\t23   \t9        \t29            \t0.0648567               \t244         \t0.869657\t[0.10928583 0.10698724 0.0807116 ]\t[0.86343787 0.88169909 0.86383486]\t[0.86383486 0.88189758 0.86383486]\n",
            "True     \t[0.88685987 0.88646288 0.88527193]\t[0.90127921 0.89136314 0.66080379]\t24   \t4        \t29            \t0.053789                \t236         \t0.886198\t[0.10421371 0.09940696 0.0751667 ]\t[0.88685987 0.88646288 0.88527193]\t[0.88805081 0.88507344 0.8860659 ]\n",
            "True     \t[0.86383486 0.88169909 0.86383486]\t[0.9101665  0.91621304 0.68152428]\t25   \t16       \t29            \t0.0648567               \t236         \t0.86979 \t[0.11436462 0.10479379 0.07721782]\t[0.86383486 0.88169909 0.86383486]\t[0.86383486 0.88269154 0.86383486]\n",
            "True     \t[0.8813021  0.87693529 0.86383486]\t[0.94941473 0.95917583 0.67602539]\t26   \t9        \t29            \t0.0648567               \t244         \t0.874024\t[0.10639715 0.10759401 0.0773561 ]\t[0.8813021  0.87693529 0.86383486]\t[0.8815006  0.8767368  0.86383486]\n",
            "True     \t[0.94481937 0.9487892  0.94601032]\t[0.63193321 0.64454365 0.47452974]\t27   \t4        \t31            \t0.0141213               \t163         \t0.94654 \t[0.07108665 0.06870675 0.05264688]\t[0.94481937 0.9487892  0.94601032]\t[0.94620881 0.94918618 0.94918618]\n",
            "True     \t[0.95315601 0.95196507 0.95474395]\t[1.29534364 1.26601028 0.93898368]\t28   \t9        \t23            \t0.0192454               \t290         \t0.953288\t[0.13476491 0.12912107 0.09827423]\t[0.95315601 0.95196507 0.95474395]\t[0.95394998 0.95315601 0.95375149]\n",
            "True     \t[0.95236205 0.953553   0.95474395]\t[1.32371354 1.28145671 0.95051169]\t29   \t16       \t32            \t0.0192454               \t290         \t0.953553\t[0.1335721  0.12516499 0.09736371]\t[0.95236205 0.953553   0.95474395]\t[0.95335451 0.95494244 0.95474395]\n",
            "True     \t[0.95156808 0.94918618 0.95672886]\t[1.05958652 1.03487206 0.78388691]\t30   \t16       \t29            \t0.0192454               \t236         \t0.952494\t[0.1240449  0.10720134 0.07794166]\t[0.95156808 0.94918618 0.95672886]\t[0.95196507 0.95236205 0.95593489]\n",
            "False    \t[0.883684   0.88646288 0.90035728]\t[1.02056026 1.0200479  0.76466179]\t31   \t9        \t29            \t0.053789                \t244         \t0.890168\t[0.11392093 0.1048367  0.08329487]\t[0.883684   0.88646288 0.90035728]\t[0.88408098 0.88666137 0.89936483]\n",
            "False    \t[0.86383486 0.86383486 0.86383486]\t[0.79934812 0.7883234  0.59112072]\t32   \t9        \t3             \t0.0648567               \t244         \t0.863835\t[0.12011337 0.11452794 0.07114506]\t[0.86383486 0.86383486 0.86383486]\t[0.86383486 0.86383486 0.86363636]\n",
            "True     \t[0.88447797 0.88685987 0.88487495]\t[1.14825797 1.14182925 0.84226727]\t33   \t16       \t29            \t0.053789                \t290         \t0.885404\t[0.13660073 0.12170434 0.0945518 ]\t[0.88447797 0.88685987 0.88487495]\t[0.88566892 0.88785232 0.88646288]\n",
            "True     \t[0.94720127 0.94720127 0.94561334]\t[1.16829562 1.1474278  0.83159089]\t34   \t4        \t31            \t0.0141213               \t290         \t0.946672\t[0.13582277 0.12536573 0.09204245]\t[0.94720127 0.94720127 0.94561334]\t[0.94938468 0.94839222 0.94382692]\n",
            "True     \t[0.95394998 0.95236205 0.953553  ]\t[1.26219511 1.24977469 0.92669344]\t35   \t16       \t23            \t0.0192454               \t290         \t0.953288\t[0.14297056 0.1298511  0.09950209]\t[0.95394998 0.95236205 0.953553  ]\t[0.953553   0.95474395 0.95434696]\n",
            "True     \t[0.95514093 0.95394998 0.94998015]\t[0.7501874  0.74701953 0.53922987]\t36   \t16       \t32            \t0.0192454               \t163         \t0.953024\t[0.08885884 0.07998419 0.0559411 ]\t[0.95514093 0.95394998 0.94998015]\t[0.953553   0.95315601 0.95553791]\n",
            "True     \t[0.953553   0.95315601 0.95196507]\t[1.30873775 1.29446578 0.98168087]\t37   \t16       \t32            \t0.0192454               \t290         \t0.952891\t[0.15173936 0.13826752 0.09701562]\t[0.953553   0.95315601 0.95196507]\t[0.953553   0.95533942 0.953553  ]\n",
            "True     \t[0.953553   0.95196507 0.95514093]\t[1.04668212 1.04271102 0.73017573]\t38   \t16       \t29            \t0.0192454               \t236         \t0.953553\t[0.11930776 0.11119437 0.08167768]\t[0.953553   0.95196507 0.95514093]\t[0.95553791 0.95216356 0.95494244]\n",
            "True     \t[0.95156808 0.95394998 0.95394998]\t[0.6975646  0.69909596 0.50894594]\t39   \t16       \t32            \t0.0192454               \t163         \t0.953156\t[0.08929491 0.07865167 0.05817032]\t[0.95156808 0.95394998 0.95394998]\t[0.95156808 0.95533942 0.95672886]\n",
            "True     \t[0.95156808 0.95315601 0.95474395]\t[1.3141849  1.30358005 0.92940164]\t40   \t16       \t23            \t0.0192454               \t290         \t0.953156\t[0.13611507 0.12773585 0.10225153]\t[0.95156808 0.95315601 0.95474395]\t[0.953553   0.95454545 0.95414847]\n",
            "True     \t[0.95434696 0.95394998 0.95275903]\t[1.27419353 1.24997449 0.99182105]\t41   \t16       \t32            \t0.0192454               \t290         \t0.953685\t[0.14104104 0.12618995 0.1023941 ]\t[0.95434696 0.95394998 0.95275903]\t[0.95474395 0.95335451 0.95454545]\n",
            "True     \t[0.9511711  0.95156808 0.95394998]\t[1.0857904  1.09591913 0.78621435]\t42   \t16       \t29            \t0.0192454               \t236         \t0.95223 \t[0.11553764 0.10937071 0.08454299]\t[0.9511711  0.95156808 0.95394998]\t[0.95375149 0.95275903 0.95335451]\n",
            "True     \t[0.95275903 0.95474395 0.95315601]\t[1.0368309  1.05015779 0.76459098]\t43   \t16       \t29            \t0.0192454               \t236         \t0.953553\t[0.11177969 0.10807014 0.07917953]\t[0.95275903 0.95474395 0.95315601]\t[0.95335451 0.95514093 0.95216356]\n",
            "True     \t[0.95315601 0.95156808 0.95514093]\t[1.08286881 1.04161406 0.73453569]\t44   \t16       \t32            \t0.0192454               \t236         \t0.953288\t[0.12086344 0.10115266 0.07725191]\t[0.95315601 0.95156808 0.95514093]\t[0.95375149 0.95335451 0.9557364 ]\n",
            "True     \t[0.94958317 0.95474395 0.95394998]\t[1.21919274 1.22162056 0.90202093]\t45   \t16       \t23            \t0.0192454               \t290         \t0.952759\t[0.13631678 0.12961173 0.09396982]\t[0.94958317 0.95474395 0.95394998]\t[0.95394998 0.95394998 0.95335451]\n",
            "True     \t[0.94918618 0.953553   0.95434696]\t[1.02214813 1.03615642 0.75956106]\t46   \t16       \t29            \t0.0192454               \t236         \t0.952362\t[0.11569715 0.10545826 0.08236384]\t[0.94918618 0.953553   0.95434696]\t[0.95275903 0.95335451 0.95216356]\n",
            "True     \t[0.95037713 0.95474395 0.95394998]\t[0.71207786 0.74533939 0.5353291 ]\t47   \t9        \t29            \t0.0192454               \t163         \t0.953024\t[0.08040023 0.07792091 0.05614805]\t[0.95037713 0.95474395 0.95394998]\t[0.953553   0.95216356 0.95613339]\n",
            "True     \t[0.95633188 0.95077412 0.95077412]\t[1.31068444 1.27634287 0.9608717 ]\t48   \t16       \t23            \t0.0192454               \t290         \t0.952627\t[0.14528179 0.13444805 0.09767103]\t[0.95633188 0.95077412 0.95077412]\t[0.953553   0.953553   0.95315601]\n",
            "True     \t[0.95275903 0.95077412 0.95394998]\t[1.30577397 1.30083108 0.89413071]\t49   \t16       \t23            \t0.0192454               \t290         \t0.952494\t[0.13187504 0.16831326 0.10076475]\t[0.95275903 0.95077412 0.95394998]\t[0.95494244 0.95295752 0.95236205]\n",
            "True     \t[0.9511711  0.953553   0.95553791]\t[1.24881601 1.25722146 0.92088842]\t50   \t16       \t32            \t0.0192454               \t290         \t0.953421\t[0.14053226 0.15123534 0.0957942 ]\t[0.9511711  0.953553   0.95553791]\t[0.95533942 0.95394998 0.95414847]\n",
            "True     \t[0.95275903 0.95275903 0.95236205]\t[1.24993086 1.24994469 0.91929436]\t51   \t16       \t32            \t0.0192454               \t290         \t0.952627\t[0.13922906 0.13061452 0.10498285]\t[0.95275903 0.95275903 0.95236205]\t[0.95335451 0.95514093 0.95375149]\n",
            "True     \t[0.95037713 0.95514093 0.95553791]\t[1.05264187 1.04623723 0.78409791]\t52   \t16       \t32            \t0.0192454               \t236         \t0.953685\t[0.10887957 0.10958076 0.08451653]\t[0.95037713 0.95514093 0.95553791]\t[0.95514093 0.95236205 0.95533942]\n",
            "True     \t[0.9511711  0.95474395 0.95672886]\t[0.73083758 0.72624159 0.52420068]\t53   \t16       \t32            \t0.0192454               \t163         \t0.954215\t[0.07955194 0.0760057  0.05430317]\t[0.9511711  0.95474395 0.95672886]\t[0.95256054 0.95553791 0.95454545]\n",
            "True     \t[0.95553791 0.95553791 0.9511711 ]\t[1.08560348 1.07848954 0.77977514]\t54   \t16       \t23            \t0.0192454               \t236         \t0.954082\t[0.11983633 0.11255193 0.07845449]\t[0.95553791 0.95553791 0.9511711 ]\t[0.95494244 0.953553   0.95474395]\n",
            "True     \t[0.95275903 0.94720127 0.95593489]\t[1.25073481 1.22978282 0.92155147]\t55   \t16       \t23            \t0.0192454               \t290         \t0.951965\t[0.13638091 0.1250782  0.09611273]\t[0.95275903 0.94720127 0.95593489]\t[0.95434696 0.95275903 0.95494244]\n",
            "True     \t[0.93687971 0.93687971 0.94243748]\t[1.21196151 1.20032191 0.8846705 ]\t56   \t16       \t23            \t0.0295121               \t290         \t0.938732\t[0.14370084 0.13199663 0.09387946]\t[0.93687971 0.93687971 0.94243748]\t[0.93846765 0.9394601  0.94263597]\n",
            "True     \t[0.94918618 0.95275903 0.95633188]\t[1.24197698 1.23728347 0.91478419]\t57   \t16       \t23            \t0.0192454               \t290         \t0.952759\t[0.14435053 0.13393855 0.09740806]\t[0.94918618 0.95275903 0.95633188]\t[0.95593489 0.95196507 0.95335451]\n",
            "True     \t[0.94998015 0.95553791 0.953553  ]\t[0.73615885 0.74067736 0.5211153 ]\t58   \t16       \t32            \t0.0192454               \t163         \t0.953024\t[0.07912874 0.07376289 0.05925226]\t[0.94998015 0.95553791 0.953553  ]\t[0.95394998 0.95375149 0.95434696]\n",
            "True     \t[0.95752283 0.95236205 0.9511711 ]\t[0.70480514 0.71704221 0.5452342 ]\t59   \t16       \t32            \t0.0192454               \t163         \t0.953685\t[0.07920623 0.0755825  0.05884719]\t[0.95752283 0.95236205 0.9511711 ]\t[0.95553791 0.95176657 0.9557364 ]\n",
            "True     \t[0.95672886 0.95077412 0.9511711 ]\t[1.06888509 1.0393219  0.76703286]\t60   \t16       \t32            \t0.0192454               \t236         \t0.952891\t[0.11898708 0.11072588 0.07787824]\t[0.95672886 0.95077412 0.9511711 ]\t[0.95295752 0.95335451 0.95375149]\n",
            "True     \t[0.95553791 0.9487892  0.95474395]\t[0.71192932 0.68742919 0.52172995]\t61   \t16       \t23            \t0.0192454               \t163         \t0.953024\t[0.0816009  0.07232571 0.05389714]\t[0.95553791 0.9487892  0.95474395]\t[0.9557364  0.95256054 0.95434696]\n",
            "True     \t[0.95156808 0.95434696 0.95514093]\t[1.05168033 1.02560711 0.76456618]\t62   \t16       \t29            \t0.0192454               \t236         \t0.953685\t[0.11166239 0.1021626  0.07812333]\t[0.95156808 0.95434696 0.95514093]\t[0.95375149 0.9557364  0.95176657]\n",
            "True     \t[0.9511711  0.95196507 0.95514093]\t[0.73941898 0.74625754 0.53223515]\t63   \t16       \t32            \t0.0192454               \t163         \t0.952759\t[0.07911611 0.0761776  0.05610204]\t[0.9511711  0.95196507 0.95514093]\t[0.95335451 0.95256054 0.953553  ]\n",
            "True     \t[0.95236205 0.95553791 0.953553  ]\t[1.03865099 1.00538945 0.80523515]\t64   \t16       \t29            \t0.0192454               \t236         \t0.953818\t[0.11713219 0.10563946 0.08449197]\t[0.95236205 0.95553791 0.953553  ]\t[0.95335451 0.95533942 0.95454545]\n",
            "True     \t[0.95553791 0.95077412 0.95236205]\t[1.05406857 1.03990626 0.7566936 ]\t65   \t16       \t29            \t0.0192454               \t236         \t0.952891\t[0.10932326 0.11617947 0.08439159]\t[0.95553791 0.95077412 0.95236205]\t[0.95335451 0.953553   0.95295752]\n",
            "True     \t[0.953553   0.95394998 0.95474395]\t[0.7482934  0.73716784 0.52215719]\t66   \t16       \t32            \t0.0192454               \t163         \t0.954082\t[0.07709146 0.0752964  0.05763531]\t[0.953553   0.95394998 0.95474395]\t[0.95434696 0.95394998 0.95434696]\n",
            "True     \t[0.9511711  0.95394998 0.95196507]\t[0.70515203 0.71282697 0.51459455]\t67   \t16       \t29            \t0.0192454               \t163         \t0.952362\t[0.07763982 0.07589102 0.05820322]\t[0.9511711  0.95394998 0.95196507]\t[0.95176657 0.95414847 0.95176657]\n",
            "True     \t[0.95394998 0.95275903 0.95236205]\t[0.71568966 0.70635748 0.52535176]\t68   \t16       \t32            \t0.0192454               \t163         \t0.953024\t[0.07998323 0.07306671 0.05670047]\t[0.95394998 0.95275903 0.95236205]\t[0.95533942 0.95216356 0.95216356]\n",
            "True     \t[0.95236205 0.95077412 0.95514093]\t[0.71234107 0.71504283 0.5239265 ]\t69   \t16       \t29            \t0.0192454               \t163         \t0.952759\t[0.07933354 0.07376266 0.05605912]\t[0.95236205 0.95077412 0.95514093]\t[0.95196507 0.95394998 0.95514093]\n",
            "True     \t[0.95593489 0.95156808 0.9511711 ]\t[1.01593828 1.00265598 0.74349713]\t70   \t16       \t32            \t0.0192454               \t236         \t0.952891\t[0.11011791 0.10132647 0.0766046 ]\t[0.95593489 0.95156808 0.9511711 ]\t[0.9557364  0.95335451 0.95375149]\n",
            "True     \t[0.95236205 0.95553791 0.95236205]\t[0.69000983 0.69203448 0.48849177]\t71   \t16       \t32            \t0.0192454               \t163         \t0.953421\t[0.0758884  0.07187915 0.0564642 ]\t[0.95236205 0.95553791 0.95236205]\t[0.95494244 0.95494244 0.95176657]\n",
            "True     \t[0.95394998 0.95514093 0.95077412]\t[1.01099968 0.99749851 0.75190663]\t72   \t16       \t29            \t0.0192454               \t236         \t0.953288\t[0.10911274 0.10684204 0.0811801 ]\t[0.95394998 0.95514093 0.95077412]\t[0.95613339 0.95593489 0.95077412]\n",
            "True     \t[0.95275903 0.95037713 0.95553791]\t[0.71905828 0.7160399  0.54105687]\t73   \t16       \t32            \t0.0192454               \t163         \t0.952891\t[0.07527947 0.07551074 0.05686283]\t[0.95275903 0.95037713 0.95553791]\t[0.95375149 0.953553   0.95375149]\n",
            "True     \t[0.95236205 0.95474395 0.95236205]\t[1.04674959 1.04846144 0.76298642]\t74   \t16       \t29            \t0.0192454               \t236         \t0.953156\t[0.10576725 0.10451388 0.08105612]\t[0.95236205 0.95474395 0.95236205]\t[0.95394998 0.95236205 0.95514093]\n",
            "True     \t[0.95514093 0.95077412 0.95196507]\t[0.74171972 0.73202562 0.51528454]\t75   \t16       \t29            \t0.0192454               \t163         \t0.952627\t[0.07830763 0.0731945  0.05570745]\t[0.95514093 0.95077412 0.95196507]\t[0.95434696 0.95553791 0.953553  ]\n",
            "True     \t[0.94958317 0.95275903 0.95236205]\t[0.7127111  0.70891213 0.50013232]\t76   \t16       \t29            \t0.0192454               \t163         \t0.951568\t[0.07878304 0.0743475  0.05292678]\t[0.94958317 0.95275903 0.95236205]\t[0.95394998 0.95553791 0.95256054]\n",
            "True     \t[0.95196507 0.95315601 0.95315601]\t[0.99572062 1.00675178 0.73584151]\t77   \t16       \t29            \t0.0192454               \t236         \t0.952759\t[0.11086226 0.10531497 0.08261967]\t[0.95196507 0.95315601 0.95315601]\t[0.95414847 0.95375149 0.95394998]\n",
            "True     \t[0.95394998 0.94998015 0.953553  ]\t[1.02733183 1.02683949 0.7476933 ]\t78   \t16       \t29            \t0.0192454               \t236         \t0.952494\t[0.10819507 0.10883808 0.0784986 ]\t[0.95394998 0.94998015 0.953553  ]\t[0.95394998 0.95394998 0.95295752]\n",
            "True     \t[0.95156808 0.95514093 0.95315601]\t[1.0340724  1.05080867 0.74175811]\t79   \t16       \t29            \t0.0192454               \t236         \t0.953288\t[0.11130476 0.1079855  0.07907677]\t[0.95156808 0.95514093 0.95315601]\t[0.95394998 0.95553791 0.95375149]\n",
            "True     \t[0.9511711  0.95593489 0.94680429]\t[0.68636703 0.70098734 0.52799416]\t80   \t16       \t32            \t0.0192454               \t163         \t0.951303\t[0.0755446  0.07573438 0.05724788]\t[0.9511711  0.95593489 0.94680429]\t[0.95275903 0.95672886 0.95176657]\n",
            "True     \t[0.95315601 0.95275903 0.95434696]\t[0.76077294 0.74165773 0.54098415]\t81   \t16       \t32            \t0.0192454               \t163         \t0.953421\t[0.08204484 0.07384825 0.05649328]\t[0.95315601 0.95275903 0.95434696]\t[0.95434696 0.95474395 0.95434696]\n",
            "True     \t[0.95434696 0.95156808 0.95394998]\t[0.74815512 0.75657415 0.55138516]\t82   \t16       \t32            \t0.0192454               \t163         \t0.953288\t[0.08097839 0.07606339 0.06166244]\t[0.95434696 0.95156808 0.95394998]\t[0.95335451 0.95375149 0.95434696]\n",
            "True     \t[0.95037713 0.95236205 0.95514093]\t[0.70374894 0.7316277  0.53401136]\t83   \t16       \t32            \t0.0192454               \t163         \t0.952627\t[0.08383799 0.0887692  0.05558705]\t[0.95037713 0.95236205 0.95514093]\t[0.95394998 0.95315601 0.9557364 ]\n",
            "True     \t[0.95315601 0.95077412 0.95553791]\t[1.02575088 0.99856353 0.7819314 ]\t84   \t16       \t29            \t0.0192454               \t236         \t0.953156\t[0.12203145 0.11045551 0.08673024]\t[0.95315601 0.95077412 0.95553791]\t[0.95494244 0.95335451 0.95375149]\n",
            "True     \t[0.95196507 0.95633188 0.95275903]\t[1.04975295 1.01473856 0.74593091]\t85   \t16       \t29            \t0.0192454               \t236         \t0.953685\t[0.11976051 0.10694385 0.07972741]\t[0.95196507 0.95633188 0.95275903]\t[0.95394998 0.95256054 0.95474395]\n",
            "True     \t[0.95196507 0.95196507 0.95275903]\t[1.04709172 1.01824927 0.75956154]\t86   \t16       \t29            \t0.0192454               \t236         \t0.95223 \t[0.11371922 0.10449743 0.08071399]\t[0.95196507 0.95196507 0.95275903]\t[0.95414847 0.953553   0.95394998]\n",
            "True     \t[0.95394998 0.953553   0.95236205]\t[0.7894671  0.72035885 0.55064797]\t87   \t16       \t32            \t0.0192454               \t163         \t0.953288\t[0.07893538 0.0714407  0.05585217]\t[0.95394998 0.953553   0.95236205]\t[0.95533942 0.95295752 0.95474395]\n",
            "True     \t[0.95514093 0.95037713 0.95236205]\t[0.69508433 0.71825457 0.55073786]\t88   \t16       \t32            \t0.0192454               \t163         \t0.952627\t[0.07868099 0.07260537 0.05659747]\t[0.95514093 0.95037713 0.95236205]\t[0.95414847 0.95533942 0.95196507]\n",
            "True     \t[0.95037713 0.95514093 0.95156808]\t[0.71144176 0.72506046 0.53403664]\t89   \t16       \t32            \t0.0192454               \t163         \t0.952362\t[0.07517815 0.07609057 0.05397511]\t[0.95037713 0.95514093 0.95156808]\t[0.95414847 0.95196507 0.95454545]\n",
            "True     \t[0.95196507 0.95593489 0.953553  ]\t[0.72516084 0.73220921 0.52976608]\t90   \t16       \t29            \t0.0192454               \t163         \t0.953818\t[0.07721233 0.07348633 0.05750871]\t[0.95196507 0.95593489 0.953553  ]\t[0.95375149 0.95613339 0.95414847]\n",
            "True     \t[0.94402541 0.93767368 0.94323144]\t[0.62062311 0.61402345 0.46571875]\t91   \t4        \t32            \t0.0192454               \t163         \t0.941644\t[0.0723238  0.07187843 0.05723596]\t[0.94402541 0.93767368 0.94323144]\t[0.941842   0.94144502 0.94700278]\n",
            "True     \t[0.95514093 0.95633188 0.9511711 ]\t[0.98312497 1.01335573 0.76604176]\t92   \t16       \t29            \t0.0192454               \t236         \t0.954215\t[0.10444379 0.1110208  0.08080602]\t[0.95514093 0.95633188 0.9511711 ]\t[0.95474395 0.95633188 0.95335451]\n",
            "True     \t[0.94918618 0.95593489 0.95434696]\t[0.7052331  0.72071695 0.52649808]\t93   \t16       \t32            \t0.0192454               \t163         \t0.953156\t[0.08193398 0.07746792 0.05735898]\t[0.94918618 0.95593489 0.95434696]\t[0.95375149 0.95474395 0.95315601]\n",
            "True     \t[0.95315601 0.95394998 0.953553  ]\t[0.71182728 0.70993543 0.53020167]\t94   \t16       \t32            \t0.0192454               \t163         \t0.953553\t[0.07702184 0.07558894 0.05989099]\t[0.95315601 0.95394998 0.953553  ]\t[0.95236205 0.953553   0.95593489]\n",
            "True     \t[0.95236205 0.95156808 0.95077412]\t[0.98824739 1.01775289 0.76352262]\t95   \t16       \t29            \t0.0192454               \t236         \t0.951568\t[0.10232258 0.10084224 0.08032393]\t[0.95236205 0.95156808 0.95077412]\t[0.95394998 0.953553   0.95136959]\n",
            "True     \t[0.94958317 0.95394998 0.95315601]\t[0.70981574 0.72257996 0.51902628]\t96   \t16       \t32            \t0.0192454               \t163         \t0.95223 \t[0.07994103 0.07522011 0.05669308]\t[0.94958317 0.95394998 0.95315601]\t[0.95533942 0.95176657 0.95156808]\n",
            "True     \t[0.94839222 0.95633188 0.95315601]\t[1.05405593 1.05559492 0.76048207]\t97   \t16       \t29            \t0.0192454               \t236         \t0.952627\t[0.11032438 0.11231351 0.08181882]\t[0.94839222 0.95633188 0.95315601]\t[0.95434696 0.95434696 0.95295752]\n",
            "True     \t[0.95394998 0.95315601 0.95434696]\t[0.72766876 0.73951674 0.52772069]\t98   \t16       \t32            \t0.0192454               \t163         \t0.953818\t[0.07863402 0.075212   0.05878663]\t[0.95394998 0.95315601 0.95434696]\t[0.95434696 0.95474395 0.95434696]\n",
            "True     \t[0.95077412 0.95394998 0.95037713]\t[0.71068263 0.7300539  0.54881835]\t99   \t16       \t32            \t0.0192454               \t163         \t0.9517  \t[0.0796175  0.07937241 0.05855036]\t[0.95077412 0.95394998 0.95037713]\t[0.95216356 0.95494244 0.95335451]\n",
            "True     \t[0.95275903 0.95474395 0.95394998]\t[0.74038172 0.74154019 0.55068636]\t100  \t16       \t32            \t0.0192454               \t163         \t0.953818\t[0.08154321 0.07717919 0.05810499]\t[0.95275903 0.95474395 0.95394998]\t[0.95434696 0.9557364  0.95236205]\n",
            "True     \t[0.95196507 0.9511711  0.9487892 ]\t[0.76845932 0.76796556 0.48098135]\t101  \t16       \t32            \t0.0192454               \t163         \t0.950642\t[0.07460237 0.07403922 0.05766559]\t[0.95196507 0.9511711  0.9487892 ]\t[0.95474395 0.95533942 0.94759825]\n",
            "True     \t[0.94958317 0.95196507 0.95752283]\t[0.71433449 0.69439268 0.53615999]\t102  \t16       \t32            \t0.0192454               \t163         \t0.953024\t[0.09048128 0.08218551 0.05614471]\t[0.94958317 0.95196507 0.95752283]\t[0.95295752 0.95375149 0.95414847]\n",
            "True     \t[0.95553791 0.95196507 0.95236205]\t[0.72232533 0.70992303 0.53605151]\t103  \t16       \t32            \t0.0192454               \t163         \t0.953288\t[0.08095932 0.07832789 0.05523515]\t[0.95553791 0.95196507 0.95236205]\t[0.95196507 0.95275903 0.95613339]\n",
            "True     \t[0.9511711  0.95633188 0.953553  ]\t[0.71498156 0.69617367 0.58045077]\t104  \t16       \t32            \t0.0192454               \t163         \t0.953685\t[0.07826495 0.07329845 0.05903125]\t[0.9511711  0.95633188 0.953553  ]\t[0.95414847 0.95394998 0.9557364 ]\n",
            "True     \t[0.95037713 0.953553   0.95275903]\t[0.72486925 0.72995806 0.529737  ]\t105  \t16       \t32            \t0.0192454               \t163         \t0.95223 \t[0.07889605 0.07455373 0.05876255]\t[0.95037713 0.953553   0.95275903]\t[0.95533942 0.9511711  0.95275903]\n",
            "True     \t[0.95156808 0.95394998 0.95474395]\t[0.72006917 0.72238588 0.52578235]\t106  \t16       \t32            \t0.0192454               \t163         \t0.953421\t[0.08106804 0.08391213 0.05770087]\t[0.95156808 0.95394998 0.95474395]\t[0.953553   0.95434696 0.953553  ]\n",
            "True     \t[0.95514093 0.95037713 0.95553791]\t[0.72747636 0.73181391 0.53170538]\t107  \t16       \t32            \t0.0192454               \t163         \t0.953685\t[0.10158229 0.0954144  0.05745506]\t[0.95514093 0.95037713 0.95553791]\t[0.95414847 0.95414847 0.95653037]\n",
            "True     \t[0.95077412 0.95315601 0.95275903]\t[0.74477696 0.74799538 0.51505971]\t108  \t16       \t32            \t0.0192454               \t163         \t0.95223 \t[0.07998705 0.07480645 0.06341386]\t[0.95077412 0.95315601 0.95275903]\t[0.953553   0.95196507 0.95216356]\n",
            "True     \t[0.95196507 0.95672886 0.95315601]\t[0.694525   0.69612169 0.53010535]\t109  \t16       \t29            \t0.0192454               \t163         \t0.95395 \t[0.07746124 0.08636189 0.05778241]\t[0.95196507 0.95672886 0.95315601]\t[0.95613339 0.95474395 0.95375149]\n",
            "True     \t[0.95593489 0.95275903 0.94958317]\t[0.72042298 0.71491814 0.5487237 ]\t110  \t16       \t32            \t0.0192454               \t163         \t0.952759\t[0.07582998 0.07449365 0.05750155]\t[0.95593489 0.95275903 0.94958317]\t[0.95514093 0.95375149 0.95414847]\n",
            "True     \t[0.95037713 0.95474395 0.9511711 ]\t[0.72711062 0.76691437 0.54035425]\t111  \t16       \t29            \t0.0192454               \t163         \t0.952097\t[0.07977128 0.07776785 0.05515432]\t[0.95037713 0.95474395 0.9511711 ]\t[0.95414847 0.95275903 0.95394998]\n",
            "True     \t[0.95514093 0.953553   0.953553  ]\t[0.73022437 0.73028183 0.52152014]\t112  \t16       \t32            \t0.0192454               \t163         \t0.954082\t[0.07754683 0.07255244 0.05537128]\t[0.95514093 0.953553   0.953553  ]\t[0.95672886 0.95335451 0.95454545]\n",
            "True     \t[0.95196507 0.95752283 0.94442239]\t[0.71934724 0.70139337 0.54520273]\t113  \t16       \t29            \t0.0192454               \t163         \t0.951303\t[0.08008122 0.0751574  0.05584192]\t[0.95196507 0.95752283 0.94442239]\t[0.95335451 0.95414847 0.95017864]\n",
            "True     \t[0.95236205 0.95633188 0.95037713]\t[0.69778752 0.7046752  0.53265357]\t114  \t16       \t32            \t0.0192454               \t163         \t0.953024\t[0.07768607 0.07349372 0.0560286 ]\t[0.95236205 0.95633188 0.95037713]\t[0.95454545 0.95514093 0.95275903]\n",
            "True     \t[0.95315601 0.96030171 0.95752283]\t[0.76037836 0.74353886 0.53319454]\t115  \t16       \t32            \t0.0165794               \t163         \t0.956994\t[0.08116221 0.07415223 0.05603266]\t[0.95315601 0.96030171 0.95752283]\t[0.95752283 0.96188964 0.95672886]\n",
            "True     \t[0.95315601 0.95553791 0.95394998]\t[0.72299767 0.72741127 0.52236342]\t116  \t16       \t29            \t0.0192454               \t163         \t0.954215\t[0.07629418 0.07340455 0.06301332]\t[0.95315601 0.95553791 0.95394998]\t[0.95692735 0.95394998 0.95454545]\n",
            "True     \t[0.95196507 0.95474395 0.95156808]\t[0.73103023 0.72136259 0.52394724]\t117  \t16       \t29            \t0.0192454               \t163         \t0.952759\t[0.07969618 0.07468987 0.05683708]\t[0.95196507 0.95474395 0.95156808]\t[0.95176657 0.95196507 0.95494244]\n",
            "True     \t[0.95434696 0.95037713 0.95394998]\t[1.03051162 1.03569198 0.72759771]\t118  \t16       \t32            \t0.0192454               \t236         \t0.952891\t[0.10645127 0.10545087 0.07864475]\t[0.95434696 0.95037713 0.95394998]\t[0.95414847 0.95335451 0.95335451]\n",
            "True     \t[0.95275903 0.95474395 0.95236205]\t[1.01339531 1.0160377  0.76051331]\t119  \t16       \t29            \t0.0192454               \t236         \t0.953288\t[0.10874987 0.10271096 0.07825971]\t[0.95275903 0.95474395 0.95236205]\t[0.95454545 0.95533942 0.95256054]\n",
            "True     \t[0.95037713 0.95236205 0.95315601]\t[1.00901461 1.02240968 0.73883009]\t120  \t16       \t32            \t0.0192454               \t236         \t0.951965\t[0.10811067 0.10261536 0.07942772]\t[0.95037713 0.95236205 0.95315601]\t[0.95375149 0.95256054 0.95216356]\n",
            "True     \t[0.95593489 0.95434696 0.9511711 ]\t[0.69176936 0.70457339 0.54342628]\t121  \t16       \t32            \t0.0192454               \t163         \t0.953818\t[0.07411742 0.07498407 0.05819297]\t[0.95593489 0.95434696 0.9511711 ]\t[0.95514093 0.95315601 0.95434696]\n",
            "True     \t[0.953553   0.95236205 0.94680429]\t[0.69839931 0.68683171 0.52646017]\t122  \t16       \t32            \t0.0192454               \t163         \t0.950906\t[0.0769856  0.07174778 0.0554781 ]\t[0.953553   0.95236205 0.94680429]\t[0.95236205 0.95335451 0.9511711 ]\n",
            "True     \t[0.94918618 0.95474395 0.95553791]\t[0.72269058 0.73499608 0.50929451]\t123  \t16       \t29            \t0.0192454               \t163         \t0.953156\t[0.07886291 0.07426095 0.05755901]\t[0.94918618 0.95474395 0.95553791]\t[0.95434696 0.95375149 0.95454545]\n",
            "True     \t[0.95633188 0.953553   0.9511711 ]\t[0.99666977 1.00911331 0.76358795]\t124  \t16       \t29            \t0.0192454               \t236         \t0.953685\t[0.11092305 0.10884857 0.08157873]\t[0.95633188 0.953553   0.9511711 ]\t[0.953553   0.95434696 0.95414847]\n",
            "True     \t[0.95593489 0.95394998 0.95394998]\t[0.71118116 0.74619842 0.50420403]\t125  \t16       \t32            \t0.0165794               \t163         \t0.954612\t[0.08078384 0.07547927 0.05709052]\t[0.95593489 0.95394998 0.95394998]\t[0.9557364  0.95494244 0.95653037]\n",
            "True     \t[0.94680429 0.9511711  0.95990472]\t[0.68571019 0.71409082 0.49261379]\t126  \t16       \t32            \t0.0192454               \t163         \t0.952627\t[0.07418489 0.07572937 0.05526972]\t[0.94680429 0.9511711  0.95990472]\t[0.95533942 0.95414847 0.95375149]\n",
            "True     \t[0.86383486 0.86383486 0.86383486]\t[0.56287551 0.55725789 0.41132116]\t127  \t16       \t3             \t0.0192454               \t163         \t0.863835\t[0.06897569 0.0648458  0.0497489 ]\t[0.86383486 0.86383486 0.86383486]\t[0.86383486 0.86363636 0.86383486]\n",
            "True     \t[0.94124653 0.94283446 0.95037713]\t[0.63215375 0.61282635 0.44406509]\t128  \t16       \t8             \t0.0192454               \t163         \t0.944819\t[0.07811546 0.06918859 0.05204248]\t[0.94124653 0.94283446 0.95037713]\t[0.94581183 0.94204049 0.94958317]\n",
            "True     \t[0.95275903 0.9511711  0.95553791]\t[0.70034122 0.6970253  0.51803637]\t129  \t16       \t32            \t0.0192454               \t163         \t0.953156\t[0.0793786  0.07527161 0.05709887]\t[0.95275903 0.9511711  0.95553791]\t[0.95474395 0.95136959 0.95454545]\n",
            "True     \t[0.95633188 0.95394998 0.95156808]\t[0.71561313 0.72765517 0.53565717]\t130  \t16       \t32            \t0.0192454               \t163         \t0.95395 \t[0.07767487 0.07525754 0.05644155]\t[0.95633188 0.95394998 0.95156808]\t[0.95533942 0.95414847 0.95216356]\n",
            "True     \t[0.95236205 0.95315601 0.94561334]\t[0.72933102 0.72460294 0.50242066]\t131  \t16       \t32            \t0.0192454               \t163         \t0.950377\t[0.08088636 0.07949138 0.05734754]\t[0.95236205 0.95315601 0.94561334]\t[0.95176657 0.95176657 0.94938468]\n",
            "True     \t[0.95077412 0.95831679 0.95236205]\t[0.68381047 0.68922877 0.5227232 ]\t132  \t16       \t32            \t0.0192454               \t163         \t0.953818\t[0.07785606 0.07577324 0.05648565]\t[0.95077412 0.95831679 0.95236205]\t[0.953553   0.95533942 0.95275903]\n",
            "True     \t[0.94958317 0.95633188 0.95434696]\t[0.67849469 0.68469095 0.51629019]\t133  \t16       \t32            \t0.0192454               \t163         \t0.953421\t[0.07795262 0.07293415 0.05549717]\t[0.94958317 0.95633188 0.95434696]\t[0.95275903 0.9557364  0.95414847]\n",
            "True     \t[0.95474395 0.95077412 0.95434696]\t[0.68598652 0.70394254 0.48345923]\t134  \t16       \t32            \t0.0192454               \t163         \t0.953288\t[0.07527256 0.07398605 0.0547688 ]\t[0.95474395 0.95077412 0.95434696]\t[0.95474395 0.95394998 0.95434696]\n",
            "True     \t[0.95514093 0.94998015 0.95236205]\t[0.71533227 0.7082963  0.51443624]\t135  \t16       \t32            \t0.0192454               \t163         \t0.952494\t[0.07922149 0.07410288 0.05341721]\t[0.95514093 0.94998015 0.95236205]\t[0.95692735 0.95176657 0.95196507]\n",
            "True     \t[0.95037713 0.95077412 0.95315601]\t[0.68748617 0.68932009 0.48413277]\t136  \t16       \t32            \t0.0192454               \t163         \t0.951436\t[0.07493591 0.07130527 0.05664849]\t[0.95037713 0.95077412 0.95315601]\t[0.95375149 0.95136959 0.94918618]\n",
            "True     \t[0.95434696 0.95514093 0.94720127]\t[0.70827341 0.69953728 0.50308251]\t137  \t16       \t32            \t0.0192454               \t163         \t0.95223 \t[0.09668684 0.08915925 0.05593514]\t[0.95434696 0.95514093 0.94720127]\t[0.95514093 0.95256054 0.95454545]\n",
            "True     \t[0.95077412 0.95275903 0.95593489]\t[0.70989323 0.70531726 0.51442719]\t138  \t16       \t32            \t0.0192454               \t163         \t0.953156\t[0.07621217 0.07727957 0.05565715]\t[0.95077412 0.95275903 0.95593489]\t[0.95414847 0.95275903 0.9557364 ]\n",
            "True     \t[0.89281461 0.91226677 0.88805081]\t[0.57766318 0.56516171 0.43318319]\t139  \t16       \t5             \t0.0192454               \t163         \t0.897711\t[0.069839   0.06586123 0.04925871]\t[0.89281461 0.91226677 0.88805081]\t[0.89440254 0.9140532  0.88884478]\n",
            "True     \t[0.95196507 0.953553   0.95196507]\t[0.72466588 0.70005202 0.49695182]\t140  \t16       \t32            \t0.0192454               \t163         \t0.952494\t[0.08046055 0.07558227 0.05422449]\t[0.95196507 0.953553   0.95196507]\t[0.95335451 0.95315601 0.95514093]\n",
            "True     \t[0.95633188 0.95474395 0.9511711 ]\t[0.73125577 0.70659995 0.55042505]\t141  \t16       \t32            \t0.0192454               \t163         \t0.954082\t[0.08064294 0.07283473 0.05455446]\t[0.95633188 0.95474395 0.9511711 ]\t[0.95315601 0.95593489 0.95474395]\n",
            "True     \t[0.95156808 0.95514093 0.95275903]\t[0.73261237 0.72189474 0.52792096]\t142  \t16       \t32            \t0.0192454               \t163         \t0.953156\t[0.07836914 0.07243586 0.05459833]\t[0.95156808 0.95514093 0.95275903]\t[0.95236205 0.95633188 0.95394998]\n",
            "True     \t[0.9511711  0.95514093 0.953553  ]\t[0.73891521 0.68889713 0.5585382 ]\t143  \t16       \t32            \t0.0192454               \t163         \t0.953288\t[0.08112144 0.06847739 0.05507517]\t[0.9511711  0.95514093 0.953553  ]\t[0.95176657 0.95553791 0.95474395]\n",
            "True     \t[0.95474395 0.953553   0.94918618]\t[0.71425247 0.71916962 0.50983882]\t144  \t16       \t29            \t0.0192454               \t163         \t0.952494\t[0.07848525 0.07810378 0.0566833 ]\t[0.95474395 0.953553   0.94918618]\t[0.95275903 0.95196507 0.95593489]\n",
            "True     \t[0.95156808 0.95315601 0.95514093]\t[0.71835661 0.70720339 0.5287385 ]\t145  \t16       \t32            \t0.0192454               \t163         \t0.953288\t[0.0745194  0.07230449 0.05725813]\t[0.95156808 0.95315601 0.95514093]\t[0.95335451 0.95176657 0.95335451]\n",
            "True     \t[0.9511711  0.95275903 0.95236205]\t[0.69053078 0.67033362 0.53933859]\t146  \t16       \t32            \t0.0192454               \t163         \t0.952097\t[0.07927179 0.07328343 0.05897164]\t[0.9511711  0.95275903 0.95236205]\t[0.9511711  0.95295752 0.95494244]\n",
            "True     \t[0.95077412 0.95434696 0.95474395]\t[0.71357417 0.70152211 0.5427742 ]\t147  \t16       \t32            \t0.0192454               \t163         \t0.953288\t[0.08117056 0.07308364 0.05907917]\t[0.95077412 0.95434696 0.95474395]\t[0.95256054 0.95375149 0.95633188]\n",
            "False    \t[0.95236205 0.95037713 0.95553791]\t[0.78613067 0.79555917 0.60650039]\t148  \t16       \t32            \t0.0192454               \t163         \t0.952759\t[0.07385397 0.07463288 0.05584145]\t[0.95236205 0.95037713 0.95553791]\t[0.95414847 0.95335451 0.95236205]\n",
            "True     \t[0.9511711  0.9511711  0.95514093]\t[0.69562197 0.69906998 0.50129557]\t149  \t16       \t32            \t0.0192454               \t163         \t0.952494\t[0.07389259 0.07118368 0.06097531]\t[0.9511711  0.9511711  0.95514093]\t[0.95454545 0.95394998 0.95275903]\n",
            "True     \t[0.95394998 0.95434696 0.95434696]\t[0.7202816  0.70668674 0.51445556]\t150  \t16       \t32            \t0.0192454               \t163         \t0.954215\t[0.07916665 0.07430863 0.05702114]\t[0.95394998 0.95434696 0.95434696]\t[0.95553791 0.95335451 0.95256054]\n",
            "True     \t[0.95474395 0.95156808 0.95315601]\t[0.68723583 0.68857026 0.51797771]\t151  \t16       \t32            \t0.0192454               \t163         \t0.953156\t[0.0775373  0.08083916 0.05771351]\t[0.95474395 0.95156808 0.95315601]\t[0.95553791 0.9511711  0.95394998]\n",
            "False    \t[0.94998015 0.95553791 0.95315601]\t[0.77535462 0.78875351 0.61806774]\t152  \t16       \t32            \t0.0192454               \t163         \t0.952891\t[0.07609177 0.07394934 0.05890608]\t[0.94998015 0.95553791 0.95315601]\t[0.95335451 0.95315601 0.95275903]\n",
            "True     \t[0.95196507 0.95434696 0.94918618]\t[0.6602447  0.67793798 0.52036452]\t153  \t16       \t32            \t0.0192454               \t163         \t0.951833\t[0.07419014 0.07519126 0.05748844]\t[0.95196507 0.95434696 0.94918618]\t[0.95156808 0.95394998 0.95375149]\n",
            "True     \t[0.95156808 0.95514093 0.953553  ]\t[0.73755121 0.71438289 0.52234149]\t154  \t16       \t32            \t0.0192454               \t163         \t0.953421\t[0.07772923 0.07133174 0.05902267]\t[0.95156808 0.95514093 0.953553  ]\t[0.95414847 0.95196507 0.95454545]\n",
            "False    \t[0.95275903 0.95275903 0.95633188]\t[0.78970265 0.79137039 0.57281327]\t155  \t16       \t32            \t0.0192454               \t163         \t0.95395 \t[0.07892752 0.07565737 0.05641747]\t[0.95275903 0.95275903 0.95633188]\t[0.95236205 0.95315601 0.95633188]\n",
            "False    \t[0.953553   0.95037713 0.95633188]\t[0.81618905 0.79903483 0.61978436]\t156  \t16       \t32            \t0.0192454               \t163         \t0.953421\t[0.07918525 0.07287431 0.05539298]\t[0.953553   0.95037713 0.95633188]\t[0.95196507 0.953553   0.95533942]\n",
            "True     \t[0.95156808 0.9511711  0.95434696]\t[0.71718574 0.71382928 0.53668976]\t157  \t16       \t32            \t0.0192454               \t163         \t0.952362\t[0.07900834 0.074615   0.05586505]\t[0.95156808 0.9511711  0.95434696]\t[0.95275903 0.95176657 0.95613339]\n",
            "True     \t[0.95315601 0.95553791 0.9511711 ]\t[0.72318649 0.70953918 0.53508496]\t158  \t16       \t32            \t0.0192454               \t163         \t0.953288\t[0.07890487 0.07346535 0.05602217]\t[0.95315601 0.95553791 0.9511711 ]\t[0.95295752 0.95514093 0.95474395]\n",
            "True     \t[0.95275903 0.95037713 0.94958317]\t[0.70658398 0.70182562 0.51003814]\t159  \t16       \t32            \t0.0192454               \t163         \t0.950906\t[0.09613657 0.07702923 0.05553579]\t[0.95275903 0.95037713 0.94958317]\t[0.95394998 0.95533942 0.94958317]\n",
            "True     \t[0.94720127 0.95593489 0.95394998]\t[0.7381382  0.72267032 0.5231266 ]\t160  \t16       \t27            \t0.0192454               \t163         \t0.952362\t[0.07674885 0.07382917 0.05680108]\t[0.94720127 0.95593489 0.95394998]\t[0.95494244 0.95256054 0.95256054]\n",
            "True     \t[0.95514093 0.95275903 0.95156808]\t[0.7061708  0.6912694  0.51001096]\t161  \t16       \t32            \t0.0192454               \t163         \t0.953156\t[0.07670999 0.07242012 0.05625701]\t[0.95514093 0.95275903 0.95156808]\t[0.953553   0.95256054 0.95613339]\n",
            "False    \t[0.9511711  0.95672886 0.94720127]\t[0.7671814  0.75271177 0.5782361 ]\t162  \t16       \t32            \t0.0192454               \t163         \t0.9517  \t[0.07559633 0.07710052 0.05430269]\t[0.9511711  0.95672886 0.94720127]\t[0.95196507 0.95454545 0.953553  ]\n",
            "True     \t[0.953553   0.9511711  0.95394998]\t[0.70185852 0.7107482  0.51341224]\t163  \t16       \t32            \t0.0192454               \t163         \t0.952891\t[0.07518005 0.07250166 0.05542827]\t[0.953553   0.9511711  0.95394998]\t[0.95394998 0.95375149 0.95256054]\n",
            "True     \t[0.95196507 0.95394998 0.95315601]\t[0.71169019 0.727669   0.52931976]\t164  \t16       \t32            \t0.0192454               \t163         \t0.953024\t[0.07402802 0.07171774 0.05711675]\t[0.95196507 0.95394998 0.95315601]\t[0.95514093 0.95256054 0.95494244]\n",
            "True     \t[0.95236205 0.95672886 0.95474395]\t[0.91105366 0.94501448 0.69836664]\t165  \t16       \t32            \t0.0192454               \t216         \t0.954612\t[0.09758258 0.09751558 0.07249808]\t[0.95236205 0.95672886 0.95474395]\t[0.95514093 0.95434696 0.95454545]\n",
            "True     \t[0.95315601 0.95633188 0.95394998]\t[0.69120979 0.70325494 0.51806307]\t166  \t16       \t32            \t0.0192454               \t163         \t0.954479\t[0.07391191 0.07371211 0.05338621]\t[0.95315601 0.95633188 0.95394998]\t[0.95653037 0.95315601 0.95295752]\n",
            "True     \t[0.95275903 0.95434696 0.95434696]\t[0.68302965 0.68959379 0.53270674]\t167  \t16       \t32            \t0.0192454               \t163         \t0.953818\t[0.0762918  0.07418489 0.0561676 ]\t[0.95275903 0.95434696 0.95434696]\t[0.95335451 0.95295752 0.95494244]\n",
            "False    \t[0.95077412 0.95077412 0.95434696]\t[0.7926228  0.77438855 0.59280491]\t168  \t16       \t32            \t0.0192454               \t163         \t0.951965\t[0.0781002  0.07424068 0.05670834]\t[0.95077412 0.95077412 0.95434696]\t[0.95275903 0.9511711  0.95335451]\n",
            "False    \t[0.95315601 0.95037713 0.95394998]\t[0.73924041 0.73852563 0.57906103]\t169  \t16       \t32            \t0.0192454               \t163         \t0.952494\t[0.07276773 0.07082891 0.0559721 ]\t[0.95315601 0.95037713 0.95394998]\t[0.95474395 0.95236205 0.95375149]\n",
            "True     \t[0.95394998 0.95077412 0.94918618]\t[0.71785903 0.71489215 0.50372982]\t170  \t16       \t32            \t0.0192454               \t163         \t0.951303\t[0.07778382 0.07431483 0.054281  ]\t[0.95394998 0.95077412 0.94918618]\t[0.95236205 0.95275903 0.95176657]\n",
            "True     \t[0.953553   0.95315601 0.95275903]\t[0.67320776 0.69262862 0.52038932]\t171  \t16       \t32            \t0.0192454               \t163         \t0.953156\t[0.0728271  0.07391119 0.05488157]\t[0.953553   0.95315601 0.95275903]\t[0.95414847 0.95315601 0.95434696]\n",
            "True     \t[0.95831679 0.95236205 0.95553791]\t[0.72399449 0.69885159 0.50561047]\t172  \t16       \t32            \t0.0192454               \t163         \t0.955406\t[0.07775831 0.07529759 0.0550077 ]\t[0.95831679 0.95236205 0.95553791]\t[0.95672886 0.95375149 0.95692735]\n",
            "True     \t[0.95315601 0.95315601 0.94998015]\t[0.68663287 0.69830298 0.5067687 ]\t173  \t16       \t32            \t0.0192454               \t163         \t0.952097\t[0.0875268  0.0782702  0.05425906]\t[0.95315601 0.95315601 0.94998015]\t[0.95335451 0.95414847 0.95196507]\n",
            "False    \t[0.95712584 0.953553   0.94720127]\t[0.77276778 0.78042078 0.59983397]\t174  \t16       \t32            \t0.0192454               \t163         \t0.952627\t[0.07478404 0.07354403 0.05628514]\t[0.95712584 0.953553   0.94720127]\t[0.95732434 0.95256054 0.95295752]\n",
            "True     \t[0.95633188 0.94561334 0.94998015]\t[0.92638612 0.93259907 0.70141411]\t175  \t16       \t32            \t0.0192454               \t216         \t0.950642\t[0.09784961 0.09427857 0.07214856]\t[0.95633188 0.94561334 0.94998015]\t[0.95613339 0.94739976 0.95454545]\n",
            "True     \t[0.95196507 0.95394998 0.95474395]\t[0.92959428 0.93491387 0.67118335]\t176  \t16       \t32            \t0.0192454               \t216         \t0.953553\t[0.09817338 0.09538531 0.07527828]\t[0.95196507 0.95394998 0.95474395]\t[0.95394998 0.95335451 0.95533942]\n",
            "True     \t[0.95752283 0.95315601 0.94918618]\t[0.68942666 0.70939708 0.51281238]\t177  \t16       \t32            \t0.0192454               \t163         \t0.953288\t[0.07358217 0.07193446 0.05389714]\t[0.95752283 0.95315601 0.94918618]\t[0.95553791 0.953553   0.95514093]\n",
            "True     \t[0.94759825 0.95553791 0.953553  ]\t[0.71622443 0.69854999 0.52146769]\t178  \t16       \t32            \t0.0192454               \t163         \t0.95223 \t[0.07565641 0.07100677 0.0558176 ]\t[0.94759825 0.95553791 0.953553  ]\t[0.95315601 0.95414847 0.95474395]\n",
            "True     \t[0.953553   0.95553791 0.94799524]\t[0.88636518 0.87674236 0.69729543]\t179  \t16       \t32            \t0.0192454               \t216         \t0.952362\t[0.11335778 0.11087966 0.07588744]\t[0.953553   0.95553791 0.94799524]\t[0.95394998 0.95315601 0.953553  ]\n",
            "True     \t[0.95474395 0.95077412 0.95553791]\t[0.91750073 0.91578627 0.66232109]\t180  \t16       \t32            \t0.0192454               \t216         \t0.953685\t[0.10384488 0.09541726 0.07411957]\t[0.95474395 0.95077412 0.95553791]\t[0.95553791 0.95454545 0.953553  ]\n",
            "True     \t[0.95394998 0.95514093 0.95394998]\t[0.7543292  0.74735594 0.52735543]\t181  \t16       \t32            \t0.0192454               \t163         \t0.954347\t[0.08579683 0.07687187 0.05461287]\t[0.95394998 0.95514093 0.95394998]\t[0.95196507 0.95533942 0.95613339]\n",
            "True     \t[0.95434696 0.95394998 0.94998015]\t[0.68835974 0.6869669  0.52173901]\t182  \t16       \t32            \t0.0192454               \t163         \t0.952759\t[0.08409643 0.07633138 0.05611157]\t[0.95434696 0.95394998 0.94998015]\t[0.95315601 0.95414847 0.95335451]\n",
            "True     \t[0.95633188 0.95156808 0.95315601]\t[0.72477341 0.70462346 0.5268352 ]\t183  \t16       \t32            \t0.0192454               \t163         \t0.953685\t[0.07889915 0.07399964 0.05507898]\t[0.95633188 0.95156808 0.95315601]\t[0.95653037 0.95434696 0.953553  ]\n",
            "True     \t[0.95474395 0.95196507 0.95315601]\t[0.68243766 0.68169999 0.50870061]\t184  \t16       \t32            \t0.0192454               \t163         \t0.953288\t[0.07479763 0.0732739  0.06075859]\t[0.95474395 0.95196507 0.95315601]\t[0.95533942 0.95375149 0.95295752]\n",
            "True     \t[0.95196507 0.95236205 0.95434696]\t[0.72714615 0.76782417 0.52924132]\t185  \t16       \t26            \t0.0192454               \t163         \t0.952891\t[0.08474541 0.07487035 0.05580854]\t[0.95196507 0.95236205 0.95434696]\t[0.95335451 0.95295752 0.95494244]\n",
            "True     \t[0.95275903 0.95672886 0.95196507]\t[0.70624733 0.71791482 0.53104734]\t186  \t16       \t32            \t0.0192454               \t163         \t0.953818\t[0.07448077 0.07353258 0.05582643]\t[0.95275903 0.95672886 0.95196507]\t[0.95454545 0.95414847 0.95315601]\n",
            "True     \t[0.95514093 0.95077412 0.95196507]\t[0.96272516 0.94558096 0.72079158]\t187  \t16       \t32            \t0.0192454               \t216         \t0.952627\t[0.10300422 0.09855103 0.07702088]\t[0.95514093 0.95077412 0.95196507]\t[0.95375149 0.95295752 0.95414847]\n",
            "True     \t[0.95196507 0.9511711  0.95593489]\t[0.7135911  0.71982265 0.52154493]\t188  \t16       \t32            \t0.0192454               \t163         \t0.953024\t[0.07769656 0.07484579 0.05602908]\t[0.95196507 0.9511711  0.95593489]\t[0.953553   0.95375149 0.95514093]\n",
            "True     \t[0.95474395 0.95315601 0.95275903]\t[0.93427515 0.95922709 0.7069943 ]\t189  \t16       \t32            \t0.0192454               \t216         \t0.953553\t[0.09924531 0.10032082 0.07461905]\t[0.95474395 0.95315601 0.95275903]\t[0.953553   0.95454545 0.95454545]\n",
            "True     \t[0.95236205 0.95434696 0.94799524]\t[0.74803424 0.74034023 0.56163406]\t190  \t16       \t32            \t0.0192454               \t163         \t0.951568\t[0.08093882 0.07803702 0.05756927]\t[0.95236205 0.95434696 0.94799524]\t[0.95156808 0.95394998 0.95236205]\n",
            "True     \t[0.95156808 0.95275903 0.95434696]\t[0.71379876 0.71195126 0.51176286]\t191  \t16       \t32            \t0.0192454               \t163         \t0.952891\t[0.07834005 0.07626534 0.05534196]\t[0.95156808 0.95275903 0.95434696]\t[0.95275903 0.95375149 0.95295752]\n",
            "True     \t[0.95236205 0.95434696 0.95474395]\t[0.95361996 0.9597013  0.67631173]\t192  \t16       \t32            \t0.0192454               \t216         \t0.953818\t[0.1006937  0.0969727  0.07277632]\t[0.95236205 0.95434696 0.95474395]\t[0.95394998 0.953553   0.95315601]\n",
            "True     \t[0.95434696 0.95275903 0.95037713]\t[0.94534373 0.94430661 0.66743255]\t193  \t15       \t32            \t0.0192454               \t216         \t0.952494\t[0.10233498 0.09951544 0.07196641]\t[0.95434696 0.95275903 0.95037713]\t[0.95295752 0.95474395 0.95236205]\n",
            "True     \t[0.95236205 0.953553   0.95593489]\t[0.92454123 0.90064979 0.66161752]\t194  \t16       \t32            \t0.0192454               \t216         \t0.95395 \t[0.09958887 0.09373164 0.07448506]\t[0.95236205 0.953553   0.95593489]\t[0.95414847 0.95315601 0.95633188]\n",
            "True     \t[0.95394998 0.95275903 0.94998015]\t[0.93591022 0.94301176 0.67859364]\t195  \t16       \t32            \t0.0192454               \t216         \t0.95223 \t[0.10142946 0.09783959 0.07275248]\t[0.95394998 0.95275903 0.94998015]\t[0.95275903 0.95256054 0.95434696]\n",
            "True     \t[0.95037713 0.953553   0.95434696]\t[0.9234376  0.94976282 0.71500182]\t196  \t16       \t32            \t0.0192454               \t216         \t0.952759\t[0.098423   0.09407449 0.07508612]\t[0.95037713 0.953553   0.95434696]\t[0.95414847 0.95256054 0.95335451]\n",
            "True     \t[0.95514093 0.95315601 0.95077412]\t[0.69577026 0.6942203  0.537503  ]\t197  \t16       \t32            \t0.0192454               \t163         \t0.953024\t[0.07917142 0.07645869 0.05630183]\t[0.95514093 0.95315601 0.95077412]\t[0.95474395 0.95295752 0.95514093]\n",
            "True     \t[0.95156808 0.95672886 0.95394998]\t[0.94114923 0.9274137  0.67860055]\t198  \t16       \t32            \t0.0192454               \t216         \t0.954082\t[0.1001296  0.09671116 0.07186151]\t[0.95156808 0.95672886 0.95394998]\t[0.953553   0.95315601 0.95553791]\n"
          ]
        }
      ]
    },
    {
      "cell_type": "code",
      "source": [
        "evolved_estimator.hof"
      ],
      "metadata": {
        "colab": {
          "base_uri": "https://localhost:8080/"
        },
        "id": "xaWaZJLHEtym",
        "outputId": "26728e95-42e5-4625-deb6-4c5d379df66d"
      },
      "execution_count": null,
      "outputs": [
        {
          "output_type": "execute_result",
          "data": {
            "text/plain": [
              "{0: {'bootstrap': True,\n",
              "  'max_depth': 16,\n",
              "  'max_leaf_nodes': 32,\n",
              "  'min_weight_fraction_leaf': 0.016579443235020405,\n",
              "  'n_estimators': 163},\n",
              " 1: {'bootstrap': True,\n",
              "  'max_depth': 16,\n",
              "  'max_leaf_nodes': 32,\n",
              "  'min_weight_fraction_leaf': 0.019245437578258293,\n",
              "  'n_estimators': 216},\n",
              " 2: {'bootstrap': True,\n",
              "  'max_depth': 16,\n",
              "  'max_leaf_nodes': 32,\n",
              "  'min_weight_fraction_leaf': 0.019245437578258293,\n",
              "  'n_estimators': 163},\n",
              " 3: {'bootstrap': True,\n",
              "  'max_depth': 16,\n",
              "  'max_leaf_nodes': 29,\n",
              "  'min_weight_fraction_leaf': 0.019245437578258293,\n",
              "  'n_estimators': 163}}"
            ]
          },
          "metadata": {},
          "execution_count": 26
        }
      ]
    },
    {
      "cell_type": "code",
      "execution_count": null,
      "metadata": {
        "id": "2ech_tzbRWo6",
        "colab": {
          "base_uri": "https://localhost:8080/"
        },
        "outputId": "086376a6-56dd-43da-f44e-38cc99ba213c"
      },
      "outputs": [
        {
          "output_type": "stream",
          "name": "stdout",
          "text": [
            "[0.8517069297947147, 0.8501190881252126]\n",
            "[0.9026879891119428, 0.9026879891119428]\n",
            "[0.9104003629352387, 0.9104003629352387]\n",
            "[0.8943518203470568, 0.8943518203470568]\n",
            "[0.9522513326528298, 0.9522513326528298]\n",
            "[0.9614381308835205, 0.9614381308835205]\n",
            "[0.973857321084269, 0.973857321084269]\n",
            "[0.9748780764432347, 0.9748780764432347]\n",
            "[0.9772598389474878, 0.9772598389474878]\n",
            "[0.9810026085970285, 0.9810026085970285]\n",
            "[0.9318362254735171, 0.9318362254735171]\n",
            "[0.909719859362595, 0.909719859362595]\n",
            "[0.9489622320517183, 0.9489622320517183]\n",
            "[0.9455597141884995, 0.9455597141884995]\n",
            "[0.9426675740047635, 0.9426675740047635]\n",
            "Accuracy score after genetic algorithm is= 0.9417602359079051\n"
          ]
        }
      ],
      "source": [
        "chromo,score=generations(size=20,n_feat=43,n_parents=10,mutation_rate=0.10,\n",
        "                     n_gen=15,X_train=X_train,X_test=X_test,y_train=y_train,y_test=y_test)\n",
        "clf.fit(X_train.iloc[:,chromo[-1]],y_train)\n",
        "predictions = clf.predict(X_test.iloc[:,chromo[-1]])\n",
        "print(\"Accuracy score after genetic algorithm is= \"+str(accuracy_score(y_test,predictions)))"
      ]
    },
    {
      "cell_type": "code",
      "execution_count": null,
      "metadata": {
        "id": "dJsbGXgumgmF",
        "colab": {
          "base_uri": "https://localhost:8080/"
        },
        "outputId": "86ee8574-699f-4f80-8b37-cb7cd56a2d99"
      },
      "outputs": [
        {
          "output_type": "stream",
          "name": "stdout",
          "text": [
            "[0.8480775774072814, 0.8464897357377793]\n",
            "[0.8592491777248498, 0.8592491777248498]\n",
            "[0.86049676760803, 0.86049676760803]\n",
            "[0.9275263695134399, 0.9275263695134399]\n",
            "[0.9131790858568675, 0.9131790858568675]\n",
            "[0.9132925031189747, 0.9132925031189747]\n",
            "[0.8867528637858683, 0.8867528637858683]\n",
            "[0.8990586367245095, 0.8990586367245095]\n",
            "[0.9080753090620393, 0.9080753090620393]\n",
            "[0.8912328456391063, 0.8912328456391063]\n",
            "[0.9176590677101055, 0.9176590677101055]\n",
            "[0.9208914596801633, 0.9208914596801633]\n",
            "[0.9242372689123285, 0.9242372689123285]\n",
            "[0.9388680957241692, 0.9388680957241692]\n",
            "[0.9371668367925599, 0.9371668367925599]\n",
            "Accuracy score after genetic algorithm is= 0.9358058296472723\n"
          ]
        }
      ],
      "source": [
        "chromo,score=generations(size=20,n_feat=43,n_parents=10,mutation_rate=0.10,\n",
        "                     n_gen=15,X_train=X_train,X_test=X_test,y_train=y_train,y_test=y_test)\n",
        "logmodel.fit(X_train.iloc[:,chromo[-1]],y_train)\n",
        "predictions = logmodel.predict(X_test.iloc[:,chromo[-1]])\n",
        "print(\"Accuracy score after genetic algorithm is= \"+str(accuracy_score(y_test,predictions)))"
      ]
    },
    {
      "cell_type": "markdown",
      "source": [
        "##we can select the features with the help of the genetic selection function"
      ],
      "metadata": {
        "id": "j4Z14Ee_IMBB"
      }
    },
    {
      "cell_type": "code",
      "execution_count": null,
      "metadata": {
        "id": "g-1GAM6-8CRU",
        "colab": {
          "base_uri": "https://localhost:8080/"
        },
        "outputId": "136c9a9d-69f2-4116-edc6-5ec85d329e6f"
      },
      "outputs": [
        {
          "output_type": "stream",
          "name": "stdout",
          "text": [
            "Feature Selection: Index(['service', 'flag', 'src_bytes', 'is_host_login', 'same_srv_rate',\n",
            "       'diff_srv_rate', 'dst_host_count', 'dst_host_srv_diff_host_rate',\n",
            "       'dst_host_serror_rate', 'level'],\n",
            "      dtype='object')\n"
          ]
        }
      ],
      "source": [
        "from genetic_selection import GeneticSelectionCV\n",
        "from sklearn.preprocessing import LabelEncoder\n",
        "from sklearn.tree import DecisionTreeClassifier\n",
        "import pandas as pd\n",
        "import numpy as np\n",
        "\n",
        "df = pd.read_csv('/content/KDDTrain+_20Percent.txt')\n",
        "\n",
        "df = df.replace((np.inf, -np.inf, np.nan), 0).reset_index(drop=True)\n",
        "\n",
        "columns = (['duration','protocol_type','service','flag','src_bytes','dst_bytes','land','wrong_fragment','urgent','hot','num_failed_logins'\n",
        ",'logged_in','num_compromised','root_shell','su_attempted','num_root','num_file_creations','num_shells','num_access_files','num_outbound_cmds'\n",
        ",'is_host_login','is_guest_login','count','srv_count','serror_rate','srv_serror_rate','rerror_rate','srv_rerror_rate','same_srv_rate'\n",
        ",'diff_srv_rate','srv_diff_host_rate','dst_host_count','dst_host_srv_count','dst_host_same_srv_rate','dst_host_diff_srv_rate'\n",
        ",'dst_host_same_src_port_rate','dst_host_srv_diff_host_rate','dst_host_serror_rate','dst_host_srv_serror_rate','dst_host_rerror_rate','dst_host_srv_rerror_rate'\n",
        ",'attack','level'])\n",
        "\n",
        "df.columns = columns\n",
        "    \n",
        "protocol_type_encoder = LabelEncoder()\n",
        "df['protocol_type']=protocol_type_encoder.fit_transform(df['protocol_type'].astype(str))\n",
        "\n",
        "service_encoder = LabelEncoder()\n",
        "df['service']=service_encoder.fit_transform(df['service'].astype(str))\n",
        "\n",
        "flag_encoder = LabelEncoder()\n",
        "df['flag']=flag_encoder.fit_transform(df['flag'].astype(str))\n",
        "\n",
        "attack_encoder = LabelEncoder()\n",
        "df['attack']=attack_encoder.fit_transform(df['attack'].astype(str))\n",
        "\n",
        "x = df.drop('attack',axis=1)\n",
        "Y = df['attack']\n",
        "estimators = DecisionTreeClassifier()\n",
        "models = GeneticSelectionCV(\n",
        "    estimators, cv=5, verbose=0,\n",
        "    scoring=\"accuracy\", max_features=10,\n",
        "    n_population=100, crossover_proba=0.6,\n",
        "    mutation_proba=0.05, n_generations=15,\n",
        "    crossover_independent_proba=0.5,\n",
        "    mutation_independent_proba=0.04,\n",
        "    tournament_size=3, n_gen_no_change=10,\n",
        "    caching=True, n_jobs=-1)\n",
        "models = models.fit(x, Y)\n",
        "print('Feature Selection:', x.columns[models.support_])"
      ]
    },
    {
      "cell_type": "code",
      "source": [
        "#split dataset in features and target variable\n",
        "feature_cols = ['service', 'flag', 'src_bytes', 'is_host_login', 'same_srv_rate',\n",
        "       'diff_srv_rate', 'dst_host_count', 'dst_host_srv_diff_host_rate',\n",
        "       'dst_host_serror_rate', 'level']\n",
        "x = df[feature_cols] # Features\n",
        "Y = df['attack'] # Target variable"
      ],
      "metadata": {
        "id": "uzspvuSMuyGu"
      },
      "execution_count": null,
      "outputs": []
    },
    {
      "cell_type": "code",
      "source": [
        "# Split dataset into training set and test set\n",
        "x_train, x_test, Y_train, Y_test = train_test_split(x, Y, test_size=0.3, random_state=1) # 70% training and 30% test"
      ],
      "metadata": {
        "id": "FPoFDo4suyDV"
      },
      "execution_count": null,
      "outputs": []
    },
    {
      "cell_type": "code",
      "source": [
        "# Create Decision Tree classifer object\n",
        "clf = DecisionTreeClassifier()\n",
        "\n",
        "# Train Decision Tree Classifer\n",
        "clf = clf.fit(x_train,Y_train)\n",
        "\n",
        "#Predict the response for test dataset\n",
        "Y_pred = clf.predict(x_test)\n",
        "\n",
        "# Model Accuracy, how often is the classifier correct?\n",
        "print(\"Accuracy:\",metrics.accuracy_score(Y_test, Y_pred))"
      ],
      "metadata": {
        "id": "iDiT4vOauyAq",
        "colab": {
          "base_uri": "https://localhost:8080/"
        },
        "outputId": "65546406-adfa-46db-fdd5-112835b8e912"
      },
      "execution_count": null,
      "outputs": [
        {
          "output_type": "stream",
          "name": "stdout",
          "text": [
            "Accuracy: 0.9949722148716592\n"
          ]
        }
      ]
    }
  ],
  "metadata": {
    "colab": {
      "name": "Genetic_Algorithm_KDD.ipynb",
      "provenance": [],
      "include_colab_link": true
    },
    "kernelspec": {
      "display_name": "Python 3",
      "name": "python3"
    },
    "language_info": {
      "name": "python"
    }
  },
  "nbformat": 4,
  "nbformat_minor": 0
}